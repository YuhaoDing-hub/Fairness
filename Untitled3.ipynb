{
 "cells": [
  {
   "cell_type": "code",
   "execution_count": 2,
   "metadata": {},
   "outputs": [
    {
     "name": "stdout",
     "output_type": "stream",
     "text": [
      "<class 'pandas.core.frame.DataFrame'>\n",
      "RangeIndex: 32561 entries, 0 to 32560\n",
      "Data columns (total 15 columns):\n",
      " #   Column          Non-Null Count  Dtype \n",
      "---  ------          --------------  ----- \n",
      " 0   Age             32561 non-null  int64 \n",
      " 1   Workclass       32561 non-null  object\n",
      " 2   fnlgwt          32561 non-null  int64 \n",
      " 3   Education       32561 non-null  object\n",
      " 4   Education num   32561 non-null  int64 \n",
      " 5   Marital Status  32561 non-null  object\n",
      " 6   Occupation      32561 non-null  object\n",
      " 7   Relationship    32561 non-null  object\n",
      " 8   Race            32561 non-null  object\n",
      " 9   Sex             32561 non-null  object\n",
      " 10  Capital Gain    32561 non-null  int64 \n",
      " 11  Capital Loss    32561 non-null  int64 \n",
      " 12  Hours/Week      32561 non-null  int64 \n",
      " 13  Native country  32561 non-null  object\n",
      " 14  Income          32561 non-null  object\n",
      "dtypes: int64(6), object(9)\n",
      "memory usage: 3.7+ MB\n",
      "Working on Workclass\n",
      "Working on Education\n",
      "Working on Marital Status\n",
      "Working on Occupation\n",
      "Working on Relationship\n",
      "Working on Race\n",
      "Working on Sex\n",
      "Working on Native country\n"
     ]
    }
   ],
   "source": [
    "#####################Import the packages \n",
    "import numpy as np\n",
    "import pandas as pd\n",
    "import matplotlib as mpl\n",
    "import matplotlib.pyplot as plt \n",
    "import seaborn as sn\n",
    "from sklearn.model_selection import train_test_split\n",
    "from sklearn.model_selection import cross_validate\n",
    "from sklearn import preprocessing,  svm\n",
    "from sklearn.linear_model import LogisticRegression\n",
    "from sklearn.preprocessing import StandardScaler\n",
    "from sklearn.metrics import confusion_matrix, classification_report\n",
    "%matplotlib inline\n",
    "from sklearn.ensemble import RandomForestClassifier\n",
    "from sklearn.metrics import accuracy_score\n",
    "import seaborn as sns\n",
    "from aequitas.group import Group\n",
    "from aequitas.bias import Bias\n",
    "from aequitas.fairness import Fairness\n",
    "from aequitas.plotting import Plot\n",
    "%matplotlib inline\n",
    "####################IMPORT THE DATABASE\n",
    "\n",
    "columns = ['Age','Workclass','fnlgwt','Education','Education num','Marital Status',\n",
    "           'Occupation','Relationship','Race','Sex','Capital Gain','Capital Loss',\n",
    "           'Hours/Week','Native country','Income']\n",
    "train = pd.read_csv('adult-training.csv', names=columns)\n",
    "test = pd.read_csv('adult-test.csv', names=columns, skiprows=1)\n",
    "train.info()\n",
    "\n",
    "####################Clean the Data\n",
    "train = pd.read_csv('adult-training.csv', names=columns)\n",
    "test = pd.read_csv('adult-test.csv', names=columns, skiprows=1)\n",
    "df = pd.concat([train, test], axis=0, ignore_index=True)\n",
    "dff=df\n",
    "k=df\n",
    "\n",
    "df['Income'] = df['Income'].apply(lambda x: 1 if x==' >50K' else 0)\n",
    "\n",
    "for col in df.columns:\n",
    "    if type(df[col][0]) == str:\n",
    "        print(\"Working on \" + col)\n",
    "        df[col] = df[col].apply(lambda val: val.replace(\" \",\"\"))\n",
    "\n",
    "        \n",
    "####################REMOVE UNKNOWNS\n",
    "    \n",
    "df.replace(' ?', np.nan, inplace=True)###making copy for visualization\n",
    "\n",
    "\n",
    "#################### Converting to int\n",
    "\n",
    "df = pd.concat([df, pd.get_dummies(df['Workclass'],prefix='Workclass',prefix_sep=':')], axis=1)\n",
    "df.drop('Workclass',axis=1,inplace=True)\n",
    "\n",
    "df = pd.concat([df, pd.get_dummies(df['Marital Status'],prefix='Marital Status',prefix_sep=':')], axis=1)\n",
    "df.drop('Marital Status',axis=1,inplace=True)\n",
    "\n",
    "df = pd.concat([df, pd.get_dummies(df['Occupation'],prefix='Occupation',prefix_sep=':')], axis=1)\n",
    "df.drop('Occupation',axis=1,inplace=True)\n",
    "\n",
    "df = pd.concat([df, pd.get_dummies(df['Relationship'],prefix='Relationship',prefix_sep=':')], axis=1)\n",
    "df.drop('Relationship',axis=1,inplace=True)\n",
    "\n",
    "df = pd.concat([df, pd.get_dummies(df['Race'],prefix='Race',prefix_sep=':')], axis=1)\n",
    "df.drop('Race',axis=1,inplace=True)\n",
    "\n",
    "df = pd.concat([df, pd.get_dummies(df['Sex'],prefix='Sex',prefix_sep=':')], axis=1)\n",
    "df.drop('Sex',axis=1,inplace=True)\n",
    "\n",
    "df = pd.concat([df, pd.get_dummies(df['Native country'],prefix='Native country',prefix_sep=':')], axis=1)\n",
    "df.drop('Native country',axis=1,inplace=True)\n",
    "\n",
    "df.drop('Education', axis=1,inplace=True)\n",
    "\n",
    "df.head()\n",
    "\n",
    "def get_train_df(dff, idx1):\n",
    "    f_df = dff.iloc[idx1,:]\n",
    "    f_df = f_df.rename(columns = {'Income' : 'label_value'})\n",
    "    return f_df\n",
    "def get_train_df2(dff, idx2):\n",
    "    f_df = dff.iloc[idx2,:]\n",
    "    f_df = f_df.rename(columns = {'Income' : 'label_value'})\n",
    "    return f_df\n",
    "def get_train_df3(dff, idx2, features = ['Race', 'Sex','Income']):\n",
    "    f_df = dff.iloc[idx2,:][features]\n",
    "    f_df = f_df.rename(columns = {'Income' : 'label_value'})\n",
    "    return f_df\n",
    "def get_test_df(dff, idx2, features = ['Race', 'Sex','Income']):\n",
    "    f_df = dff.iloc[idx2,:][features]\n",
    "    f_df = f_df.rename(columns = {'Income' : 'label_value'})\n",
    "    return f_df\n",
    "def get_test_df2(dff, idx2):\n",
    "    f_df = dff.iloc[idx2,:]\n",
    "    f_df = f_df.rename(columns = {'Income' : 'label_value'})\n",
    "    return f_df\n",
    "########### Preparing data for Training and testing \n",
    "\n",
    "X = df.drop(['Income'], axis = 1)\n",
    "y = df['Income']\n",
    "X = preprocessing.scale(X)\n",
    "y = df['Income']\n",
    "indices = np.arange(len(y))\n",
    "\n"
   ]
  },
  {
   "cell_type": "code",
   "execution_count": 13,
   "metadata": {
    "scrolled": true
   },
   "outputs": [
    {
     "name": "stdout",
     "output_type": "stream",
     "text": [
      "Executing loop 1\n",
      "model_id, score_thresholds 1 {'rank_abs': [6097]}\n",
      "executing sub-group 1\n",
      "Ratio is 1   sample is 17\n",
      "model_id, score_thresholds 1 {'rank_abs': [1002]}\n",
      "fn 183 852\n",
      "fp 43 357\n",
      "tn 2840 4892\n",
      "tp 63 539\n",
      "MALE:  500 FEMALE 7\n",
      "test accuracy= 0.888115467294503\n",
      "model_id, score_thresholds 1 {'rank_abs': [1346]}\n"
     ]
    },
    {
     "name": "stderr",
     "output_type": "stream",
     "text": [
      "D:\\Anacode\\lib\\site-packages\\ipykernel_launcher.py:170: UserWarning: Boolean Series key will be reindexed to match DataFrame index.\n",
      "D:\\Anacode\\lib\\site-packages\\ipykernel_launcher.py:172: UserWarning: Boolean Series key will be reindexed to match DataFrame index.\n",
      "D:\\Anacode\\lib\\site-packages\\ipykernel_launcher.py:175: UserWarning: Boolean Series key will be reindexed to match DataFrame index.\n",
      "D:\\Anacode\\lib\\site-packages\\ipykernel_launcher.py:181: UserWarning: Boolean Series key will be reindexed to match DataFrame index.\n"
     ]
    },
    {
     "name": "stdout",
     "output_type": "stream",
     "text": [
      "fn 177 515\n",
      "fp 43 358\n",
      "tn 2840 4891\n",
      "tp 69 876\n",
      "75 done.\n",
      "baseline accuracy= 0.8932336984338213\n",
      "model_id, score_thresholds 1 {'rank_abs': [1396]}\n",
      "fn 177 465\n",
      "fp 43 358\n",
      "tn 2840 4891\n",
      "tp 69 926\n",
      "baseline2 accuracy= 0.8086805200122837\n",
      "model_id, score_thresholds 1 {'rank_abs': [310]}\n",
      "executing sub-group 2\n",
      "Ratio is 2   sample is 35\n",
      "model_id, score_thresholds 1 {'rank_abs': [1002]}\n",
      "fn 183 852\n",
      "fp 43 357\n",
      "tn 2840 4892\n",
      "tp 63 539\n",
      "MALE:  633 FEMALE 112\n",
      "test accuracy= 0.9291636810318354\n",
      "model_id, score_thresholds 1 {'rank_abs': [1745]}\n"
     ]
    },
    {
     "name": "stderr",
     "output_type": "stream",
     "text": [
      "D:\\Anacode\\lib\\site-packages\\ipykernel_launcher.py:170: UserWarning: Boolean Series key will be reindexed to match DataFrame index.\n",
      "D:\\Anacode\\lib\\site-packages\\ipykernel_launcher.py:172: UserWarning: Boolean Series key will be reindexed to match DataFrame index.\n",
      "D:\\Anacode\\lib\\site-packages\\ipykernel_launcher.py:175: UserWarning: Boolean Series key will be reindexed to match DataFrame index.\n",
      "D:\\Anacode\\lib\\site-packages\\ipykernel_launcher.py:181: UserWarning: Boolean Series key will be reindexed to match DataFrame index.\n"
     ]
    },
    {
     "name": "stdout",
     "output_type": "stream",
     "text": [
      "fn 71 221\n",
      "fp 43 357\n",
      "tn 2840 4892\n",
      "tp 175 1170\n",
      "75 done.\n",
      "baseline accuracy= 0.9368410277408128\n",
      "model_id, score_thresholds 1 {'rank_abs': [1820]}\n",
      "fn 71 146\n",
      "fp 43 357\n",
      "tn 2840 4892\n",
      "tp 175 1245\n",
      "baseline2 accuracy= 0.7828846350701197\n",
      "model_id, score_thresholds 1 {'rank_abs': [662]}\n",
      "executing sub-group 3\n",
      "Ratio is 3   sample is 52\n",
      "model_id, score_thresholds 1 {'rank_abs': [1002]}\n",
      "fn 183 852\n",
      "fp 43 357\n",
      "tn 2840 4892\n",
      "tp 63 539\n",
      "MALE:  479 FEMALE 127\n",
      "test accuracy= 0.9151397277101034\n",
      "model_id, score_thresholds 1 {'rank_abs': [1608]}\n"
     ]
    },
    {
     "name": "stderr",
     "output_type": "stream",
     "text": [
      "D:\\Anacode\\lib\\site-packages\\ipykernel_launcher.py:170: UserWarning: Boolean Series key will be reindexed to match DataFrame index.\n",
      "D:\\Anacode\\lib\\site-packages\\ipykernel_launcher.py:172: UserWarning: Boolean Series key will be reindexed to match DataFrame index.\n",
      "D:\\Anacode\\lib\\site-packages\\ipykernel_launcher.py:175: UserWarning: Boolean Series key will be reindexed to match DataFrame index.\n",
      "D:\\Anacode\\lib\\site-packages\\ipykernel_launcher.py:181: UserWarning: Boolean Series key will be reindexed to match DataFrame index.\n"
     ]
    },
    {
     "name": "stdout",
     "output_type": "stream",
     "text": [
      "fn 56 373\n",
      "fp 43 357\n",
      "tn 2840 4892\n",
      "tp 190 1018\n",
      "75 done.\n",
      "baseline accuracy= 0.9228170744190808\n",
      "model_id, score_thresholds 1 {'rank_abs': [1683]}\n",
      "fn 56 298\n",
      "fp 43 357\n",
      "tn 2840 4892\n",
      "tp 190 1093\n",
      "baseline2 accuracy= 0.7901525232879517\n",
      "model_id, score_thresholds 1 {'rank_abs': [537]}\n",
      "executing sub-group 4\n",
      "Ratio is 4   sample is 70\n",
      "model_id, score_thresholds 1 {'rank_abs': [1002]}\n",
      "fn 183 852\n",
      "fp 43 357\n",
      "tn 2840 4892\n",
      "tp 63 539\n",
      "MALE:  666 FEMALE 101\n",
      "test accuracy= 0.9316204319787081\n",
      "model_id, score_thresholds 1 {'rank_abs': [1769]}\n"
     ]
    },
    {
     "name": "stderr",
     "output_type": "stream",
     "text": [
      "D:\\Anacode\\lib\\site-packages\\ipykernel_launcher.py:170: UserWarning: Boolean Series key will be reindexed to match DataFrame index.\n",
      "D:\\Anacode\\lib\\site-packages\\ipykernel_launcher.py:172: UserWarning: Boolean Series key will be reindexed to match DataFrame index.\n",
      "D:\\Anacode\\lib\\site-packages\\ipykernel_launcher.py:175: UserWarning: Boolean Series key will be reindexed to match DataFrame index.\n",
      "D:\\Anacode\\lib\\site-packages\\ipykernel_launcher.py:181: UserWarning: Boolean Series key will be reindexed to match DataFrame index.\n"
     ]
    },
    {
     "name": "stdout",
     "output_type": "stream",
     "text": [
      "fn 82 186\n",
      "fp 43 357\n",
      "tn 2840 4892\n",
      "tp 164 1205\n",
      "75 done.\n",
      "baseline accuracy= 0.9392977786876855\n",
      "model_id, score_thresholds 1 {'rank_abs': [1844]}\n",
      "fn 82 111\n",
      "fp 43 357\n",
      "tn 2840 4892\n",
      "tp 164 1280\n",
      "baseline2 accuracy= 0.7779711331763742\n",
      "model_id, score_thresholds 1 {'rank_abs': [688]}\n",
      "executing sub-group 5\n",
      "Ratio is 5   sample is 88\n",
      "model_id, score_thresholds 1 {'rank_abs': [1002]}\n",
      "fn 183 852\n",
      "fp 43 357\n",
      "tn 2840 4892\n",
      "tp 63 539\n",
      "MALE:  619 FEMALE 41\n",
      "test accuracy= 0.9206674173405671\n",
      "model_id, score_thresholds 1 {'rank_abs': [1662]}\n"
     ]
    },
    {
     "name": "stderr",
     "output_type": "stream",
     "text": [
      "D:\\Anacode\\lib\\site-packages\\ipykernel_launcher.py:170: UserWarning: Boolean Series key will be reindexed to match DataFrame index.\n",
      "D:\\Anacode\\lib\\site-packages\\ipykernel_launcher.py:172: UserWarning: Boolean Series key will be reindexed to match DataFrame index.\n",
      "D:\\Anacode\\lib\\site-packages\\ipykernel_launcher.py:175: UserWarning: Boolean Series key will be reindexed to match DataFrame index.\n",
      "D:\\Anacode\\lib\\site-packages\\ipykernel_launcher.py:181: UserWarning: Boolean Series key will be reindexed to match DataFrame index.\n"
     ]
    },
    {
     "name": "stdout",
     "output_type": "stream",
     "text": [
      "fn 142 233\n",
      "fp 43 357\n",
      "tn 2840 4892\n",
      "tp 104 1158\n",
      "75 done.\n",
      "baseline accuracy= 0.9283447640495445\n",
      "model_id, score_thresholds 1 {'rank_abs': [1737]}\n",
      "fn 142 158\n",
      "fp 43 357\n",
      "tn 2840 4892\n",
      "tp 104 1233\n",
      "baseline2 accuracy= 0.7867744907360016\n",
      "model_id, score_thresholds 1 {'rank_abs': [600]}\n",
      "executing sub-group 6\n",
      "Ratio is 6   sample is 105\n",
      "model_id, score_thresholds 1 {'rank_abs': [1002]}\n",
      "fn 183 852\n",
      "fp 43 357\n",
      "tn 2840 4892\n",
      "tp 63 539\n",
      "MALE:  685 FEMALE 91\n",
      "test accuracy= 0.9325417135837855\n",
      "model_id, score_thresholds 1 {'rank_abs': [1778]}\n"
     ]
    },
    {
     "name": "stderr",
     "output_type": "stream",
     "text": [
      "D:\\Anacode\\lib\\site-packages\\ipykernel_launcher.py:170: UserWarning: Boolean Series key will be reindexed to match DataFrame index.\n",
      "D:\\Anacode\\lib\\site-packages\\ipykernel_launcher.py:172: UserWarning: Boolean Series key will be reindexed to match DataFrame index.\n",
      "D:\\Anacode\\lib\\site-packages\\ipykernel_launcher.py:175: UserWarning: Boolean Series key will be reindexed to match DataFrame index.\n",
      "D:\\Anacode\\lib\\site-packages\\ipykernel_launcher.py:181: UserWarning: Boolean Series key will be reindexed to match DataFrame index.\n"
     ]
    },
    {
     "name": "stdout",
     "output_type": "stream",
     "text": [
      "fn 92 167\n",
      "fp 43 357\n",
      "tn 2840 4892\n",
      "tp 154 1224\n",
      "75 done.\n",
      "baseline accuracy= 0.9402190602927628\n",
      "model_id, score_thresholds 1 {'rank_abs': [1853]}\n",
      "fn 92 92\n",
      "fp 43 357\n",
      "tn 2840 4892\n",
      "tp 154 1299\n",
      "baseline2 accuracy= 0.7796089671409561\n",
      "model_id, score_thresholds 1 {'rank_abs': [692]}\n",
      "executing sub-group 7\n",
      "Ratio is 7   sample is 123\n",
      "model_id, score_thresholds 1 {'rank_abs': [1002]}\n",
      "fn 183 852\n",
      "fp 43 357\n",
      "tn 2840 4892\n",
      "tp 63 539\n",
      "MALE:  648 FEMALE 162\n",
      "test accuracy= 0.9360221107585218\n",
      "model_id, score_thresholds 1 {'rank_abs': [1812]}\n"
     ]
    },
    {
     "name": "stderr",
     "output_type": "stream",
     "text": [
      "D:\\Anacode\\lib\\site-packages\\ipykernel_launcher.py:170: UserWarning: Boolean Series key will be reindexed to match DataFrame index.\n",
      "D:\\Anacode\\lib\\site-packages\\ipykernel_launcher.py:172: UserWarning: Boolean Series key will be reindexed to match DataFrame index.\n",
      "D:\\Anacode\\lib\\site-packages\\ipykernel_launcher.py:175: UserWarning: Boolean Series key will be reindexed to match DataFrame index.\n",
      "D:\\Anacode\\lib\\site-packages\\ipykernel_launcher.py:181: UserWarning: Boolean Series key will be reindexed to match DataFrame index.\n"
     ]
    },
    {
     "name": "stdout",
     "output_type": "stream",
     "text": [
      "fn 21 204\n",
      "fp 43 357\n",
      "tn 2840 4892\n",
      "tp 225 1187\n",
      "75 done.\n",
      "baseline accuracy= 0.9436994574674993\n",
      "model_id, score_thresholds 1 {'rank_abs': [1887]}\n",
      "fn 21 129\n",
      "fp 43 357\n",
      "tn 2840 4892\n",
      "tp 225 1262\n",
      "baseline2 accuracy= 0.7752072883611424\n",
      "model_id, score_thresholds 1 {'rank_abs': [729]}\n",
      "executing sub-group 8\n",
      "Ratio is 8   sample is 140\n",
      "model_id, score_thresholds 1 {'rank_abs': [1002]}\n",
      "fn 183 852\n",
      "fp 43 357\n",
      "tn 2840 4892\n",
      "tp 63 539\n",
      "MALE:  685 FEMALE 145\n",
      "test accuracy= 0.9380694032142491\n",
      "model_id, score_thresholds 1 {'rank_abs': [1832]}\n"
     ]
    },
    {
     "name": "stderr",
     "output_type": "stream",
     "text": [
      "D:\\Anacode\\lib\\site-packages\\ipykernel_launcher.py:170: UserWarning: Boolean Series key will be reindexed to match DataFrame index.\n",
      "D:\\Anacode\\lib\\site-packages\\ipykernel_launcher.py:172: UserWarning: Boolean Series key will be reindexed to match DataFrame index.\n",
      "D:\\Anacode\\lib\\site-packages\\ipykernel_launcher.py:175: UserWarning: Boolean Series key will be reindexed to match DataFrame index.\n",
      "D:\\Anacode\\lib\\site-packages\\ipykernel_launcher.py:181: UserWarning: Boolean Series key will be reindexed to match DataFrame index.\n"
     ]
    },
    {
     "name": "stdout",
     "output_type": "stream",
     "text": [
      "fn 38 167\n",
      "fp 43 357\n",
      "tn 2840 4892\n",
      "tp 208 1224\n",
      "75 done.\n",
      "baseline accuracy= 0.9457467499232265\n",
      "model_id, score_thresholds 1 {'rank_abs': [1907]}\n",
      "fn 38 92\n",
      "fp 43 357\n",
      "tn 2840 4892\n",
      "tp 208 1299\n",
      "baseline2 accuracy= 0.7736718190193469\n",
      "model_id, score_thresholds 1 {'rank_abs': [732]}\n",
      "executing sub-group 9\n",
      "Ratio is 9   sample is 158\n",
      "model_id, score_thresholds 1 {'rank_abs': [1002]}\n",
      "fn 183 852\n",
      "fp 43 357\n",
      "tn 2840 4892\n",
      "tp 63 539\n",
      "MALE:  599 FEMALE 143\n",
      "test accuracy= 0.929061316409049\n",
      "model_id, score_thresholds 1 {'rank_abs': [1744]}\n"
     ]
    },
    {
     "name": "stderr",
     "output_type": "stream",
     "text": [
      "D:\\Anacode\\lib\\site-packages\\ipykernel_launcher.py:170: UserWarning: Boolean Series key will be reindexed to match DataFrame index.\n",
      "D:\\Anacode\\lib\\site-packages\\ipykernel_launcher.py:172: UserWarning: Boolean Series key will be reindexed to match DataFrame index.\n",
      "D:\\Anacode\\lib\\site-packages\\ipykernel_launcher.py:175: UserWarning: Boolean Series key will be reindexed to match DataFrame index.\n",
      "D:\\Anacode\\lib\\site-packages\\ipykernel_launcher.py:181: UserWarning: Boolean Series key will be reindexed to match DataFrame index.\n"
     ]
    },
    {
     "name": "stdout",
     "output_type": "stream",
     "text": [
      "fn 40 253\n",
      "fp 43 357\n",
      "tn 2840 4892\n",
      "tp 206 1138\n",
      "75 done.\n",
      "baseline accuracy= 0.9367386631180264\n",
      "model_id, score_thresholds 1 {'rank_abs': [1819]}\n",
      "fn 40 178\n",
      "fp 43 357\n",
      "tn 2840 4892\n",
      "tp 206 1213\n",
      "baseline2 accuracy= 0.7809397072371789\n",
      "model_id, score_thresholds 1 {'rank_abs': [667]}\n",
      "executing sub-group 10\n",
      "Ratio is 10   sample is 176\n",
      "model_id, score_thresholds 1 {'rank_abs': [1002]}\n",
      "fn 183 852\n",
      "fp 43 357\n",
      "tn 2840 4892\n",
      "tp 63 539\n",
      "MALE:  734 FEMALE 165\n",
      "test accuracy= 0.9451325621865083\n",
      "model_id, score_thresholds 1 {'rank_abs': [1901]}\n"
     ]
    },
    {
     "name": "stderr",
     "output_type": "stream",
     "text": [
      "D:\\Anacode\\lib\\site-packages\\ipykernel_launcher.py:170: UserWarning: Boolean Series key will be reindexed to match DataFrame index.\n",
      "D:\\Anacode\\lib\\site-packages\\ipykernel_launcher.py:172: UserWarning: Boolean Series key will be reindexed to match DataFrame index.\n",
      "D:\\Anacode\\lib\\site-packages\\ipykernel_launcher.py:175: UserWarning: Boolean Series key will be reindexed to match DataFrame index.\n",
      "D:\\Anacode\\lib\\site-packages\\ipykernel_launcher.py:181: UserWarning: Boolean Series key will be reindexed to match DataFrame index.\n"
     ]
    },
    {
     "name": "stdout",
     "output_type": "stream",
     "text": [
      "fn 18 118\n",
      "fp 43 357\n",
      "tn 2840 4892\n",
      "tp 228 1273\n",
      "75 done.\n",
      "baseline accuracy= 0.9528099088954857\n",
      "model_id, score_thresholds 1 {'rank_abs': [1976]}\n",
      "fn 18 43\n",
      "fp 43 357\n",
      "tn 2840 4892\n",
      "tp 228 1348\n",
      "baseline2 accuracy= 0.7692701402395332\n",
      "model_id, score_thresholds 1 {'rank_abs': [805]}\n",
      "executing sub-group 11\n",
      "Ratio is 11   sample is 193\n",
      "model_id, score_thresholds 1 {'rank_abs': [1002]}\n",
      "fn 183 852\n",
      "fp 43 357\n",
      "tn 2840 4892\n",
      "tp 63 539\n",
      "MALE:  694 FEMALE 139\n",
      "test accuracy= 0.9383764970826083\n",
      "model_id, score_thresholds 1 {'rank_abs': [1835]}\n"
     ]
    },
    {
     "name": "stderr",
     "output_type": "stream",
     "text": [
      "D:\\Anacode\\lib\\site-packages\\ipykernel_launcher.py:170: UserWarning: Boolean Series key will be reindexed to match DataFrame index.\n",
      "D:\\Anacode\\lib\\site-packages\\ipykernel_launcher.py:172: UserWarning: Boolean Series key will be reindexed to match DataFrame index.\n",
      "D:\\Anacode\\lib\\site-packages\\ipykernel_launcher.py:175: UserWarning: Boolean Series key will be reindexed to match DataFrame index.\n",
      "D:\\Anacode\\lib\\site-packages\\ipykernel_launcher.py:181: UserWarning: Boolean Series key will be reindexed to match DataFrame index.\n"
     ]
    },
    {
     "name": "stdout",
     "output_type": "stream",
     "text": [
      "fn 44 158\n",
      "fp 43 357\n",
      "tn 2840 4892\n",
      "tp 202 1233\n",
      "75 done.\n",
      "baseline accuracy= 0.9460538437915856\n",
      "model_id, score_thresholds 1 {'rank_abs': [1910]}\n",
      "fn 44 83\n",
      "fp 43 357\n",
      "tn 2840 4892\n",
      "tp 202 1308\n",
      "baseline2 accuracy= 0.7729552666598424\n",
      "model_id, score_thresholds 1 {'rank_abs': [755]}\n",
      "executing sub-group 12\n",
      "Ratio is 12   sample is 211\n",
      "model_id, score_thresholds 1 {'rank_abs': [1002]}\n",
      "fn 183 852\n",
      "fp 43 357\n",
      "tn 2840 4892\n",
      "tp 63 539\n",
      "MALE:  749 FEMALE 162\n",
      "test accuracy= 0.9463609376599447\n",
      "model_id, score_thresholds 1 {'rank_abs': [1913]}\n"
     ]
    },
    {
     "name": "stderr",
     "output_type": "stream",
     "text": [
      "D:\\Anacode\\lib\\site-packages\\ipykernel_launcher.py:170: UserWarning: Boolean Series key will be reindexed to match DataFrame index.\n",
      "D:\\Anacode\\lib\\site-packages\\ipykernel_launcher.py:172: UserWarning: Boolean Series key will be reindexed to match DataFrame index.\n",
      "D:\\Anacode\\lib\\site-packages\\ipykernel_launcher.py:175: UserWarning: Boolean Series key will be reindexed to match DataFrame index.\n",
      "D:\\Anacode\\lib\\site-packages\\ipykernel_launcher.py:181: UserWarning: Boolean Series key will be reindexed to match DataFrame index.\n"
     ]
    },
    {
     "name": "stdout",
     "output_type": "stream",
     "text": [
      "fn 21 103\n",
      "fp 43 357\n",
      "tn 2840 4892\n",
      "tp 225 1288\n",
      "75 done.\n",
      "baseline accuracy= 0.9540382843689221\n",
      "model_id, score_thresholds 1 {'rank_abs': [1988]}\n",
      "fn 21 28\n",
      "fp 43 357\n",
      "tn 2840 4892\n",
      "tp 225 1363\n",
      "baseline2 accuracy= 0.7667110246698741\n",
      "model_id, score_thresholds 1 {'rank_abs': [832]}\n",
      "executing sub-group 13\n",
      "Ratio is 13   sample is 229\n",
      "model_id, score_thresholds 1 {'rank_abs': [1002]}\n",
      "fn 183 852\n",
      "fp 43 357\n",
      "tn 2840 4892\n",
      "tp 63 539\n",
      "MALE:  728 FEMALE 149\n",
      "test accuracy= 0.9428805404852083\n",
      "model_id, score_thresholds 1 {'rank_abs': [1879]}\n"
     ]
    },
    {
     "name": "stderr",
     "output_type": "stream",
     "text": [
      "D:\\Anacode\\lib\\site-packages\\ipykernel_launcher.py:170: UserWarning: Boolean Series key will be reindexed to match DataFrame index.\n",
      "D:\\Anacode\\lib\\site-packages\\ipykernel_launcher.py:172: UserWarning: Boolean Series key will be reindexed to match DataFrame index.\n",
      "D:\\Anacode\\lib\\site-packages\\ipykernel_launcher.py:175: UserWarning: Boolean Series key will be reindexed to match DataFrame index.\n",
      "D:\\Anacode\\lib\\site-packages\\ipykernel_launcher.py:181: UserWarning: Boolean Series key will be reindexed to match DataFrame index.\n"
     ]
    },
    {
     "name": "stdout",
     "output_type": "stream",
     "text": [
      "fn 34 124\n",
      "fp 43 357\n",
      "tn 2840 4892\n",
      "tp 212 1267\n",
      "75 done.\n",
      "baseline accuracy= 0.9505578871941857\n",
      "model_id, score_thresholds 1 {'rank_abs': [1954]}\n",
      "fn 34 49\n",
      "fp 43 357\n",
      "tn 2840 4892\n",
      "tp 212 1342\n",
      "baseline2 accuracy= 0.7732623605282014\n",
      "model_id, score_thresholds 1 {'rank_abs': [782]}\n",
      "executing sub-group 14\n",
      "Ratio is 14   sample is 246\n",
      "model_id, score_thresholds 1 {'rank_abs': [1002]}\n",
      "fn 183 852\n",
      "fp 43 357\n",
      "tn 2840 4892\n",
      "tp 63 539\n",
      "MALE:  745 FEMALE 156\n",
      "test accuracy= 0.9453372914320811\n",
      "model_id, score_thresholds 1 {'rank_abs': [1903]}\n"
     ]
    },
    {
     "name": "stderr",
     "output_type": "stream",
     "text": [
      "D:\\Anacode\\lib\\site-packages\\ipykernel_launcher.py:170: UserWarning: Boolean Series key will be reindexed to match DataFrame index.\n",
      "D:\\Anacode\\lib\\site-packages\\ipykernel_launcher.py:172: UserWarning: Boolean Series key will be reindexed to match DataFrame index.\n",
      "D:\\Anacode\\lib\\site-packages\\ipykernel_launcher.py:175: UserWarning: Boolean Series key will be reindexed to match DataFrame index.\n",
      "D:\\Anacode\\lib\\site-packages\\ipykernel_launcher.py:181: UserWarning: Boolean Series key will be reindexed to match DataFrame index.\n"
     ]
    },
    {
     "name": "stdout",
     "output_type": "stream",
     "text": [
      "fn 27 107\n",
      "fp 43 357\n",
      "tn 2840 4892\n",
      "tp 219 1284\n",
      "75 done.\n",
      "baseline accuracy= 0.9530146381410585\n",
      "model_id, score_thresholds 1 {'rank_abs': [1978]}\n",
      "fn 27 32\n",
      "fp 43 357\n",
      "tn 2840 4892\n",
      "tp 219 1359\n",
      "baseline2 accuracy= 0.7694748694851059\n",
      "model_id, score_thresholds 1 {'rank_abs': [807]}\n",
      "executing sub-group 15\n",
      "Ratio is 15   sample is 264\n",
      "model_id, score_thresholds 1 {'rank_abs': [1002]}\n",
      "fn 183 852\n",
      "fp 43 357\n",
      "tn 2840 4892\n",
      "tp 63 539\n",
      "MALE:  723 FEMALE 148\n",
      "test accuracy= 0.9421639881257038\n",
      "model_id, score_thresholds 1 {'rank_abs': [1872]}\n"
     ]
    },
    {
     "name": "stderr",
     "output_type": "stream",
     "text": [
      "D:\\Anacode\\lib\\site-packages\\ipykernel_launcher.py:170: UserWarning: Boolean Series key will be reindexed to match DataFrame index.\n",
      "D:\\Anacode\\lib\\site-packages\\ipykernel_launcher.py:172: UserWarning: Boolean Series key will be reindexed to match DataFrame index.\n",
      "D:\\Anacode\\lib\\site-packages\\ipykernel_launcher.py:175: UserWarning: Boolean Series key will be reindexed to match DataFrame index.\n",
      "D:\\Anacode\\lib\\site-packages\\ipykernel_launcher.py:181: UserWarning: Boolean Series key will be reindexed to match DataFrame index.\n"
     ]
    },
    {
     "name": "stdout",
     "output_type": "stream",
     "text": [
      "fn 35 130\n",
      "fp 43 357\n",
      "tn 2840 4892\n",
      "tp 211 1261\n",
      "75 done.\n",
      "baseline accuracy= 0.9498413348346811\n",
      "model_id, score_thresholds 1 {'rank_abs': [1947]}\n",
      "fn 35 55\n",
      "fp 43 357\n",
      "tn 2840 4892\n",
      "tp 211 1336\n",
      "baseline2 accuracy= 0.7685535878800287\n",
      "model_id, score_thresholds 1 {'rank_abs': [792]}\n",
      "executing sub-group 16\n",
      "Ratio is 16   sample is 281\n",
      "model_id, score_thresholds 1 {'rank_abs': [1002]}\n",
      "fn 183 852\n",
      "fp 43 357\n",
      "tn 2840 4892\n",
      "tp 63 539\n",
      "MALE:  661 FEMALE 123\n",
      "test accuracy= "
     ]
    },
    {
     "name": "stderr",
     "output_type": "stream",
     "text": [
      "D:\\Anacode\\lib\\site-packages\\ipykernel_launcher.py:170: UserWarning: Boolean Series key will be reindexed to match DataFrame index.\n",
      "D:\\Anacode\\lib\\site-packages\\ipykernel_launcher.py:172: UserWarning: Boolean Series key will be reindexed to match DataFrame index.\n",
      "D:\\Anacode\\lib\\site-packages\\ipykernel_launcher.py:175: UserWarning: Boolean Series key will be reindexed to match DataFrame index.\n",
      "D:\\Anacode\\lib\\site-packages\\ipykernel_launcher.py:181: UserWarning: Boolean Series key will be reindexed to match DataFrame index.\n"
     ]
    },
    {
     "name": "stdout",
     "output_type": "stream",
     "text": [
      "0.9333606305660763\n",
      "model_id, score_thresholds 1 {'rank_abs': [1786]}\n",
      "fn 60 191\n",
      "fp 43 357\n",
      "tn 2840 4892\n",
      "tp 186 1200\n",
      "75 done.\n",
      "baseline accuracy= 0.9410379772750538\n",
      "model_id, score_thresholds 1 {'rank_abs': [1861]}\n",
      "fn 60 116\n",
      "fp 43 357\n",
      "tn 2840 4892\n",
      "tp 186 1275\n",
      "baseline2 accuracy= 0.7766403930801515\n",
      "model_id, score_thresholds 1 {'rank_abs': [711]}\n",
      "executing sub-group 17\n",
      "Ratio is 17   sample is 299\n",
      "model_id, score_thresholds 1 {'rank_abs': [1002]}\n",
      "fn 183 852\n",
      "fp 43 357\n",
      "tn 2840 4892\n",
      "tp 63 539\n",
      "MALE:  612 FEMALE 115\n",
      "test accuracy= 0.9275258470672536\n",
      "model_id, score_thresholds 1 {'rank_abs': [1729]}\n"
     ]
    },
    {
     "name": "stderr",
     "output_type": "stream",
     "text": [
      "D:\\Anacode\\lib\\site-packages\\ipykernel_launcher.py:170: UserWarning: Boolean Series key will be reindexed to match DataFrame index.\n",
      "D:\\Anacode\\lib\\site-packages\\ipykernel_launcher.py:172: UserWarning: Boolean Series key will be reindexed to match DataFrame index.\n",
      "D:\\Anacode\\lib\\site-packages\\ipykernel_launcher.py:175: UserWarning: Boolean Series key will be reindexed to match DataFrame index.\n",
      "D:\\Anacode\\lib\\site-packages\\ipykernel_launcher.py:181: UserWarning: Boolean Series key will be reindexed to match DataFrame index.\n"
     ]
    },
    {
     "name": "stdout",
     "output_type": "stream",
     "text": [
      "fn 68 240\n",
      "fp 43 357\n",
      "tn 2840 4892\n",
      "tp 178 1151\n",
      "75 done.\n",
      "baseline accuracy= 0.935203193776231\n",
      "model_id, score_thresholds 1 {'rank_abs': [1804]}\n",
      "fn 68 165\n",
      "fp 43 357\n",
      "tn 2840 4892\n",
      "tp 178 1226\n",
      "baseline2 accuracy= 0.7810420718599652\n",
      "model_id, score_thresholds 1 {'rank_abs': [644]}\n",
      "executing sub-group 18\n",
      "Ratio is 18   sample is 317\n",
      "model_id, score_thresholds 1 {'rank_abs': [1002]}\n",
      "fn 183 852\n",
      "fp 43 357\n",
      "tn 2840 4892\n",
      "tp 63 539\n",
      "MALE:  698 FEMALE 160\n",
      "test accuracy= 0.9409356126522673\n",
      "model_id, score_thresholds 1 {'rank_abs': [1860]}\n"
     ]
    },
    {
     "name": "stderr",
     "output_type": "stream",
     "text": [
      "D:\\Anacode\\lib\\site-packages\\ipykernel_launcher.py:170: UserWarning: Boolean Series key will be reindexed to match DataFrame index.\n",
      "D:\\Anacode\\lib\\site-packages\\ipykernel_launcher.py:172: UserWarning: Boolean Series key will be reindexed to match DataFrame index.\n",
      "D:\\Anacode\\lib\\site-packages\\ipykernel_launcher.py:175: UserWarning: Boolean Series key will be reindexed to match DataFrame index.\n",
      "D:\\Anacode\\lib\\site-packages\\ipykernel_launcher.py:181: UserWarning: Boolean Series key will be reindexed to match DataFrame index.\n"
     ]
    },
    {
     "name": "stdout",
     "output_type": "stream",
     "text": [
      "fn 23 154\n",
      "fp 43 357\n",
      "tn 2840 4892\n",
      "tp 223 1237\n",
      "75 done.\n",
      "baseline accuracy= 0.9486129593612448\n",
      "model_id, score_thresholds 1 {'rank_abs': [1935]}\n",
      "fn 23 79\n",
      "fp 43 357\n",
      "tn 2840 4892\n",
      "tp 223 1312\n",
      "baseline2 accuracy= 0.7703961510901832\n",
      "model_id, score_thresholds 1 {'rank_abs': [770]}\n",
      "executing sub-group 19\n",
      "Ratio is 19   sample is 334\n",
      "model_id, score_thresholds 1 {'rank_abs': [1002]}\n",
      "fn 183 852\n",
      "fp 43 357\n",
      "tn 2840 4892\n",
      "tp 63 539\n",
      "MALE:  543 FEMALE 113\n",
      "test accuracy= 0.9202579588494216\n",
      "model_id, score_thresholds 1"
     ]
    },
    {
     "name": "stderr",
     "output_type": "stream",
     "text": [
      "D:\\Anacode\\lib\\site-packages\\ipykernel_launcher.py:170: UserWarning: Boolean Series key will be reindexed to match DataFrame index.\n",
      "D:\\Anacode\\lib\\site-packages\\ipykernel_launcher.py:172: UserWarning: Boolean Series key will be reindexed to match DataFrame index.\n",
      "D:\\Anacode\\lib\\site-packages\\ipykernel_launcher.py:175: UserWarning: Boolean Series key will be reindexed to match DataFrame index.\n",
      "D:\\Anacode\\lib\\site-packages\\ipykernel_launcher.py:181: UserWarning: Boolean Series key will be reindexed to match DataFrame index.\n"
     ]
    },
    {
     "name": "stdout",
     "output_type": "stream",
     "text": [
      " {'rank_abs': [1658]}\n",
      "fn 70 309\n",
      "fp 43 357\n",
      "tn 2840 4892\n",
      "tp 176 1082\n",
      "75 done.\n",
      "baseline accuracy= 0.927935305558399\n",
      "model_id, score_thresholds 1 {'rank_abs': [1733]}\n",
      "fn 70 234\n",
      "fp 43 357\n",
      "tn 2840 4892\n",
      "tp 176 1157\n",
      "baseline2 accuracy= 0.7860579383764971\n",
      "model_id, score_thresholds 1 {'rank_abs': [577]}\n",
      "executing sub-group 20\n",
      "Ratio is 20   sample is 352\n",
      "model_id, score_thresholds 1 {'rank_abs': [1002]}\n",
      "fn 183 852\n",
      "fp 43 357\n",
      "tn 2840 4892\n",
      "tp 63 539\n",
      "MALE:  718 FEMALE 100\n",
      "test accuracy= 0.9368410277408128\n",
      "model_id, score_thresholds 1 {'rank_abs': [1820]}\n"
     ]
    },
    {
     "name": "stderr",
     "output_type": "stream",
     "text": [
      "D:\\Anacode\\lib\\site-packages\\ipykernel_launcher.py:170: UserWarning: Boolean Series key will be reindexed to match DataFrame index.\n",
      "D:\\Anacode\\lib\\site-packages\\ipykernel_launcher.py:172: UserWarning: Boolean Series key will be reindexed to match DataFrame index.\n",
      "D:\\Anacode\\lib\\site-packages\\ipykernel_launcher.py:175: UserWarning: Boolean Series key will be reindexed to match DataFrame index.\n",
      "D:\\Anacode\\lib\\site-packages\\ipykernel_launcher.py:181: UserWarning: Boolean Series key will be reindexed to match DataFrame index.\n"
     ]
    },
    {
     "name": "stdout",
     "output_type": "stream",
     "text": [
      "fn 83 134\n",
      "fp 43 357\n",
      "tn 2840 4892\n",
      "tp 163 1257\n",
      "75 done.\n",
      "baseline accuracy= 0.9445183744497901\n",
      "model_id, score_thresholds 1 {'rank_abs': [1895]}\n",
      "fn 83 59\n",
      "fp 43 357\n",
      "tn 2840 4892\n",
      "tp 163 1332\n",
      "baseline2 accuracy= 0.7757191114750742\n",
      "model_id, score_thresholds 1 {'rank_abs': [736]}\n",
      "executing sub-group 21\n",
      "Ratio is 21   sample is 370\n",
      "model_id, score_thresholds 1 {'rank_abs': [1002]}\n",
      "fn 183 852\n",
      "fp 43 357\n",
      "tn 2840 4892\n",
      "tp 63 539\n",
      "MALE:  692 FEMALE 152\n",
      "test accuracy= 0.9395025079332583\n",
      "model_id, score_thresholds 1 {'rank_abs': [1846]}\n"
     ]
    },
    {
     "name": "stderr",
     "output_type": "stream",
     "text": [
      "D:\\Anacode\\lib\\site-packages\\ipykernel_launcher.py:170: UserWarning: Boolean Series key will be reindexed to match DataFrame index.\n",
      "D:\\Anacode\\lib\\site-packages\\ipykernel_launcher.py:172: UserWarning: Boolean Series key will be reindexed to match DataFrame index.\n",
      "D:\\Anacode\\lib\\site-packages\\ipykernel_launcher.py:175: UserWarning: Boolean Series key will be reindexed to match DataFrame index.\n",
      "D:\\Anacode\\lib\\site-packages\\ipykernel_launcher.py:181: UserWarning: Boolean Series key will be reindexed to match DataFrame index.\n"
     ]
    },
    {
     "name": "stdout",
     "output_type": "stream",
     "text": [
      "fn 31 160\n",
      "fp 43 357\n",
      "tn 2840 4892\n",
      "tp 215 1231\n",
      "75 done.\n",
      "baseline accuracy= 0.9471798546422356\n",
      "model_id, score_thresholds 1 {'rank_abs': [1921]}\n",
      "fn 31 85\n",
      "fp 43 357\n",
      "tn 2840 4892\n",
      "tp 215 1306\n",
      "baseline2 accuracy= 0.773978912887706\n",
      "model_id, score_thresholds 1 {'rank_abs': [745]}\n",
      "executing sub-group 22\n",
      "Ratio is 22   sample is 387\n",
      "model_id, score_thresholds 1 {'rank_abs': [1002]}\n",
      "fn 183 852\n",
      "fp 43 357\n",
      "tn 2840 4892\n",
      "tp 63 539\n",
      "MALE:  713 FEMALE 127\n",
      "test accuracy= 0.9390930494421128\n",
      "model_id, score_thresholds 1 {'rank_abs': [1842]}\n"
     ]
    },
    {
     "name": "stderr",
     "output_type": "stream",
     "text": [
      "D:\\Anacode\\lib\\site-packages\\ipykernel_launcher.py:170: UserWarning: Boolean Series key will be reindexed to match DataFrame index.\n",
      "D:\\Anacode\\lib\\site-packages\\ipykernel_launcher.py:172: UserWarning: Boolean Series key will be reindexed to match DataFrame index.\n",
      "D:\\Anacode\\lib\\site-packages\\ipykernel_launcher.py:175: UserWarning: Boolean Series key will be reindexed to match DataFrame index.\n",
      "D:\\Anacode\\lib\\site-packages\\ipykernel_launcher.py:181: UserWarning: Boolean Series key will be reindexed to match DataFrame index.\n"
     ]
    },
    {
     "name": "stdout",
     "output_type": "stream",
     "text": [
      "fn 56 139\n",
      "fp 43 357\n",
      "tn 2840 4892\n",
      "tp 190 1252\n",
      "75 done.\n",
      "baseline accuracy= 0.9467703961510902\n",
      "model_id, score_thresholds 1 {'rank_abs': [1917]}\n",
      "fn 56 64\n",
      "fp 43 357\n",
      "tn 2840 4892\n",
      "tp 190 1327\n",
      "baseline2 accuracy= 0.7761285699662197\n",
      "model_id, score_thresholds 1 {'rank_abs': [756]}\n",
      "executing sub-group 23\n",
      "Ratio is 23   sample is 405\n",
      "model_id, score_thresholds 1 {'rank_abs': [1002]}\n",
      "fn 183 852\n",
      "fp 43 357\n",
      "tn 2840 4892\n",
      "tp 63 539\n",
      "MALE:  759 FEMALE 139\n",
      "test accuracy= 0.9449278329409356\n",
      "model_id, score_thresholds 1 "
     ]
    },
    {
     "name": "stderr",
     "output_type": "stream",
     "text": [
      "D:\\Anacode\\lib\\site-packages\\ipykernel_launcher.py:170: UserWarning: Boolean Series key will be reindexed to match DataFrame index.\n",
      "D:\\Anacode\\lib\\site-packages\\ipykernel_launcher.py:172: UserWarning: Boolean Series key will be reindexed to match DataFrame index.\n",
      "D:\\Anacode\\lib\\site-packages\\ipykernel_launcher.py:175: UserWarning: Boolean Series key will be reindexed to match DataFrame index.\n",
      "D:\\Anacode\\lib\\site-packages\\ipykernel_launcher.py:181: UserWarning: Boolean Series key will be reindexed to match DataFrame index.\n"
     ]
    },
    {
     "name": "stdout",
     "output_type": "stream",
     "text": [
      "{'rank_abs': [1899]}\n",
      "fn 44 94\n",
      "fp 43 357\n",
      "tn 2840 4892\n",
      "tp 202 1297\n",
      "75 done.\n",
      "baseline accuracy= 0.952605179649913\n",
      "model_id, score_thresholds 1 {'rank_abs': [1974]}\n",
      "fn 44 19\n",
      "fp 43 357\n",
      "tn 2840 4892\n",
      "tp 202 1372\n",
      "baseline2 accuracy= 0.7672228477838059\n",
      "model_id, score_thresholds 1 {'rank_abs': [807]}\n",
      "executing sub-group 24\n",
      "Ratio is 24   sample is 422\n",
      "model_id, score_thresholds 1 {'rank_abs': [1002]}\n",
      "fn 183 852\n",
      "fp 43 357\n",
      "tn 2840 4892\n",
      "tp 63 539\n",
      "MALE:  681 FEMALE 146\n",
      "test accuracy= 0.9377623093458901\n",
      "model_id, score_thresholds 1 {'rank_abs': [1829]}\n"
     ]
    },
    {
     "name": "stderr",
     "output_type": "stream",
     "text": [
      "D:\\Anacode\\lib\\site-packages\\ipykernel_launcher.py:170: UserWarning: Boolean Series key will be reindexed to match DataFrame index.\n",
      "D:\\Anacode\\lib\\site-packages\\ipykernel_launcher.py:172: UserWarning: Boolean Series key will be reindexed to match DataFrame index.\n",
      "D:\\Anacode\\lib\\site-packages\\ipykernel_launcher.py:175: UserWarning: Boolean Series key will be reindexed to match DataFrame index.\n",
      "D:\\Anacode\\lib\\site-packages\\ipykernel_launcher.py:181: UserWarning: Boolean Series key will be reindexed to match DataFrame index.\n"
     ]
    },
    {
     "name": "stdout",
     "output_type": "stream",
     "text": [
      "fn 37 171\n",
      "fp 43 357\n",
      "tn 2840 4892\n",
      "tp 209 1220\n",
      "75 done.\n",
      "baseline accuracy= 0.9454396560548675\n",
      "model_id, score_thresholds 1 {'rank_abs': [1904]}\n",
      "fn 37 96\n",
      "fp 43 357\n",
      "tn 2840 4892\n",
      "tp 209 1295\n",
      "baseline2 accuracy= 0.7756167468522879\n",
      "model_id, score_thresholds 1 {'rank_abs': [733]}\n",
      "executing sub-group 25\n",
      "Ratio is 25   sample is 440\n",
      "model_id, score_thresholds 1 {'rank_abs': [1002]}\n",
      "fn 183 852\n",
      "fp 43 357\n",
      "tn 2840 4892\n",
      "tp 63 539\n",
      "MALE:  760 FEMALE 123\n",
      "test accuracy= 0.9434947282219265\n",
      "model_id, score_thresholds 1 {'rank_abs': [1885]}\n"
     ]
    },
    {
     "name": "stderr",
     "output_type": "stream",
     "text": [
      "D:\\Anacode\\lib\\site-packages\\ipykernel_launcher.py:170: UserWarning: Boolean Series key will be reindexed to match DataFrame index.\n",
      "D:\\Anacode\\lib\\site-packages\\ipykernel_launcher.py:172: UserWarning: Boolean Series key will be reindexed to match DataFrame index.\n",
      "D:\\Anacode\\lib\\site-packages\\ipykernel_launcher.py:175: UserWarning: Boolean Series key will be reindexed to match DataFrame index.\n",
      "D:\\Anacode\\lib\\site-packages\\ipykernel_launcher.py:181: UserWarning: Boolean Series key will be reindexed to match DataFrame index.\n"
     ]
    },
    {
     "name": "stdout",
     "output_type": "stream",
     "text": [
      "fn 60 92\n",
      "fp 43 357\n",
      "tn 2840 4892\n",
      "tp 186 1299\n",
      "75 done.\n",
      "baseline accuracy= 0.9511720749309038\n",
      "model_id, score_thresholds 1 {'rank_abs': [1960]}\n",
      "fn 60 17\n",
      "fp 43 357\n",
      "tn 2840 4892\n",
      "tp 186 1374\n",
      "baseline2 accuracy= 0.7688606817483877\n",
      "model_id, score_thresholds 1 {'rank_abs': [809]}\n",
      "executing sub-group 26\n",
      "Ratio is 26   sample is 458\n",
      "model_id, score_thresholds 1 {'rank_abs': [1002]}\n",
      "fn 183 852\n",
      "fp 43 357\n",
      "tn 2840 4892\n",
      "tp 63 539\n",
      "MALE:  672 FEMALE 127\n",
      "test accuracy= "
     ]
    },
    {
     "name": "stderr",
     "output_type": "stream",
     "text": [
      "D:\\Anacode\\lib\\site-packages\\ipykernel_launcher.py:170: UserWarning: Boolean Series key will be reindexed to match DataFrame index.\n",
      "D:\\Anacode\\lib\\site-packages\\ipykernel_launcher.py:172: UserWarning: Boolean Series key will be reindexed to match DataFrame index.\n",
      "D:\\Anacode\\lib\\site-packages\\ipykernel_launcher.py:175: UserWarning: Boolean Series key will be reindexed to match DataFrame index.\n",
      "D:\\Anacode\\lib\\site-packages\\ipykernel_launcher.py:181: UserWarning: Boolean Series key will be reindexed to match DataFrame index.\n"
     ]
    },
    {
     "name": "stdout",
     "output_type": "stream",
     "text": [
      "0.9348960999078718\n",
      "model_id, score_thresholds 1 {'rank_abs': [1801]}\n",
      "fn 56 180\n",
      "fp 43 357\n",
      "tn 2840 4892\n",
      "tp 190 1211\n",
      "75 done.\n",
      "baseline accuracy= 0.9425734466168492\n",
      "model_id, score_thresholds 1 {'rank_abs': [1876]}\n",
      "fn 56 105\n",
      "fp 43 357\n",
      "tn 2840 4892\n",
      "tp 190 1286\n",
      "baseline2 accuracy= 0.7764356638345787\n",
      "model_id, score_thresholds 1 {'rank_abs': [721]}\n",
      "executing sub-group 27\n",
      "Ratio is 27   sample is 475\n",
      "model_id, score_thresholds 1 {'rank_abs': [1002]}\n",
      "fn 183 852\n",
      "fp 43 357\n",
      "tn 2840 4892\n",
      "tp 63 539\n",
      "MALE:  737 FEMALE 163\n",
      "test accuracy= 0.9452349268092947\n",
      "model_id, score_thresholds 1 {'rank_abs': [1902]}\n"
     ]
    },
    {
     "name": "stderr",
     "output_type": "stream",
     "text": [
      "D:\\Anacode\\lib\\site-packages\\ipykernel_launcher.py:170: UserWarning: Boolean Series key will be reindexed to match DataFrame index.\n",
      "D:\\Anacode\\lib\\site-packages\\ipykernel_launcher.py:172: UserWarning: Boolean Series key will be reindexed to match DataFrame index.\n",
      "D:\\Anacode\\lib\\site-packages\\ipykernel_launcher.py:175: UserWarning: Boolean Series key will be reindexed to match DataFrame index.\n",
      "D:\\Anacode\\lib\\site-packages\\ipykernel_launcher.py:181: UserWarning: Boolean Series key will be reindexed to match DataFrame index.\n"
     ]
    },
    {
     "name": "stdout",
     "output_type": "stream",
     "text": [
      "fn 20 115\n",
      "fp 43 357\n",
      "tn 2840 4892\n",
      "tp 226 1276\n",
      "75 done.\n",
      "baseline accuracy= 0.9529122735182721\n",
      "model_id, score_thresholds 1 {'rank_abs': [1977]}\n",
      "fn 20 40\n",
      "fp 43 357\n",
      "tn 2840 4892\n",
      "tp 226 1351\n",
      "baseline2 accuracy= 0.7685535878800287\n",
      "model_id, score_thresholds 1 {'rank_abs': [820]}\n",
      "executing sub-group 28\n",
      "Ratio is 28   sample is 493\n",
      "model_id, score_thresholds 1 {'rank_abs': [1002]}\n",
      "fn 183 852\n",
      "fp 43 357\n",
      "tn 2840 4892\n",
      "tp 63 539\n",
      "MALE:  697 FEMALE 132\n",
      "test accuracy= 0.9379670385914628\n",
      "model_id, score_thresholds 1 {'rank_abs': [1831]}\n"
     ]
    },
    {
     "name": "stderr",
     "output_type": "stream",
     "text": [
      "D:\\Anacode\\lib\\site-packages\\ipykernel_launcher.py:170: UserWarning: Boolean Series key will be reindexed to match DataFrame index.\n",
      "D:\\Anacode\\lib\\site-packages\\ipykernel_launcher.py:172: UserWarning: Boolean Series key will be reindexed to match DataFrame index.\n",
      "D:\\Anacode\\lib\\site-packages\\ipykernel_launcher.py:175: UserWarning: Boolean Series key will be reindexed to match DataFrame index.\n",
      "D:\\Anacode\\lib\\site-packages\\ipykernel_launcher.py:181: UserWarning: Boolean Series key will be reindexed to match DataFrame index.\n"
     ]
    },
    {
     "name": "stdout",
     "output_type": "stream",
     "text": [
      "fn 51 155\n",
      "fp 43 357\n",
      "tn 2840 4892\n",
      "tp 195 1236\n",
      "75 done.\n",
      "baseline accuracy= 0.9456443853004401\n",
      "model_id, score_thresholds 1 {'rank_abs': [1906]}\n",
      "fn 51 80\n",
      "fp 43 357\n",
      "tn 2840 4892\n",
      "tp 195 1311\n",
      "baseline2 accuracy= 0.7761285699662197\n",
      "model_id, score_thresholds 1 {'rank_abs': [750]}\n",
      "executing sub-group 29\n",
      "Ratio is 29   sample is 510\n",
      "model_id, score_thresholds 1 {'rank_abs': [1002]}\n",
      "fn 183 852\n",
      "fp 43 357\n",
      "tn 2840 4892\n",
      "tp 63 539\n",
      "MALE:  727 FEMALE 165\n",
      "test accuracy= 0.9444160098270038\n",
      "model_id, score_thresholds 1 {'rank_abs': [1894]}\n"
     ]
    },
    {
     "name": "stderr",
     "output_type": "stream",
     "text": [
      "D:\\Anacode\\lib\\site-packages\\ipykernel_launcher.py:170: UserWarning: Boolean Series key will be reindexed to match DataFrame index.\n",
      "D:\\Anacode\\lib\\site-packages\\ipykernel_launcher.py:172: UserWarning: Boolean Series key will be reindexed to match DataFrame index.\n",
      "D:\\Anacode\\lib\\site-packages\\ipykernel_launcher.py:175: UserWarning: Boolean Series key will be reindexed to match DataFrame index.\n",
      "D:\\Anacode\\lib\\site-packages\\ipykernel_launcher.py:181: UserWarning: Boolean Series key will be reindexed to match DataFrame index.\n"
     ]
    },
    {
     "name": "stdout",
     "output_type": "stream",
     "text": [
      "fn 18 125\n",
      "fp 43 357\n",
      "tn 2840 4892\n",
      "tp 228 1266\n",
      "75 done.\n",
      "baseline accuracy= 0.9520933565359812\n",
      "model_id, score_thresholds 1 {'rank_abs': [1969]}\n",
      "fn 18 50\n",
      "fp 43 357\n",
      "tn 2840 4892\n",
      "tp 228 1341\n",
      "baseline2 accuracy= 0.7707032449585424\n",
      "model_id, score_thresholds 1 {'rank_abs': [795]}\n",
      "executing sub-group 30\n",
      "Ratio is 30   sample is 528\n",
      "model_id, score_thresholds 1 {'rank_abs': [1002]}\n",
      "fn 183 852\n",
      "fp 43 357\n",
      "tn 2840 4892\n",
      "tp 63 539\n",
      "MALE:  715 FEMALE 162\n",
      "test accuracy= 0.942778175862422\n",
      "model_id, score_thresholds 1 {'rank_abs': [1878]}\n"
     ]
    },
    {
     "name": "stderr",
     "output_type": "stream",
     "text": [
      "D:\\Anacode\\lib\\site-packages\\ipykernel_launcher.py:170: UserWarning: Boolean Series key will be reindexed to match DataFrame index.\n",
      "D:\\Anacode\\lib\\site-packages\\ipykernel_launcher.py:172: UserWarning: Boolean Series key will be reindexed to match DataFrame index.\n",
      "D:\\Anacode\\lib\\site-packages\\ipykernel_launcher.py:175: UserWarning: Boolean Series key will be reindexed to match DataFrame index.\n",
      "D:\\Anacode\\lib\\site-packages\\ipykernel_launcher.py:181: UserWarning: Boolean Series key will be reindexed to match DataFrame index.\n"
     ]
    },
    {
     "name": "stdout",
     "output_type": "stream",
     "text": [
      "fn 21 138\n",
      "fp 43 357\n",
      "tn 2840 4892\n",
      "tp 225 1253\n",
      "75 done.\n",
      "baseline accuracy= 0.950353157948613\n",
      "model_id, score_thresholds 1 {'rank_abs': [1952]}\n",
      "fn 21 64\n",
      "fp 43 357\n",
      "tn 2840 4892\n",
      "tp 225 1327\n",
      "baseline2 accuracy= 0.7706008803357559\n",
      "model_id, score_thresholds 1 {'rank_abs': [790]}\n",
      "executing sub-group 31\n",
      "Ratio is 31   sample is 546\n",
      "model_id, score_thresholds 1 {'rank_abs': [1002]}\n",
      "fn 183 852\n",
      "fp 43 357\n",
      "tn 2840 4892\n",
      "tp 63 539\n",
      "MALE:  728 FEMALE 162\n",
      "test accuracy= 0.9442112805814311\n",
      "model_id, score_thresholds "
     ]
    },
    {
     "name": "stderr",
     "output_type": "stream",
     "text": [
      "D:\\Anacode\\lib\\site-packages\\ipykernel_launcher.py:170: UserWarning: Boolean Series key will be reindexed to match DataFrame index.\n",
      "D:\\Anacode\\lib\\site-packages\\ipykernel_launcher.py:172: UserWarning: Boolean Series key will be reindexed to match DataFrame index.\n",
      "D:\\Anacode\\lib\\site-packages\\ipykernel_launcher.py:175: UserWarning: Boolean Series key will be reindexed to match DataFrame index.\n",
      "D:\\Anacode\\lib\\site-packages\\ipykernel_launcher.py:181: UserWarning: Boolean Series key will be reindexed to match DataFrame index.\n"
     ]
    },
    {
     "name": "stdout",
     "output_type": "stream",
     "text": [
      "1 {'rank_abs': [1892]}\n",
      "fn 21 124\n",
      "fp 43 357\n",
      "tn 2840 4892\n",
      "tp 225 1267\n",
      "75 done.\n",
      "baseline accuracy= 0.9518886272904085\n",
      "model_id, score_thresholds 1 {'rank_abs': [1967]}\n",
      "fn 21 49\n",
      "fp 43 357\n",
      "tn 2840 4892\n",
      "tp 225 1342\n",
      "baseline2 accuracy= 0.7727505374142696\n",
      "model_id, score_thresholds 1 {'rank_abs': [797]}\n",
      "executing sub-group 32\n",
      "Ratio is 32   sample is 563\n",
      "model_id, score_thresholds 1 {'rank_abs': [1002]}\n",
      "fn 183 852\n",
      "fp 43 357\n",
      "tn 2840 4892\n",
      "tp 63 539\n",
      "MALE:  762 FEMALE 167\n",
      "test accuracy= 0.9482035008700993\n"
     ]
    },
    {
     "name": "stderr",
     "output_type": "stream",
     "text": [
      "D:\\Anacode\\lib\\site-packages\\ipykernel_launcher.py:170: UserWarning: Boolean Series key will be reindexed to match DataFrame index.\n",
      "D:\\Anacode\\lib\\site-packages\\ipykernel_launcher.py:172: UserWarning: Boolean Series key will be reindexed to match DataFrame index.\n",
      "D:\\Anacode\\lib\\site-packages\\ipykernel_launcher.py:175: UserWarning: Boolean Series key will be reindexed to match DataFrame index.\n",
      "D:\\Anacode\\lib\\site-packages\\ipykernel_launcher.py:181: UserWarning: Boolean Series key will be reindexed to match DataFrame index.\n"
     ]
    },
    {
     "name": "stdout",
     "output_type": "stream",
     "text": [
      "model_id, score_thresholds 1 {'rank_abs': [1931]}\n",
      "fn 16 90\n",
      "fp 43 357\n",
      "tn 2840 4892\n",
      "tp 230 1301\n",
      "75 done.\n",
      "baseline accuracy= 0.9558808475790767\n",
      "model_id, score_thresholds 1 {'rank_abs': [2006]}\n",
      "fn 16 15\n",
      "fp 43 357\n",
      "tn 2840 4892\n",
      "tp 230 1376\n",
      "baseline2 accuracy= 0.7681441293888832\n",
      "model_id, score_thresholds 1 {'rank_abs': [838]}\n",
      "executing sub-group 33\n",
      "Ratio is 33   sample is 581\n",
      "model_id, score_thresholds 1 {'rank_abs': [1002]}\n",
      "fn 183 852\n",
      "fp 43 357\n",
      "tn 2840 4892\n",
      "tp 63 539\n",
      "MALE:  723 FEMALE 146\n",
      "test accuracy= 0.9420616235029174\n"
     ]
    },
    {
     "name": "stderr",
     "output_type": "stream",
     "text": [
      "D:\\Anacode\\lib\\site-packages\\ipykernel_launcher.py:170: UserWarning: Boolean Series key will be reindexed to match DataFrame index.\n",
      "D:\\Anacode\\lib\\site-packages\\ipykernel_launcher.py:172: UserWarning: Boolean Series key will be reindexed to match DataFrame index.\n",
      "D:\\Anacode\\lib\\site-packages\\ipykernel_launcher.py:175: UserWarning: Boolean Series key will be reindexed to match DataFrame index.\n",
      "D:\\Anacode\\lib\\site-packages\\ipykernel_launcher.py:181: UserWarning: Boolean Series key will be reindexed to match DataFrame index.\n"
     ]
    },
    {
     "name": "stdout",
     "output_type": "stream",
     "text": [
      "model_id, score_thresholds 1 {'rank_abs': [1871]}\n",
      "fn 37 129\n",
      "fp 43 357\n",
      "tn 2840 4892\n",
      "tp 209 1262\n",
      "75 done.\n",
      "baseline accuracy= 0.9497389702118948\n",
      "model_id, score_thresholds 1 {'rank_abs': [1946]}\n",
      "fn 37 54\n",
      "fp 43 357\n",
      "tn 2840 4892\n",
      "tp 209 1337\n",
      "baseline2 accuracy= 0.7694748694851059\n",
      "model_id, score_thresholds 1 {'rank_abs': [791]}\n",
      "executing sub-group 34\n",
      "Ratio is 34   sample is 599\n",
      "model_id, score_thresholds 1 {'rank_abs': [1002]}\n",
      "fn 183 852\n",
      "fp 43 357\n",
      "tn 2840 4892\n",
      "tp 63 539\n",
      "MALE:  697 FEMALE 156\n",
      "test accuracy= 0.9404237895383355\n"
     ]
    },
    {
     "name": "stderr",
     "output_type": "stream",
     "text": [
      "D:\\Anacode\\lib\\site-packages\\ipykernel_launcher.py:170: UserWarning: Boolean Series key will be reindexed to match DataFrame index.\n",
      "D:\\Anacode\\lib\\site-packages\\ipykernel_launcher.py:172: UserWarning: Boolean Series key will be reindexed to match DataFrame index.\n",
      "D:\\Anacode\\lib\\site-packages\\ipykernel_launcher.py:175: UserWarning: Boolean Series key will be reindexed to match DataFrame index.\n",
      "D:\\Anacode\\lib\\site-packages\\ipykernel_launcher.py:181: UserWarning: Boolean Series key will be reindexed to match DataFrame index.\n"
     ]
    },
    {
     "name": "stdout",
     "output_type": "stream",
     "text": [
      "model_id, score_thresholds 1 {'rank_abs': [1855]}\n",
      "fn 27 155\n",
      "fp 43 357\n",
      "tn 2840 4892\n",
      "tp 219 1236\n",
      "75 done.\n",
      "baseline accuracy= 0.948101136247313\n",
      "model_id, score_thresholds 1 {'rank_abs': [1930]}\n",
      "fn 27 80\n",
      "fp 43 357\n",
      "tn 2840 4892\n",
      "tp 219 1311\n",
      "baseline2 accuracy= 0.7730576312826287\n",
      "model_id, score_thresholds 1 {'rank_abs': [770]}\n",
      "executing sub-group 35\n",
      "Ratio is 35   sample is 616\n",
      "model_id, score_thresholds 1 {'rank_abs': [1002]}\n",
      "fn 183 852\n",
      "fp 43 357\n",
      "tn 2840 4892\n",
      "tp 63 539\n",
      "MALE:  646 FEMALE 108\n",
      "test accuracy= 0.9302896918824854\n",
      "model_id, score_thresholds 1 {'rank_abs': [1756]}\n"
     ]
    },
    {
     "name": "stderr",
     "output_type": "stream",
     "text": [
      "D:\\Anacode\\lib\\site-packages\\ipykernel_launcher.py:170: UserWarning: Boolean Series key will be reindexed to match DataFrame index.\n",
      "D:\\Anacode\\lib\\site-packages\\ipykernel_launcher.py:172: UserWarning: Boolean Series key will be reindexed to match DataFrame index.\n",
      "D:\\Anacode\\lib\\site-packages\\ipykernel_launcher.py:175: UserWarning: Boolean Series key will be reindexed to match DataFrame index.\n",
      "D:\\Anacode\\lib\\site-packages\\ipykernel_launcher.py:181: UserWarning: Boolean Series key will be reindexed to match DataFrame index.\n"
     ]
    },
    {
     "name": "stdout",
     "output_type": "stream",
     "text": [
      "fn 75 206\n",
      "fp 43 357\n",
      "tn 2840 4892\n",
      "tp 171 1185\n",
      "75 done.\n",
      "baseline accuracy= 0.9379670385914628\n",
      "model_id, score_thresholds 1 {'rank_abs': [1831]}\n",
      "fn 75 131\n",
      "fp 43 357\n",
      "tn 2840 4892\n",
      "tp 171 1260\n",
      "baseline2 accuracy= 0.7778687685535879\n",
      "model_id, score_thresholds 1 {'rank_abs': [685]}\n",
      "executing sub-group 36\n",
      "Ratio is 36   sample is 634\n",
      "model_id, score_thresholds 1 {'rank_abs': [1002]}\n",
      "fn 183 852\n",
      "fp 43 357\n",
      "tn 2840 4892\n",
      "tp 63 539\n",
      "MALE:  753 FEMALE "
     ]
    },
    {
     "name": "stderr",
     "output_type": "stream",
     "text": [
      "D:\\Anacode\\lib\\site-packages\\ipykernel_launcher.py:170: UserWarning: Boolean Series key will be reindexed to match DataFrame index.\n",
      "D:\\Anacode\\lib\\site-packages\\ipykernel_launcher.py:172: UserWarning: Boolean Series key will be reindexed to match DataFrame index.\n",
      "D:\\Anacode\\lib\\site-packages\\ipykernel_launcher.py:175: UserWarning: Boolean Series key will be reindexed to match DataFrame index.\n",
      "D:\\Anacode\\lib\\site-packages\\ipykernel_launcher.py:181: UserWarning: Boolean Series key will be reindexed to match DataFrame index.\n"
     ]
    },
    {
     "name": "stdout",
     "output_type": "stream",
     "text": [
      "171\n",
      "test accuracy= 0.9476916777561675\n",
      "model_id, score_thresholds 1 {'rank_abs': [1926]}\n",
      "fn 12 99\n",
      "fp 43 357\n",
      "tn 2840 4892\n",
      "tp 234 1292\n",
      "75 done.\n",
      "baseline accuracy= 0.9553690244651448\n",
      "model_id, score_thresholds 1 {'rank_abs': [2001]}\n",
      "fn 12 24\n",
      "fp 43 357\n",
      "tn 2840 4892\n",
      "tp 234 1367\n",
      "baseline2 accuracy= 0.7672228477838059\n",
      "model_id, score_thresholds 1 {'rank_abs': [829]}\n",
      "executing sub-group 37\n",
      "Ratio is 37   sample is 651\n",
      "model_id, score_thresholds 1 {'rank_abs': [1002]}\n",
      "fn 183 852\n",
      "fp 43 357\n",
      "tn 2840 4892\n",
      "tp 63 539\n",
      "MALE:  708 FEMALE 160\n",
      "test accuracy= 0.941959258880131\n",
      "model_id, score_thresholds 1 {'rank_abs': [1870]}\n"
     ]
    },
    {
     "name": "stderr",
     "output_type": "stream",
     "text": [
      "D:\\Anacode\\lib\\site-packages\\ipykernel_launcher.py:170: UserWarning: Boolean Series key will be reindexed to match DataFrame index.\n",
      "D:\\Anacode\\lib\\site-packages\\ipykernel_launcher.py:172: UserWarning: Boolean Series key will be reindexed to match DataFrame index.\n",
      "D:\\Anacode\\lib\\site-packages\\ipykernel_launcher.py:175: UserWarning: Boolean Series key will be reindexed to match DataFrame index.\n",
      "D:\\Anacode\\lib\\site-packages\\ipykernel_launcher.py:181: UserWarning: Boolean Series key will be reindexed to match DataFrame index.\n"
     ]
    },
    {
     "name": "stdout",
     "output_type": "stream",
     "text": [
      "fn 23 144\n",
      "fp 43 357\n",
      "tn 2840 4892\n",
      "tp 223 1247\n",
      "75 done.\n",
      "baseline accuracy= 0.9496366055891085\n",
      "model_id, score_thresholds 1 {'rank_abs': [1945]}\n",
      "fn 23 69\n",
      "fp 43 357\n",
      "tn 2840 4892\n",
      "tp 223 1322\n",
      "baseline2 accuracy= 0.7729552666598424\n",
      "model_id, score_thresholds 1 {'rank_abs': [785]}\n",
      "executing sub-group 38\n",
      "Ratio is 38   sample is 669\n",
      "model_id, score_thresholds 1 {'rank_abs': [1002]}\n",
      "fn 183 852\n",
      "fp 43 357\n",
      "tn 2840 4892\n",
      "tp 63 539\n"
     ]
    },
    {
     "name": "stderr",
     "output_type": "stream",
     "text": [
      "D:\\Anacode\\lib\\site-packages\\ipykernel_launcher.py:170: UserWarning: Boolean Series key will be reindexed to match DataFrame index.\n",
      "D:\\Anacode\\lib\\site-packages\\ipykernel_launcher.py:172: UserWarning: Boolean Series key will be reindexed to match DataFrame index.\n",
      "D:\\Anacode\\lib\\site-packages\\ipykernel_launcher.py:175: UserWarning: Boolean Series key will be reindexed to match DataFrame index.\n",
      "D:\\Anacode\\lib\\site-packages\\ipykernel_launcher.py:181: UserWarning: Boolean Series key will be reindexed to match DataFrame index.\n"
     ]
    },
    {
     "name": "stdout",
     "output_type": "stream",
     "text": [
      "MALE:  704 FEMALE 146\n",
      "test accuracy= 0.9401166956699765\n",
      "model_id, score_thresholds 1 {'rank_abs': [1852]}\n",
      "fn 37 148\n",
      "fp 43 357\n",
      "tn 2840 4892\n",
      "tp 209 1243\n",
      "75 done.\n",
      "baseline accuracy= 0.9477940423789538\n",
      "model_id, score_thresholds 1 {'rank_abs': [1927]}\n",
      "fn 37 73\n",
      "fp 43 357\n",
      "tn 2840 4892\n",
      "tp 209 1318\n",
      "baseline2 accuracy= 0.7724434435459105\n",
      "model_id, score_thresholds 1 {'rank_abs': [752]}\n",
      "executing sub-group 39\n",
      "Ratio is 39   sample is 687\n",
      "model_id, score_thresholds 1 {'rank_abs': [1002]}\n",
      "fn 183 852\n",
      "fp 43 357\n",
      "tn 2840 4892\n",
      "tp 63 539\n",
      "MALE:  739 FEMALE 165\n",
      "test accuracy= 0.9456443853004401\n",
      "model_id, score_thresholds 1 {'rank_abs': [1906]}\n"
     ]
    },
    {
     "name": "stderr",
     "output_type": "stream",
     "text": [
      "D:\\Anacode\\lib\\site-packages\\ipykernel_launcher.py:170: UserWarning: Boolean Series key will be reindexed to match DataFrame index.\n",
      "D:\\Anacode\\lib\\site-packages\\ipykernel_launcher.py:172: UserWarning: Boolean Series key will be reindexed to match DataFrame index.\n",
      "D:\\Anacode\\lib\\site-packages\\ipykernel_launcher.py:175: UserWarning: Boolean Series key will be reindexed to match DataFrame index.\n",
      "D:\\Anacode\\lib\\site-packages\\ipykernel_launcher.py:181: UserWarning: Boolean Series key will be reindexed to match DataFrame index.\n"
     ]
    },
    {
     "name": "stdout",
     "output_type": "stream",
     "text": [
      "fn 18 113\n",
      "fp 43 357\n",
      "tn 2840 4892\n",
      "tp 228 1278\n",
      "75 done.\n",
      "baseline accuracy= 0.9533217320094175\n",
      "model_id, score_thresholds 1 {'rank_abs': [1981]}\n",
      "fn 18 38\n",
      "fp 43 357\n",
      "tn 2840 4892\n",
      "tp 228 1353\n",
      "baseline2 accuracy= 0.7695772341078924\n",
      "model_id, score_thresholds 1 {'rank_abs': [812]}\n",
      "executing sub-group 40\n",
      "Ratio is 40   sample is 704\n",
      "model_id, score_thresholds 1 {'rank_abs': [1002]}\n",
      "fn 183 852\n",
      "fp 43 357\n",
      "tn 2840 4892\n",
      "tp 63 539\n",
      "MALE:  738 FEMALE 155\n",
      "test accuracy= 0.9445183744497901\n",
      "model_id, score_thresholds 1 {'rank_abs': [1895]}\n"
     ]
    },
    {
     "name": "stderr",
     "output_type": "stream",
     "text": [
      "D:\\Anacode\\lib\\site-packages\\ipykernel_launcher.py:170: UserWarning: Boolean Series key will be reindexed to match DataFrame index.\n",
      "D:\\Anacode\\lib\\site-packages\\ipykernel_launcher.py:172: UserWarning: Boolean Series key will be reindexed to match DataFrame index.\n",
      "D:\\Anacode\\lib\\site-packages\\ipykernel_launcher.py:175: UserWarning: Boolean Series key will be reindexed to match DataFrame index.\n",
      "D:\\Anacode\\lib\\site-packages\\ipykernel_launcher.py:181: UserWarning: Boolean Series key will be reindexed to match DataFrame index.\n"
     ]
    },
    {
     "name": "stdout",
     "output_type": "stream",
     "text": [
      "fn 28 114\n",
      "fp 43 357\n",
      "tn 2840 4892\n",
      "tp 218 1277\n",
      "75 done.\n",
      "baseline accuracy= 0.9521957211587675\n",
      "model_id, score_thresholds 1 {'rank_abs': [1970]}\n",
      "fn 28 39\n",
      "fp 43 357\n",
      "tn 2840 4892\n",
      "tp 218 1352\n",
      "baseline2 accuracy= 0.7661992015559422\n",
      "model_id, score_thresholds 1 {'rank_abs': [803]}\n",
      "executing sub-group 41\n",
      "Ratio is 41   sample is 722\n",
      "model_id, score_thresholds 1 {'rank_abs': [1002]}\n",
      "fn 183 852\n",
      "fp 43 357\n",
      "tn 2840 4892\n",
      "tp 63 539\n",
      "MALE:  724 FEMALE 159\n",
      "test accuracy= 0.9434947282219265"
     ]
    },
    {
     "name": "stderr",
     "output_type": "stream",
     "text": [
      "D:\\Anacode\\lib\\site-packages\\ipykernel_launcher.py:170: UserWarning: Boolean Series key will be reindexed to match DataFrame index.\n",
      "D:\\Anacode\\lib\\site-packages\\ipykernel_launcher.py:172: UserWarning: Boolean Series key will be reindexed to match DataFrame index.\n",
      "D:\\Anacode\\lib\\site-packages\\ipykernel_launcher.py:175: UserWarning: Boolean Series key will be reindexed to match DataFrame index.\n",
      "D:\\Anacode\\lib\\site-packages\\ipykernel_launcher.py:181: UserWarning: Boolean Series key will be reindexed to match DataFrame index.\n"
     ]
    },
    {
     "name": "stdout",
     "output_type": "stream",
     "text": [
      "\n",
      "model_id, score_thresholds 1 {'rank_abs': [1885]}\n",
      "fn 24 128\n",
      "fp 43 357\n",
      "tn 2840 4892\n",
      "tp 222 1263\n",
      "75 done.\n",
      "baseline accuracy= 0.9511720749309038\n",
      "model_id, score_thresholds 1 {'rank_abs': [1960]}\n",
      "fn 24 53\n",
      "fp 43 357\n",
      "tn 2840 4892\n",
      "tp 222 1338\n",
      "baseline2 accuracy= 0.7678370355205241\n",
      "model_id, score_thresholds 1 {'rank_abs': [807]}\n",
      "executing sub-group 42\n",
      "Ratio is 42   sample is 740\n",
      "model_id, score_thresholds 1 {'rank_abs': [1002]}\n",
      "fn 183 852\n",
      "fp 43 357\n",
      "tn 2840 4892\n",
      "tp 63 539\n",
      "MALE:  729 FEMALE 158\n",
      "test accuracy= 0.943904186713072\n",
      "model_id, score_thresholds 1 {'rank_abs': [1889]}\n"
     ]
    },
    {
     "name": "stderr",
     "output_type": "stream",
     "text": [
      "D:\\Anacode\\lib\\site-packages\\ipykernel_launcher.py:170: UserWarning: Boolean Series key will be reindexed to match DataFrame index.\n",
      "D:\\Anacode\\lib\\site-packages\\ipykernel_launcher.py:172: UserWarning: Boolean Series key will be reindexed to match DataFrame index.\n",
      "D:\\Anacode\\lib\\site-packages\\ipykernel_launcher.py:175: UserWarning: Boolean Series key will be reindexed to match DataFrame index.\n",
      "D:\\Anacode\\lib\\site-packages\\ipykernel_launcher.py:181: UserWarning: Boolean Series key will be reindexed to match DataFrame index.\n"
     ]
    },
    {
     "name": "stdout",
     "output_type": "stream",
     "text": [
      "fn 25 123\n",
      "fp 43 357\n",
      "tn 2840 4892\n",
      "tp 221 1268\n",
      "75 done.\n",
      "baseline accuracy= 0.9515815334220493\n",
      "model_id, score_thresholds 1 {'rank_abs': [1964]}\n",
      "fn 25 48\n",
      "fp 43 357\n",
      "tn 2840 4892\n",
      "tp 221 1343\n",
      "baseline2 accuracy= 0.7691677756167469\n",
      "model_id, score_thresholds 1 {'rank_abs': [800]}\n",
      "executing sub-group 43\n",
      "Ratio is 43   sample is 757\n",
      "model_id, score_thresholds 1 {'rank_abs': [1002]}\n",
      "fn 183 852\n",
      "fp 43 357\n",
      "tn 2840 4892\n",
      "tp 63 539\n",
      "MALE:  720 FEMALE 153\n",
      "test accuracy="
     ]
    },
    {
     "name": "stderr",
     "output_type": "stream",
     "text": [
      "D:\\Anacode\\lib\\site-packages\\ipykernel_launcher.py:170: UserWarning: Boolean Series key will be reindexed to match DataFrame index.\n",
      "D:\\Anacode\\lib\\site-packages\\ipykernel_launcher.py:172: UserWarning: Boolean Series key will be reindexed to match DataFrame index.\n",
      "D:\\Anacode\\lib\\site-packages\\ipykernel_launcher.py:175: UserWarning: Boolean Series key will be reindexed to match DataFrame index.\n",
      "D:\\Anacode\\lib\\site-packages\\ipykernel_launcher.py:181: UserWarning: Boolean Series key will be reindexed to match DataFrame index.\n"
     ]
    },
    {
     "name": "stdout",
     "output_type": "stream",
     "text": [
      " 0.9424710819940628\n",
      "model_id, score_thresholds 1 {'rank_abs': [1875]}\n",
      "fn 30 132\n",
      "fp 43 357\n",
      "tn 2840 4892\n",
      "tp 216 1259\n",
      "75 done.\n",
      "baseline accuracy= 0.9501484287030403\n",
      "model_id, score_thresholds 1 {'rank_abs': [1950]}\n",
      "fn 30 57\n",
      "fp 43 357\n",
      "tn 2840 4892\n",
      "tp 216 1334\n",
      "baseline2 accuracy= 0.7712150680724742\n",
      "model_id, score_thresholds 1 {'rank_abs': [802]}\n",
      "executing sub-group 44\n",
      "Ratio is 44   sample is 775\n",
      "model_id, score_thresholds 1 {'rank_abs': [1002]}\n",
      "fn 183 852\n",
      "fp 43 357\n",
      "tn 2840 4892\n",
      "tp 63 539\n",
      "MALE:  766 FEMALE 169\n",
      "test accuracy= 0.9488176886068175\n",
      "model_id, score_thresholds 1 {'rank_abs': [1937]}\n"
     ]
    },
    {
     "name": "stderr",
     "output_type": "stream",
     "text": [
      "D:\\Anacode\\lib\\site-packages\\ipykernel_launcher.py:170: UserWarning: Boolean Series key will be reindexed to match DataFrame index.\n",
      "D:\\Anacode\\lib\\site-packages\\ipykernel_launcher.py:172: UserWarning: Boolean Series key will be reindexed to match DataFrame index.\n",
      "D:\\Anacode\\lib\\site-packages\\ipykernel_launcher.py:175: UserWarning: Boolean Series key will be reindexed to match DataFrame index.\n",
      "D:\\Anacode\\lib\\site-packages\\ipykernel_launcher.py:181: UserWarning: Boolean Series key will be reindexed to match DataFrame index.\n"
     ]
    },
    {
     "name": "stdout",
     "output_type": "stream",
     "text": [
      "fn 14 86\n",
      "fp 43 357\n",
      "tn 2840 4892\n",
      "tp 232 1305\n",
      "75 done.\n",
      "baseline accuracy= 0.9564950353157948\n",
      "model_id, score_thresholds 1 {'rank_abs': [2012]}\n",
      "fn 14 11\n",
      "fp 43 357\n",
      "tn 2840 4892\n",
      "tp 232 1380\n",
      "baseline2 accuracy= 0.7648684614597195\n",
      "model_id, score_thresholds 1 {'rank_abs': [834]}\n",
      "executing sub-group 45\n",
      "Ratio is 45   sample is 792\n",
      "model_id, score_thresholds 1 {'rank_abs': [1002]}\n",
      "fn 183 852\n",
      "fp 43 357\n",
      "tn 2840 4892\n",
      "tp 63 539\n",
      "MALE:  723 FEMALE 160\n",
      "test accuracy= 0.9434947282219265\n",
      "model_id, score_thresholds 1 {'rank_abs': [1885]}\n"
     ]
    },
    {
     "name": "stderr",
     "output_type": "stream",
     "text": [
      "D:\\Anacode\\lib\\site-packages\\ipykernel_launcher.py:170: UserWarning: Boolean Series key will be reindexed to match DataFrame index.\n",
      "D:\\Anacode\\lib\\site-packages\\ipykernel_launcher.py:172: UserWarning: Boolean Series key will be reindexed to match DataFrame index.\n",
      "D:\\Anacode\\lib\\site-packages\\ipykernel_launcher.py:175: UserWarning: Boolean Series key will be reindexed to match DataFrame index.\n",
      "D:\\Anacode\\lib\\site-packages\\ipykernel_launcher.py:181: UserWarning: Boolean Series key will be reindexed to match DataFrame index.\n"
     ]
    },
    {
     "name": "stdout",
     "output_type": "stream",
     "text": [
      "fn 23 129\n",
      "fp 43 357\n",
      "tn 2840 4892\n",
      "tp 223 1262\n",
      "75 done.\n",
      "baseline accuracy= 0.9511720749309038\n",
      "model_id, score_thresholds 1 {'rank_abs': [1960]}\n",
      "fn 23 54\n",
      "fp 43 357\n",
      "tn 2840 4892\n",
      "tp 223 1337\n",
      "baseline2 accuracy= 0.7707032449585424\n",
      "model_id, score_thresholds 1 {'rank_abs': [801]}\n",
      "executing sub-group 46\n",
      "Ratio is 46   sample is 810\n",
      "model_id, score_thresholds 1 {'rank_abs': [1002]}\n",
      "fn 183 852\n",
      "fp 43 357\n",
      "tn 2840 4892\n",
      "tp 63 539\n",
      "MALE:  740 FEMALE 170\n",
      "test accuracy= 0.9462585730371583\n",
      "model_id, score_thresholds 1 {'rank_abs': [1912]}\n"
     ]
    },
    {
     "name": "stderr",
     "output_type": "stream",
     "text": [
      "D:\\Anacode\\lib\\site-packages\\ipykernel_launcher.py:170: UserWarning: Boolean Series key will be reindexed to match DataFrame index.\n",
      "D:\\Anacode\\lib\\site-packages\\ipykernel_launcher.py:172: UserWarning: Boolean Series key will be reindexed to match DataFrame index.\n",
      "D:\\Anacode\\lib\\site-packages\\ipykernel_launcher.py:175: UserWarning: Boolean Series key will be reindexed to match DataFrame index.\n",
      "D:\\Anacode\\lib\\site-packages\\ipykernel_launcher.py:181: UserWarning: Boolean Series key will be reindexed to match DataFrame index.\n"
     ]
    },
    {
     "name": "stdout",
     "output_type": "stream",
     "text": [
      "fn 13 112\n",
      "fp 43 357\n",
      "tn 2840 4892\n",
      "tp 233 1279\n",
      "75 done.\n",
      "baseline accuracy= 0.9539359197461358\n",
      "model_id, score_thresholds 1 {'rank_abs': [1987]}\n",
      "fn 13 37\n",
      "fp 43 357\n",
      "tn 2840 4892\n",
      "tp 233 1354\n",
      "baseline2 accuracy= 0.7710103388269014\n",
      "model_id, score_thresholds 1 {'rank_abs': [802]}\n",
      "executing sub-group 47\n",
      "Ratio is 47   sample is 828\n",
      "model_id, score_thresholds 1 {'rank_abs': [1002]}\n",
      "fn 183 852\n",
      "fp 43 357\n",
      "tn 2840 4892\n",
      "tp 63 539\n",
      "MALE:  708 FEMALE 149\n",
      "test accuracy= 0.940833248029481\n",
      "model_id, score_thresholds 1 {'rank_abs': [1859]}\n"
     ]
    },
    {
     "name": "stderr",
     "output_type": "stream",
     "text": [
      "D:\\Anacode\\lib\\site-packages\\ipykernel_launcher.py:170: UserWarning: Boolean Series key will be reindexed to match DataFrame index.\n",
      "D:\\Anacode\\lib\\site-packages\\ipykernel_launcher.py:172: UserWarning: Boolean Series key will be reindexed to match DataFrame index.\n",
      "D:\\Anacode\\lib\\site-packages\\ipykernel_launcher.py:175: UserWarning: Boolean Series key will be reindexed to match DataFrame index.\n",
      "D:\\Anacode\\lib\\site-packages\\ipykernel_launcher.py:181: UserWarning: Boolean Series key will be reindexed to match DataFrame index.\n"
     ]
    },
    {
     "name": "stdout",
     "output_type": "stream",
     "text": [
      "fn 34 144\n",
      "fp 43 357\n",
      "tn 2840 4892\n",
      "tp 212 1247\n",
      "75 done.\n",
      "baseline accuracy= 0.9485105947384583\n",
      "model_id, score_thresholds 1 {'rank_abs': [1934]}\n",
      "fn 34 69\n",
      "fp 43 357\n",
      "tn 2840 4892\n",
      "tp 212 1322\n",
      "baseline2 accuracy= 0.7722387143003379\n",
      "model_id, score_thresholds 1 {'rank_abs': [764]}\n",
      "executing sub-group 48\n",
      "Ratio is 48   sample is 845\n",
      "model_id, score_thresholds 1 {'rank_abs': [1002]}\n",
      "fn 183 852\n",
      "fp 43 357\n",
      "tn 2840 4892\n",
      "tp 63 539\n",
      "MALE:  738 FEMALE 169\n",
      "test accuracy= 0.9459514791687993\n",
      "model_id, score_thresholds 1 {'rank_abs': [1909]}\n"
     ]
    },
    {
     "name": "stderr",
     "output_type": "stream",
     "text": [
      "D:\\Anacode\\lib\\site-packages\\ipykernel_launcher.py:170: UserWarning: Boolean Series key will be reindexed to match DataFrame index.\n",
      "D:\\Anacode\\lib\\site-packages\\ipykernel_launcher.py:172: UserWarning: Boolean Series key will be reindexed to match DataFrame index.\n",
      "D:\\Anacode\\lib\\site-packages\\ipykernel_launcher.py:175: UserWarning: Boolean Series key will be reindexed to match DataFrame index.\n",
      "D:\\Anacode\\lib\\site-packages\\ipykernel_launcher.py:181: UserWarning: Boolean Series key will be reindexed to match DataFrame index.\n"
     ]
    },
    {
     "name": "stdout",
     "output_type": "stream",
     "text": [
      "fn 14 114\n",
      "fp 43 357\n",
      "tn 2840 4892\n",
      "tp 232 1277\n",
      "75 done.\n",
      "baseline accuracy= 0.9536288258777766\n",
      "model_id, score_thresholds 1 {'rank_abs': [1984]}\n",
      "fn 14 39\n",
      "fp 43 357\n",
      "tn 2840 4892\n",
      "tp 232 1352\n",
      "baseline2 accuracy= 0.7669157539154469\n",
      "model_id, score_thresholds 1 {'rank_abs': [826]}\n",
      "executing sub-group 49\n",
      "Ratio is 49   sample is 863\n",
      "model_id, score_thresholds 1 {'rank_abs': [1002]}\n",
      "fn 183 852\n",
      "fp 43 357\n",
      "tn 2840 4892\n",
      "tp 63 539\n",
      "MALE:  750 FEMALE 168\n",
      "test accuracy= 0.9470774900194493\n",
      "model_id, score_thresholds 1 {'rank_abs': [1920]}\n"
     ]
    },
    {
     "name": "stderr",
     "output_type": "stream",
     "text": [
      "D:\\Anacode\\lib\\site-packages\\ipykernel_launcher.py:170: UserWarning: Boolean Series key will be reindexed to match DataFrame index.\n",
      "D:\\Anacode\\lib\\site-packages\\ipykernel_launcher.py:172: UserWarning: Boolean Series key will be reindexed to match DataFrame index.\n",
      "D:\\Anacode\\lib\\site-packages\\ipykernel_launcher.py:175: UserWarning: Boolean Series key will be reindexed to match DataFrame index.\n",
      "D:\\Anacode\\lib\\site-packages\\ipykernel_launcher.py:181: UserWarning: Boolean Series key will be reindexed to match DataFrame index.\n"
     ]
    },
    {
     "name": "stdout",
     "output_type": "stream",
     "text": [
      "fn 15 102\n",
      "fp 43 357\n",
      "tn 2840 4892\n",
      "tp 231 1289\n",
      "75 done.\n",
      "baseline accuracy= 0.9547548367284266\n",
      "model_id, score_thresholds 1 {'rank_abs': [1995]}\n",
      "fn 15 27\n",
      "fp 43 357\n",
      "tn 2840 4892\n",
      "tp 231 1364\n",
      "baseline2 accuracy= 0.7695772341078924\n",
      "model_id, score_thresholds 1 {'rank_abs': [824]}\n",
      "executing sub-group 50\n",
      "Ratio is 50   sample is 881\n",
      "model_id, score_thresholds 1 {'rank_abs': [1002]}\n",
      "fn 183 852\n",
      "fp 43 357\n",
      "tn 2840 4892\n",
      "tp 63 539\n",
      "MALE:  745 FEMALE 129\n",
      "test accuracy= 0.9425734466168492\n",
      "model_id, score_thresholds 1 {'rank_abs': [1876]}\n"
     ]
    },
    {
     "name": "stderr",
     "output_type": "stream",
     "text": [
      "D:\\Anacode\\lib\\site-packages\\ipykernel_launcher.py:170: UserWarning: Boolean Series key will be reindexed to match DataFrame index.\n",
      "D:\\Anacode\\lib\\site-packages\\ipykernel_launcher.py:172: UserWarning: Boolean Series key will be reindexed to match DataFrame index.\n",
      "D:\\Anacode\\lib\\site-packages\\ipykernel_launcher.py:175: UserWarning: Boolean Series key will be reindexed to match DataFrame index.\n",
      "D:\\Anacode\\lib\\site-packages\\ipykernel_launcher.py:181: UserWarning: Boolean Series key will be reindexed to match DataFrame index.\n"
     ]
    },
    {
     "name": "stdout",
     "output_type": "stream",
     "text": [
      "fn 54 107\n",
      "fp 43 357\n",
      "tn 2840 4892\n",
      "tp 192 1284\n",
      "75 done.\n",
      "baseline accuracy= 0.9502507933258266\n",
      "model_id, score_thresholds 1 {'rank_abs': [1951]}\n",
      "fn 54 32\n",
      "fp 43 357\n",
      "tn 2840 4892\n",
      "tp 192 1359\n",
      "baseline2 accuracy= 0.7680417647660969\n",
      "model_id, score_thresholds 1 {'rank_abs': [783]}\n",
      "executing sub-group 51\n",
      "Ratio is 51   sample is 898\n",
      "model_id, score_thresholds 1 {'rank_abs': [1002]}\n",
      "fn 183 852\n",
      "fp 43 357\n",
      "tn 2840 4892\n",
      "tp 63 539\n",
      "MALE:  738 FEMALE 164\n",
      "test accuracy= 0.9454396560548675\n",
      "model_id, score_thresholds 1 {'rank_abs': [1904]}\n"
     ]
    },
    {
     "name": "stderr",
     "output_type": "stream",
     "text": [
      "D:\\Anacode\\lib\\site-packages\\ipykernel_launcher.py:170: UserWarning: Boolean Series key will be reindexed to match DataFrame index.\n",
      "D:\\Anacode\\lib\\site-packages\\ipykernel_launcher.py:172: UserWarning: Boolean Series key will be reindexed to match DataFrame index.\n",
      "D:\\Anacode\\lib\\site-packages\\ipykernel_launcher.py:175: UserWarning: Boolean Series key will be reindexed to match DataFrame index.\n",
      "D:\\Anacode\\lib\\site-packages\\ipykernel_launcher.py:181: UserWarning: Boolean Series key will be reindexed to match DataFrame index.\n"
     ]
    },
    {
     "name": "stdout",
     "output_type": "stream",
     "text": [
      "fn 19 114\n",
      "fp 43 357\n",
      "tn 2840 4892\n",
      "tp 227 1277\n",
      "75 done.\n",
      "baseline accuracy= 0.9531170027638448\n",
      "model_id, score_thresholds 1 {'rank_abs': [1979]}\n",
      "fn 19 39\n",
      "fp 43 357\n",
      "tn 2840 4892\n",
      "tp 227 1352\n",
      "baseline2 accuracy= 0.7653802845736514\n",
      "model_id, score_thresholds 1 {'rank_abs': [805]}\n",
      "executing sub-group 52\n",
      "Ratio is 52   sample is 916\n",
      "model_id, score_thresholds 1 {'rank_abs': [1002]}\n",
      "fn 183 852\n",
      "fp 43 357\n",
      "tn 2840 4892\n",
      "tp 63 539\n",
      "MALE:  733 FEMALE 146\n",
      "test accuracy= 0.943085269730781\n",
      "model_id, score_thresholds 1 {'rank_abs': [1881]}\n"
     ]
    },
    {
     "name": "stderr",
     "output_type": "stream",
     "text": [
      "D:\\Anacode\\lib\\site-packages\\ipykernel_launcher.py:170: UserWarning: Boolean Series key will be reindexed to match DataFrame index.\n",
      "D:\\Anacode\\lib\\site-packages\\ipykernel_launcher.py:172: UserWarning: Boolean Series key will be reindexed to match DataFrame index.\n",
      "D:\\Anacode\\lib\\site-packages\\ipykernel_launcher.py:175: UserWarning: Boolean Series key will be reindexed to match DataFrame index.\n",
      "D:\\Anacode\\lib\\site-packages\\ipykernel_launcher.py:181: UserWarning: Boolean Series key will be reindexed to match DataFrame index.\n"
     ]
    },
    {
     "name": "stdout",
     "output_type": "stream",
     "text": [
      "fn 37 119\n",
      "fp 43 357\n",
      "tn 2840 4892\n",
      "tp 209 1272\n",
      "75 done.\n",
      "baseline accuracy= 0.9507626164397585\n",
      "model_id, score_thresholds 1 {'rank_abs': [1956]}\n",
      "fn 37 44\n",
      "fp 43 357\n",
      "tn 2840 4892\n",
      "tp 209 1347\n",
      "baseline2 accuracy= 0.7730576312826287\n",
      "model_id, score_thresholds 1 {'rank_abs': [786]}\n",
      "executing sub-group 53\n",
      "Ratio is 53   sample is 933\n",
      "model_id, score_thresholds 1 {'rank_abs': [1002]}\n",
      "fn 183 852\n",
      "fp 43 357\n",
      "tn 2840 4892\n",
      "tp 63 539\n",
      "MALE:  719 FEMALE 157\n",
      "test accuracy= 0.942778175862422\n",
      "model_id, score_thresholds 1 {'rank_abs': [1878]}\n"
     ]
    },
    {
     "name": "stderr",
     "output_type": "stream",
     "text": [
      "D:\\Anacode\\lib\\site-packages\\ipykernel_launcher.py:170: UserWarning: Boolean Series key will be reindexed to match DataFrame index.\n",
      "D:\\Anacode\\lib\\site-packages\\ipykernel_launcher.py:172: UserWarning: Boolean Series key will be reindexed to match DataFrame index.\n",
      "D:\\Anacode\\lib\\site-packages\\ipykernel_launcher.py:175: UserWarning: Boolean Series key will be reindexed to match DataFrame index.\n",
      "D:\\Anacode\\lib\\site-packages\\ipykernel_launcher.py:181: UserWarning: Boolean Series key will be reindexed to match DataFrame index.\n"
     ]
    },
    {
     "name": "stdout",
     "output_type": "stream",
     "text": [
      "fn 26 133\n",
      "fp 43 357\n",
      "tn 2840 4892\n",
      "tp 220 1258\n",
      "75 done.\n",
      "baseline accuracy= 0.9504555225713993\n",
      "model_id, score_thresholds 1 {'rank_abs': [1953]}\n",
      "fn 26 58\n",
      "fp 43 357\n",
      "tn 2840 4892\n",
      "tp 220 1333\n",
      "baseline2 accuracy= 0.7713174326952605\n",
      "model_id, score_thresholds 1 {'rank_abs': [787]}\n",
      "executing sub-group 54\n",
      "Ratio is 54   sample is 951\n",
      "model_id, score_thresholds 1 {'rank_abs': [1002]}\n",
      "fn 183 852\n",
      "fp 43 357\n",
      "tn 2840 4892\n",
      "tp 63 539\n",
      "MALE:  771 FEMALE 180\n",
      "test accuracy= 0.9504555225713993\n",
      "model_id, score_thresholds 1 {'rank_abs': [1953]}\n"
     ]
    },
    {
     "name": "stderr",
     "output_type": "stream",
     "text": [
      "D:\\Anacode\\lib\\site-packages\\ipykernel_launcher.py:170: UserWarning: Boolean Series key will be reindexed to match DataFrame index.\n",
      "D:\\Anacode\\lib\\site-packages\\ipykernel_launcher.py:172: UserWarning: Boolean Series key will be reindexed to match DataFrame index.\n",
      "D:\\Anacode\\lib\\site-packages\\ipykernel_launcher.py:175: UserWarning: Boolean Series key will be reindexed to match DataFrame index.\n",
      "D:\\Anacode\\lib\\site-packages\\ipykernel_launcher.py:181: UserWarning: Boolean Series key will be reindexed to match DataFrame index.\n"
     ]
    },
    {
     "name": "stdout",
     "output_type": "stream",
     "text": [
      "fn 3 81\n",
      "fp 43 357\n",
      "tn 2840 4892\n",
      "tp 243 1310\n",
      "75 done.\n",
      "baseline accuracy= 0.9581328692803767\n",
      "model_id, score_thresholds 1 {'rank_abs': [2028]}\n",
      "fn 3 6\n",
      "fp 43 357\n",
      "tn 2840 4892\n",
      "tp 243 1385\n",
      "baseline2 accuracy= 0.7630258982495649\n",
      "model_id, score_thresholds 1 {'rank_abs': [864]}\n",
      "executing sub-group 55\n",
      "Ratio is 55   sample is 969\n",
      "model_id, score_thresholds 1 {'rank_abs': [1002]}\n",
      "fn 183 852\n",
      "fp 43 357\n",
      "tn 2840 4892\n",
      "tp 63 539\n",
      "MALE:  713 FEMALE 160\n",
      "test accuracy= 0.9424710819940628\n",
      "model_id, score_thresholds 1 {'rank_abs': [1875]}\n"
     ]
    },
    {
     "name": "stderr",
     "output_type": "stream",
     "text": [
      "D:\\Anacode\\lib\\site-packages\\ipykernel_launcher.py:170: UserWarning: Boolean Series key will be reindexed to match DataFrame index.\n",
      "D:\\Anacode\\lib\\site-packages\\ipykernel_launcher.py:172: UserWarning: Boolean Series key will be reindexed to match DataFrame index.\n",
      "D:\\Anacode\\lib\\site-packages\\ipykernel_launcher.py:175: UserWarning: Boolean Series key will be reindexed to match DataFrame index.\n",
      "D:\\Anacode\\lib\\site-packages\\ipykernel_launcher.py:181: UserWarning: Boolean Series key will be reindexed to match DataFrame index.\n"
     ]
    },
    {
     "name": "stdout",
     "output_type": "stream",
     "text": [
      "fn 23 139\n",
      "fp 43 357\n",
      "tn 2840 4892\n",
      "tp 223 1252\n",
      "75 done.\n",
      "baseline accuracy= 0.9501484287030403\n",
      "model_id, score_thresholds 1 {'rank_abs': [1950]}\n",
      "fn 23 64\n",
      "fp 43 357\n",
      "tn 2840 4892\n",
      "tp 223 1327\n",
      "baseline2 accuracy= 0.7719316204319787\n",
      "model_id, score_thresholds 1 {'rank_abs': [789]}\n",
      "executing sub-group 56\n",
      "Ratio is 56   sample is 986\n",
      "model_id, score_thresholds 1 {'rank_abs': [1002]}\n",
      "fn 183 852\n",
      "fp 43 357\n",
      "tn 2840 4892\n",
      "tp 63 539\n",
      "MALE:  737 FEMALE 159\n",
      "test accuracy= 0.9448254683181493\n",
      "model_id, score_thresholds 1 {'rank_abs': [1898]}\n"
     ]
    },
    {
     "name": "stderr",
     "output_type": "stream",
     "text": [
      "D:\\Anacode\\lib\\site-packages\\ipykernel_launcher.py:170: UserWarning: Boolean Series key will be reindexed to match DataFrame index.\n",
      "D:\\Anacode\\lib\\site-packages\\ipykernel_launcher.py:172: UserWarning: Boolean Series key will be reindexed to match DataFrame index.\n",
      "D:\\Anacode\\lib\\site-packages\\ipykernel_launcher.py:175: UserWarning: Boolean Series key will be reindexed to match DataFrame index.\n",
      "D:\\Anacode\\lib\\site-packages\\ipykernel_launcher.py:181: UserWarning: Boolean Series key will be reindexed to match DataFrame index.\n"
     ]
    },
    {
     "name": "stdout",
     "output_type": "stream",
     "text": [
      "fn 24 115\n",
      "fp 43 357\n",
      "tn 2840 4892\n",
      "tp 222 1276\n",
      "75 done.\n",
      "baseline accuracy= 0.9525028150271266\n",
      "model_id, score_thresholds 1 {'rank_abs': [1973]}\n",
      "fn 24 40\n",
      "fp 43 357\n",
      "tn 2840 4892\n",
      "tp 222 1351\n",
      "baseline2 accuracy= 0.7694748694851059\n",
      "model_id, score_thresholds 1 {'rank_abs': [799]}\n",
      "executing sub-group 57\n",
      "Ratio is 57   sample is 1004\n",
      "model_id, score_thresholds 1 {'rank_abs': [1002]}\n",
      "fn 183 852\n",
      "fp 43 357\n",
      "tn 2840 4892\n",
      "tp 63 539\n",
      "MALE:  743 FEMALE 166\n",
      "test accuracy= 0.946156208414372\n",
      "model_id, score_thresholds 1 {'rank_abs': [1911]}\n"
     ]
    },
    {
     "name": "stderr",
     "output_type": "stream",
     "text": [
      "D:\\Anacode\\lib\\site-packages\\ipykernel_launcher.py:170: UserWarning: Boolean Series key will be reindexed to match DataFrame index.\n",
      "D:\\Anacode\\lib\\site-packages\\ipykernel_launcher.py:172: UserWarning: Boolean Series key will be reindexed to match DataFrame index.\n",
      "D:\\Anacode\\lib\\site-packages\\ipykernel_launcher.py:175: UserWarning: Boolean Series key will be reindexed to match DataFrame index.\n",
      "D:\\Anacode\\lib\\site-packages\\ipykernel_launcher.py:181: UserWarning: Boolean Series key will be reindexed to match DataFrame index.\n"
     ]
    },
    {
     "name": "stdout",
     "output_type": "stream",
     "text": [
      "fn 17 109\n",
      "fp 43 357\n",
      "tn 2840 4892\n",
      "tp 229 1282\n",
      "75 done.\n",
      "baseline accuracy= 0.9538335551233493\n",
      "model_id, score_thresholds 1 {'rank_abs': [1986]}\n",
      "fn 17 34\n",
      "fp 43 357\n",
      "tn 2840 4892\n",
      "tp 229 1357\n",
      "baseline2 accuracy= 0.7680417647660969\n",
      "model_id, score_thresholds 1 {'rank_abs': [823]}\n",
      "executing sub-group 58\n",
      "Ratio is 58   sample is 1021\n",
      "model_id, score_thresholds 1 {'rank_abs': [1002]}\n",
      "fn 183 852\n",
      "fp 43 357\n",
      "tn 2840 4892\n",
      "tp 63 539\n",
      "MALE:  736 FEMALE 152\n",
      "test accuracy= 0.9440065513358583\n",
      "model_id, score_thresholds 1 {'rank_abs': [1890]}\n"
     ]
    },
    {
     "name": "stderr",
     "output_type": "stream",
     "text": [
      "D:\\Anacode\\lib\\site-packages\\ipykernel_launcher.py:170: UserWarning: Boolean Series key will be reindexed to match DataFrame index.\n",
      "D:\\Anacode\\lib\\site-packages\\ipykernel_launcher.py:172: UserWarning: Boolean Series key will be reindexed to match DataFrame index.\n",
      "D:\\Anacode\\lib\\site-packages\\ipykernel_launcher.py:175: UserWarning: Boolean Series key will be reindexed to match DataFrame index.\n",
      "D:\\Anacode\\lib\\site-packages\\ipykernel_launcher.py:181: UserWarning: Boolean Series key will be reindexed to match DataFrame index.\n"
     ]
    },
    {
     "name": "stdout",
     "output_type": "stream",
     "text": [
      "fn 31 116\n",
      "fp 43 357\n",
      "tn 2840 4892\n",
      "tp 215 1275\n",
      "75 done.\n",
      "baseline accuracy= 0.9516838980448357\n",
      "model_id, score_thresholds 1 {'rank_abs': [1965]}\n",
      "fn 31 41\n",
      "fp 43 357\n",
      "tn 2840 4892\n",
      "tp 215 1350\n",
      "baseline2 accuracy= 0.7700890572218242\n",
      "model_id, score_thresholds 1 {'rank_abs': [785]}\n",
      "executing sub-group 59\n",
      "Ratio is 59   sample is 1039\n",
      "model_id, score_thresholds 1 {'rank_abs': [1002]}\n",
      "fn 183 852\n",
      "fp 43 357\n",
      "tn 2840 4892\n",
      "tp 63 539\n",
      "MALE:  737 FEMALE 173\n",
      "test accuracy= 0.9462585730371583\n",
      "model_id, score_thresholds 1 {'rank_abs': [1912]}\n"
     ]
    },
    {
     "name": "stderr",
     "output_type": "stream",
     "text": [
      "D:\\Anacode\\lib\\site-packages\\ipykernel_launcher.py:170: UserWarning: Boolean Series key will be reindexed to match DataFrame index.\n",
      "D:\\Anacode\\lib\\site-packages\\ipykernel_launcher.py:172: UserWarning: Boolean Series key will be reindexed to match DataFrame index.\n",
      "D:\\Anacode\\lib\\site-packages\\ipykernel_launcher.py:175: UserWarning: Boolean Series key will be reindexed to match DataFrame index.\n",
      "D:\\Anacode\\lib\\site-packages\\ipykernel_launcher.py:181: UserWarning: Boolean Series key will be reindexed to match DataFrame index.\n"
     ]
    },
    {
     "name": "stdout",
     "output_type": "stream",
     "text": [
      "fn 10 115\n",
      "fp 43 357\n",
      "tn 2840 4892\n",
      "tp 236 1276\n",
      "75 done.\n",
      "baseline accuracy= 0.9539359197461358\n",
      "model_id, score_thresholds 1 {'rank_abs': [1987]}\n",
      "fn 10 40\n",
      "fp 43 357\n",
      "tn 2840 4892\n",
      "tp 236 1351\n",
      "baseline2 accuracy= 0.7666086600470877\n",
      "model_id, score_thresholds 1 {'rank_abs': [833]}\n",
      "executing sub-group 60\n",
      "Ratio is 60   sample is 1057\n",
      "model_id, score_thresholds 1 {'rank_abs': [1002]}\n",
      "fn 183 852\n",
      "fp 43 357\n",
      "tn 2840 4892\n",
      "tp 63 539\n"
     ]
    },
    {
     "name": "stderr",
     "output_type": "stream",
     "text": [
      "D:\\Anacode\\lib\\site-packages\\ipykernel_launcher.py:170: UserWarning: Boolean Series key will be reindexed to match DataFrame index.\n",
      "D:\\Anacode\\lib\\site-packages\\ipykernel_launcher.py:172: UserWarning: Boolean Series key will be reindexed to match DataFrame index.\n",
      "D:\\Anacode\\lib\\site-packages\\ipykernel_launcher.py:175: UserWarning: Boolean Series key will be reindexed to match DataFrame index.\n",
      "D:\\Anacode\\lib\\site-packages\\ipykernel_launcher.py:181: UserWarning: Boolean Series key will be reindexed to match DataFrame index.\n"
     ]
    },
    {
     "name": "stdout",
     "output_type": "stream",
     "text": [
      "MALE:  759 FEMALE 168\n",
      "test accuracy= 0.9479987716245266\n",
      "model_id, score_thresholds 1 {'rank_abs': [1929]}\n",
      "fn 15 93\n",
      "fp 43 357\n",
      "tn 2840 4892\n",
      "tp 231 1298\n",
      "75 done.\n",
      "baseline accuracy= 0.955676118333504\n",
      "model_id, score_thresholds 1 {'rank_abs': [2004]}\n",
      "fn 15 18\n",
      "fp 43 357\n",
      "tn 2840 4892\n",
      "tp 231 1373\n",
      "baseline2 accuracy= 0.7665062954243014\n",
      "model_id, score_thresholds 1 {'rank_abs': [834]}\n",
      "executing sub-group 61\n",
      "Ratio is 61   sample is 1074\n",
      "model_id, score_thresholds 1 {'rank_abs': [1002]}\n",
      "fn 183 852\n",
      "fp 43 357\n",
      "tn 2840 4892\n",
      "tp 63 539\n",
      "MALE:  722 FEMALE 149\n",
      "test accuracy= 0.9422663527484901\n",
      "model_id, score_thresholds 1 {'rank_abs': [1873]}\n"
     ]
    },
    {
     "name": "stderr",
     "output_type": "stream",
     "text": [
      "D:\\Anacode\\lib\\site-packages\\ipykernel_launcher.py:170: UserWarning: Boolean Series key will be reindexed to match DataFrame index.\n",
      "D:\\Anacode\\lib\\site-packages\\ipykernel_launcher.py:172: UserWarning: Boolean Series key will be reindexed to match DataFrame index.\n",
      "D:\\Anacode\\lib\\site-packages\\ipykernel_launcher.py:175: UserWarning: Boolean Series key will be reindexed to match DataFrame index.\n",
      "D:\\Anacode\\lib\\site-packages\\ipykernel_launcher.py:181: UserWarning: Boolean Series key will be reindexed to match DataFrame index.\n"
     ]
    },
    {
     "name": "stdout",
     "output_type": "stream",
     "text": [
      "fn 34 130\n",
      "fp 43 357\n",
      "tn 2840 4892\n",
      "tp 212 1261\n",
      "75 done.\n",
      "baseline accuracy= 0.9499436994574675\n",
      "model_id, score_thresholds 1 {'rank_abs': [1948]}\n",
      "fn 34 55\n",
      "fp 43 357\n",
      "tn 2840 4892\n",
      "tp 212 1336\n",
      "baseline2 accuracy= 0.7685535878800287\n",
      "model_id, score_thresholds 1 {'rank_abs': [786]}\n",
      "executing sub-group 62\n",
      "Ratio is 62   sample is 1092\n",
      "model_id, score_thresholds 1 {'rank_abs': [1002]}\n",
      "fn 183 852\n",
      "fp 43 357\n",
      "tn 2840 4892\n",
      "tp 63 539\n",
      "MALE:  703 FEMALE 142\n",
      "test accuracy= 0.9396048725560446\n",
      "model_id, score_thresholds 1 {'rank_abs': [1847]}\n"
     ]
    },
    {
     "name": "stderr",
     "output_type": "stream",
     "text": [
      "D:\\Anacode\\lib\\site-packages\\ipykernel_launcher.py:170: UserWarning: Boolean Series key will be reindexed to match DataFrame index.\n",
      "D:\\Anacode\\lib\\site-packages\\ipykernel_launcher.py:172: UserWarning: Boolean Series key will be reindexed to match DataFrame index.\n",
      "D:\\Anacode\\lib\\site-packages\\ipykernel_launcher.py:175: UserWarning: Boolean Series key will be reindexed to match DataFrame index.\n",
      "D:\\Anacode\\lib\\site-packages\\ipykernel_launcher.py:181: UserWarning: Boolean Series key will be reindexed to match DataFrame index.\n"
     ]
    },
    {
     "name": "stdout",
     "output_type": "stream",
     "text": [
      "fn 41 149\n",
      "fp 43 357\n",
      "tn 2840 4892\n",
      "tp 205 1242\n",
      "75 done.\n",
      "baseline accuracy= 0.947282219265022\n",
      "model_id, score_thresholds 1 {'rank_abs': [1922]}\n",
      "fn 41 74\n",
      "fp 43 357\n",
      "tn 2840 4892\n",
      "tp 205 1317\n",
      "baseline2 accuracy= 0.7727505374142696\n",
      "model_id, score_thresholds 1 {'rank_abs': [759]}\n",
      "executing sub-group 63\n",
      "Ratio is 63   sample is 1110\n",
      "model_id, score_thresholds 1 {'rank_abs': [1002]}\n",
      "fn 183 852\n",
      "fp 43 357\n",
      "tn 2840 4892\n",
      "tp 63 539\n",
      "MALE:  760 FEMALE 176\n",
      "test accuracy= 0.9489200532296038\n",
      "model_id, score_thresholds 1 {'rank_abs': [1938]}\n"
     ]
    },
    {
     "name": "stderr",
     "output_type": "stream",
     "text": [
      "D:\\Anacode\\lib\\site-packages\\ipykernel_launcher.py:170: UserWarning: Boolean Series key will be reindexed to match DataFrame index.\n",
      "D:\\Anacode\\lib\\site-packages\\ipykernel_launcher.py:172: UserWarning: Boolean Series key will be reindexed to match DataFrame index.\n",
      "D:\\Anacode\\lib\\site-packages\\ipykernel_launcher.py:175: UserWarning: Boolean Series key will be reindexed to match DataFrame index.\n",
      "D:\\Anacode\\lib\\site-packages\\ipykernel_launcher.py:181: UserWarning: Boolean Series key will be reindexed to match DataFrame index.\n"
     ]
    },
    {
     "name": "stdout",
     "output_type": "stream",
     "text": [
      "fn 7 92\n",
      "fp 43 357\n",
      "tn 2840 4892\n",
      "tp 239 1299\n",
      "75 done.\n",
      "baseline accuracy= 0.9565973999385812\n",
      "model_id, score_thresholds 1 {'rank_abs': [2013]}\n",
      "fn 7 17\n",
      "fp 43 357\n",
      "tn 2840 4892\n",
      "tp 239 1374\n",
      "baseline2 accuracy= 0.7663015661787286\n",
      "model_id, score_thresholds 1 {'rank_abs': [850]}\n",
      "executing sub-group 64\n",
      "Ratio is 64   sample is 1127\n",
      "model_id, score_thresholds 1 {'rank_abs': [1002]}\n",
      "fn 183 852\n",
      "fp 43 357\n",
      "tn 2840 4892\n",
      "tp 63 539\n",
      "MALE:  743 FEMALE 160\n",
      "test accuracy= 0.9455420206776538\n",
      "model_id, score_thresholds 1 {'rank_abs': [1905]}\n"
     ]
    },
    {
     "name": "stderr",
     "output_type": "stream",
     "text": [
      "D:\\Anacode\\lib\\site-packages\\ipykernel_launcher.py:170: UserWarning: Boolean Series key will be reindexed to match DataFrame index.\n",
      "D:\\Anacode\\lib\\site-packages\\ipykernel_launcher.py:172: UserWarning: Boolean Series key will be reindexed to match DataFrame index.\n",
      "D:\\Anacode\\lib\\site-packages\\ipykernel_launcher.py:175: UserWarning: Boolean Series key will be reindexed to match DataFrame index.\n",
      "D:\\Anacode\\lib\\site-packages\\ipykernel_launcher.py:181: UserWarning: Boolean Series key will be reindexed to match DataFrame index.\n"
     ]
    },
    {
     "name": "stdout",
     "output_type": "stream",
     "text": [
      "fn 23 109\n",
      "fp 43 357\n",
      "tn 2840 4892\n",
      "tp 223 1282\n",
      "75 done.\n",
      "baseline accuracy= 0.9532193673866312\n",
      "model_id, score_thresholds 1 {'rank_abs': [1980]}\n",
      "fn 23 34\n",
      "fp 43 357\n",
      "tn 2840 4892\n",
      "tp 223 1357\n",
      "baseline2 accuracy= 0.7691677756167469\n",
      "model_id, score_thresholds 1 {'rank_abs': [798]}\n",
      "executing sub-group 65\n",
      "Ratio is 65   sample is 1145\n",
      "model_id, score_thresholds 1 {'rank_abs': [1002]}\n",
      "fn 183 852\n",
      "fp 43 357\n",
      "tn 2840 4892\n",
      "tp 63 539\n",
      "MALE:  759 FEMALE 181\n",
      "test accuracy= 0.9493295117207493\n",
      "model_id, score_thresholds 1 {'rank_abs': [1942]}\n"
     ]
    },
    {
     "name": "stderr",
     "output_type": "stream",
     "text": [
      "D:\\Anacode\\lib\\site-packages\\ipykernel_launcher.py:170: UserWarning: Boolean Series key will be reindexed to match DataFrame index.\n",
      "D:\\Anacode\\lib\\site-packages\\ipykernel_launcher.py:172: UserWarning: Boolean Series key will be reindexed to match DataFrame index.\n",
      "D:\\Anacode\\lib\\site-packages\\ipykernel_launcher.py:175: UserWarning: Boolean Series key will be reindexed to match DataFrame index.\n",
      "D:\\Anacode\\lib\\site-packages\\ipykernel_launcher.py:181: UserWarning: Boolean Series key will be reindexed to match DataFrame index.\n"
     ]
    },
    {
     "name": "stdout",
     "output_type": "stream",
     "text": [
      "fn 2 93\n",
      "fp 43 357\n",
      "tn 2840 4892\n",
      "tp 244 1298\n",
      "75 done.\n",
      "baseline accuracy= 0.9570068584297267\n",
      "model_id, score_thresholds 1 {'rank_abs': [2017]}\n",
      "fn 2 18\n",
      "fp 43 357\n",
      "tn 2840 4892\n",
      "tp 244 1373\n",
      "baseline2 accuracy= 0.7653802845736514\n",
      "model_id, score_thresholds 1 {'rank_abs': [857]}\n",
      "executing sub-group 66\n",
      "Ratio is 66   sample is 1162\n",
      "model_id, score_thresholds 1 {'rank_abs': [1002]}\n",
      "fn 183 852\n",
      "fp 43 357\n",
      "tn 2840 4892\n",
      "tp 63 539\n",
      "MALE:  765 FEMALE 177\n",
      "test accuracy= 0.949534240966322\n",
      "model_id, score_thresholds 1 {'rank_abs': [1944]}\n"
     ]
    },
    {
     "name": "stderr",
     "output_type": "stream",
     "text": [
      "D:\\Anacode\\lib\\site-packages\\ipykernel_launcher.py:170: UserWarning: Boolean Series key will be reindexed to match DataFrame index.\n",
      "D:\\Anacode\\lib\\site-packages\\ipykernel_launcher.py:172: UserWarning: Boolean Series key will be reindexed to match DataFrame index.\n",
      "D:\\Anacode\\lib\\site-packages\\ipykernel_launcher.py:175: UserWarning: Boolean Series key will be reindexed to match DataFrame index.\n",
      "D:\\Anacode\\lib\\site-packages\\ipykernel_launcher.py:181: UserWarning: Boolean Series key will be reindexed to match DataFrame index.\n"
     ]
    },
    {
     "name": "stdout",
     "output_type": "stream",
     "text": [
      "fn 6 87\n",
      "fp 43 357\n",
      "tn 2840 4892\n",
      "tp 240 1304\n",
      "75 done.\n",
      "baseline accuracy= 0.9572115876752995\n",
      "model_id, score_thresholds 1 {'rank_abs': [2019]}\n",
      "fn 6 12\n",
      "fp 43 357\n",
      "tn 2840 4892\n",
      "tp 240 1379\n",
      "baseline2 accuracy= 0.7656873784420104\n",
      "model_id, score_thresholds 1 {'rank_abs': [860]}\n",
      "executing sub-group 67\n",
      "Ratio is 67   sample is 1180\n",
      "model_id, score_thresholds 1 {'rank_abs': [1002]}\n",
      "fn 183 852\n",
      "fp 43 357\n",
      "tn 2840 4892\n",
      "tp 63 539\n",
      "MALE:  742 FEMALE 169\n",
      "test accuracy= 0.9463609376599447\n",
      "model_id, score_thresholds 1 {'rank_abs': [1913]}\n"
     ]
    },
    {
     "name": "stderr",
     "output_type": "stream",
     "text": [
      "D:\\Anacode\\lib\\site-packages\\ipykernel_launcher.py:170: UserWarning: Boolean Series key will be reindexed to match DataFrame index.\n",
      "D:\\Anacode\\lib\\site-packages\\ipykernel_launcher.py:172: UserWarning: Boolean Series key will be reindexed to match DataFrame index.\n",
      "D:\\Anacode\\lib\\site-packages\\ipykernel_launcher.py:175: UserWarning: Boolean Series key will be reindexed to match DataFrame index.\n",
      "D:\\Anacode\\lib\\site-packages\\ipykernel_launcher.py:181: UserWarning: Boolean Series key will be reindexed to match DataFrame index.\n"
     ]
    },
    {
     "name": "stdout",
     "output_type": "stream",
     "text": [
      "fn 14 110\n",
      "fp 43 357\n",
      "tn 2840 4892\n",
      "tp 232 1281\n",
      "75 done.\n",
      "baseline accuracy= 0.9540382843689221\n",
      "model_id, score_thresholds 1 {'rank_abs': [1988]}\n",
      "fn 14 35\n",
      "fp 43 357\n",
      "tn 2840 4892\n",
      "tp 232 1356\n",
      "baseline2 accuracy= 0.7706008803357559\n",
      "model_id, score_thresholds 1 {'rank_abs': [822]}\n",
      "executing sub-group 68\n",
      "Ratio is 68   sample is 1198\n",
      "model_id, score_thresholds 1 {'rank_abs': [1002]}\n",
      "fn 183 852\n",
      "fp 43 357\n",
      "tn 2840 4892\n",
      "tp 63 539\n",
      "MALE:  727 FEMALE 161\n",
      "test accuracy= 0.9440065513358583\n",
      "model_id, score_thresholds 1 {'rank_abs': [1890]}\n"
     ]
    },
    {
     "name": "stderr",
     "output_type": "stream",
     "text": [
      "D:\\Anacode\\lib\\site-packages\\ipykernel_launcher.py:170: UserWarning: Boolean Series key will be reindexed to match DataFrame index.\n",
      "D:\\Anacode\\lib\\site-packages\\ipykernel_launcher.py:172: UserWarning: Boolean Series key will be reindexed to match DataFrame index.\n",
      "D:\\Anacode\\lib\\site-packages\\ipykernel_launcher.py:175: UserWarning: Boolean Series key will be reindexed to match DataFrame index.\n",
      "D:\\Anacode\\lib\\site-packages\\ipykernel_launcher.py:181: UserWarning: Boolean Series key will be reindexed to match DataFrame index.\n"
     ]
    },
    {
     "name": "stdout",
     "output_type": "stream",
     "text": [
      "fn 22 125\n",
      "fp 43 357\n",
      "tn 2840 4892\n",
      "tp 224 1266\n",
      "75 done.\n",
      "baseline accuracy= 0.9516838980448357\n",
      "model_id, score_thresholds 1 {'rank_abs': [1965]}\n",
      "fn 22 50\n",
      "fp 43 357\n",
      "tn 2840 4892\n",
      "tp 224 1341\n",
      "baseline2 accuracy= 0.769781963353465\n",
      "model_id, score_thresholds 1 {'rank_abs': [808]}\n",
      "executing sub-group 69\n",
      "Ratio is 69   sample is 1215\n",
      "model_id, score_thresholds 1 {'rank_abs': [1002]}\n",
      "fn 183 852\n",
      "fp 43 357\n",
      "tn 2840 4892\n",
      "tp 63 539\n",
      "MALE:  715 FEMALE 156\n"
     ]
    },
    {
     "name": "stderr",
     "output_type": "stream",
     "text": [
      "D:\\Anacode\\lib\\site-packages\\ipykernel_launcher.py:170: UserWarning: Boolean Series key will be reindexed to match DataFrame index.\n",
      "D:\\Anacode\\lib\\site-packages\\ipykernel_launcher.py:172: UserWarning: Boolean Series key will be reindexed to match DataFrame index.\n",
      "D:\\Anacode\\lib\\site-packages\\ipykernel_launcher.py:175: UserWarning: Boolean Series key will be reindexed to match DataFrame index.\n",
      "D:\\Anacode\\lib\\site-packages\\ipykernel_launcher.py:181: UserWarning: Boolean Series key will be reindexed to match DataFrame index.\n"
     ]
    },
    {
     "name": "stdout",
     "output_type": "stream",
     "text": [
      "test accuracy= 0.9422663527484901\n",
      "model_id, score_thresholds 1 {'rank_abs': [1873]}\n",
      "fn 27 137\n",
      "fp 43 357\n",
      "tn 2840 4892\n",
      "tp 219 1254\n",
      "75 done.\n",
      "baseline accuracy= 0.9499436994574675\n",
      "model_id, score_thresholds 1 {'rank_abs': [1948]}\n",
      "fn 27 62\n",
      "fp 43 357\n",
      "tn 2840 4892\n",
      "tp 219 1329\n",
      "baseline2 accuracy= 0.7730576312826287\n",
      "model_id, score_thresholds 1 {'rank_abs': [784]}\n",
      "executing sub-group 70\n",
      "Ratio is 70   sample is 1233\n",
      "model_id, score_thresholds 1 {'rank_abs': [1002]}\n",
      "fn 183 852\n",
      "fp 43 357\n",
      "tn 2840 4892\n",
      "tp 63 539\n",
      "MALE:  726 FEMALE 166\n",
      "test accuracy= "
     ]
    },
    {
     "name": "stderr",
     "output_type": "stream",
     "text": [
      "D:\\Anacode\\lib\\site-packages\\ipykernel_launcher.py:170: UserWarning: Boolean Series key will be reindexed to match DataFrame index.\n",
      "D:\\Anacode\\lib\\site-packages\\ipykernel_launcher.py:172: UserWarning: Boolean Series key will be reindexed to match DataFrame index.\n",
      "D:\\Anacode\\lib\\site-packages\\ipykernel_launcher.py:175: UserWarning: Boolean Series key will be reindexed to match DataFrame index.\n",
      "D:\\Anacode\\lib\\site-packages\\ipykernel_launcher.py:181: UserWarning: Boolean Series key will be reindexed to match DataFrame index.\n"
     ]
    },
    {
     "name": "stdout",
     "output_type": "stream",
     "text": [
      "0.9444160098270038\n",
      "model_id, score_thresholds 1 {'rank_abs': [1894]}\n",
      "fn 17 126\n",
      "fp 43 357\n",
      "tn 2840 4892\n",
      "tp 229 1265\n",
      "75 done.\n",
      "baseline accuracy= 0.9520933565359812\n",
      "model_id, score_thresholds 1 {'rank_abs': [1969]}\n",
      "fn 17 51\n",
      "fp 43 357\n",
      "tn 2840 4892\n",
      "tp 229 1340\n",
      "baseline2 accuracy= 0.7700890572218242\n",
      "model_id, score_thresholds 1 {'rank_abs': [793]}\n",
      "executing sub-group 71\n",
      "Ratio is 71   sample is 1251\n",
      "model_id, score_thresholds 1 {'rank_abs': [1002]}\n",
      "fn 183 852\n",
      "fp 43 357\n",
      "tn 2840 4892\n",
      "tp 63 539\n"
     ]
    },
    {
     "name": "stderr",
     "output_type": "stream",
     "text": [
      "D:\\Anacode\\lib\\site-packages\\ipykernel_launcher.py:170: UserWarning: Boolean Series key will be reindexed to match DataFrame index.\n",
      "D:\\Anacode\\lib\\site-packages\\ipykernel_launcher.py:172: UserWarning: Boolean Series key will be reindexed to match DataFrame index.\n",
      "D:\\Anacode\\lib\\site-packages\\ipykernel_launcher.py:175: UserWarning: Boolean Series key will be reindexed to match DataFrame index.\n",
      "D:\\Anacode\\lib\\site-packages\\ipykernel_launcher.py:181: UserWarning: Boolean Series key will be reindexed to match DataFrame index.\n"
     ]
    },
    {
     "name": "stdout",
     "output_type": "stream",
     "text": [
      "MALE:  728 FEMALE 154\n",
      "test accuracy= 0.9433923635991401\n",
      "model_id, score_thresholds 1 {'rank_abs': [1884]}\n",
      "fn 29 124\n",
      "fp 43 357\n",
      "tn 2840 4892\n",
      "tp 217 1267\n",
      "75 done.\n",
      "baseline accuracy= 0.9510697103081175\n",
      "model_id, score_thresholds 1 {'rank_abs': [1959]}\n",
      "fn 29 49\n",
      "fp 43 357\n",
      "tn 2840 4892\n",
      "tp 217 1342\n",
      "baseline2 accuracy= 0.7691677756167469\n",
      "model_id, score_thresholds 1 {'rank_abs': [794]}\n",
      "executing sub-group 72\n",
      "Ratio is 72   sample is 1268\n",
      "model_id, score_thresholds 1 {'rank_abs': [1002]}\n",
      "fn 183 852\n",
      "fp 43 357\n",
      "tn 2840 4892\n",
      "tp 63 539\n",
      "MALE:  732 FEMALE"
     ]
    },
    {
     "name": "stderr",
     "output_type": "stream",
     "text": [
      "D:\\Anacode\\lib\\site-packages\\ipykernel_launcher.py:170: UserWarning: Boolean Series key will be reindexed to match DataFrame index.\n",
      "D:\\Anacode\\lib\\site-packages\\ipykernel_launcher.py:172: UserWarning: Boolean Series key will be reindexed to match DataFrame index.\n",
      "D:\\Anacode\\lib\\site-packages\\ipykernel_launcher.py:175: UserWarning: Boolean Series key will be reindexed to match DataFrame index.\n",
      "D:\\Anacode\\lib\\site-packages\\ipykernel_launcher.py:181: UserWarning: Boolean Series key will be reindexed to match DataFrame index.\n"
     ]
    },
    {
     "name": "stdout",
     "output_type": "stream",
     "text": [
      " 175\n",
      "test accuracy= 0.9459514791687993\n",
      "model_id, score_thresholds 1 {'rank_abs': [1909]}\n",
      "fn 8 120\n",
      "fp 43 357\n",
      "tn 2840 4892\n",
      "tp 238 1271\n",
      "75 done.\n",
      "baseline accuracy= 0.9536288258777766\n",
      "model_id, score_thresholds 1 {'rank_abs': [1984]}\n",
      "fn 8 45\n",
      "fp 43 357\n",
      "tn 2840 4892\n",
      "tp 238 1346\n",
      "baseline2 accuracy= 0.7648684614597195\n",
      "model_id, score_thresholds 1 {'rank_abs': [818]}\n",
      "executing sub-group 73\n",
      "Ratio is 73   sample is 1286\n",
      "model_id, score_thresholds 1 {'rank_abs': [1002]}\n",
      "fn 183 852\n",
      "fp 43 357\n",
      "tn 2840 4892\n",
      "tp 63 539\n",
      "MALE:  740 FEMALE 166\n",
      "test accuracy= "
     ]
    },
    {
     "name": "stderr",
     "output_type": "stream",
     "text": [
      "D:\\Anacode\\lib\\site-packages\\ipykernel_launcher.py:170: UserWarning: Boolean Series key will be reindexed to match DataFrame index.\n",
      "D:\\Anacode\\lib\\site-packages\\ipykernel_launcher.py:172: UserWarning: Boolean Series key will be reindexed to match DataFrame index.\n",
      "D:\\Anacode\\lib\\site-packages\\ipykernel_launcher.py:175: UserWarning: Boolean Series key will be reindexed to match DataFrame index.\n",
      "D:\\Anacode\\lib\\site-packages\\ipykernel_launcher.py:181: UserWarning: Boolean Series key will be reindexed to match DataFrame index.\n"
     ]
    },
    {
     "name": "stdout",
     "output_type": "stream",
     "text": [
      "0.945849114546013\n",
      "model_id, score_thresholds 1 {'rank_abs': [1908]}\n",
      "fn 17 112\n",
      "fp 43 357\n",
      "tn 2840 4892\n",
      "tp 229 1279\n",
      "75 done.\n",
      "baseline accuracy= 0.9535264612549903\n",
      "model_id, score_thresholds 1 {'rank_abs': [1983]}\n",
      "fn 17 37\n",
      "fp 43 357\n",
      "tn 2840 4892\n",
      "tp 229 1354\n",
      "baseline2 accuracy= 0.769781963353465\n",
      "model_id, score_thresholds 1 {'rank_abs': [808]}\n",
      "executing sub-group 74\n",
      "Ratio is 74   sample is 1303\n",
      "model_id, score_thresholds 1 {'rank_abs': [1002]}\n",
      "fn 183 852\n",
      "fp 43 357\n",
      "tn 2840 4892\n",
      "tp 63 539\n",
      "MALE:  751 FEMALE 167\n",
      "test accuracy= "
     ]
    },
    {
     "name": "stderr",
     "output_type": "stream",
     "text": [
      "D:\\Anacode\\lib\\site-packages\\ipykernel_launcher.py:170: UserWarning: Boolean Series key will be reindexed to match DataFrame index.\n",
      "D:\\Anacode\\lib\\site-packages\\ipykernel_launcher.py:172: UserWarning: Boolean Series key will be reindexed to match DataFrame index.\n",
      "D:\\Anacode\\lib\\site-packages\\ipykernel_launcher.py:175: UserWarning: Boolean Series key will be reindexed to match DataFrame index.\n",
      "D:\\Anacode\\lib\\site-packages\\ipykernel_launcher.py:181: UserWarning: Boolean Series key will be reindexed to match DataFrame index.\n"
     ]
    },
    {
     "name": "stdout",
     "output_type": "stream",
     "text": [
      "0.9470774900194493\n",
      "model_id, score_thresholds 1 {'rank_abs': [1920]}\n",
      "fn 16 101\n",
      "fp 43 357\n",
      "tn 2840 4892\n",
      "tp 230 1290\n",
      "75 done.\n",
      "baseline accuracy= 0.9547548367284266\n",
      "model_id, score_thresholds 1 {'rank_abs': [1995]}\n",
      "fn 16 26\n",
      "fp 43 357\n",
      "tn 2840 4892\n",
      "tp 230 1365\n",
      "baseline2 accuracy= 0.7706008803357559\n",
      "model_id, score_thresholds 1 {'rank_abs': [824]}\n",
      "executing sub-group 75\n",
      "Ratio is 75   sample is 1321\n",
      "model_id, score_thresholds 1 {'rank_abs': [1002]}\n",
      "fn 183 852\n",
      "fp 43 357\n",
      "tn 2840 4892\n",
      "tp 63 539\n",
      "MALE:  712 FEMALE 152\n",
      "test accuracy= 0.9415498003889856\n",
      "model_id, score_thresholds 1 {'rank_abs': [1866]}\n"
     ]
    },
    {
     "name": "stderr",
     "output_type": "stream",
     "text": [
      "D:\\Anacode\\lib\\site-packages\\ipykernel_launcher.py:170: UserWarning: Boolean Series key will be reindexed to match DataFrame index.\n",
      "D:\\Anacode\\lib\\site-packages\\ipykernel_launcher.py:172: UserWarning: Boolean Series key will be reindexed to match DataFrame index.\n",
      "D:\\Anacode\\lib\\site-packages\\ipykernel_launcher.py:175: UserWarning: Boolean Series key will be reindexed to match DataFrame index.\n",
      "D:\\Anacode\\lib\\site-packages\\ipykernel_launcher.py:181: UserWarning: Boolean Series key will be reindexed to match DataFrame index.\n"
     ]
    },
    {
     "name": "stdout",
     "output_type": "stream",
     "text": [
      "fn 31 140\n",
      "fp 43 357\n",
      "tn 2840 4892\n",
      "tp 215 1251\n",
      "75 done.\n",
      "baseline accuracy= 0.949227147097963\n",
      "model_id, score_thresholds 1 {'rank_abs': [1941]}\n",
      "fn 31 65\n",
      "fp 43 357\n",
      "tn 2840 4892\n",
      "tp 215 1326\n",
      "baseline2 accuracy= 0.7708056095813287\n",
      "model_id, score_thresholds 1 {'rank_abs': [786]}\n",
      "executing sub-group 76\n",
      "Ratio is 76   sample is 1339\n",
      "model_id, score_thresholds 1 {'rank_abs': [1002]}\n",
      "fn 183 852\n",
      "fp 43 357\n",
      "tn 2840 4892\n",
      "tp 63 539\n",
      "MALE:  737 FEMALE 162\n",
      "test accuracy="
     ]
    },
    {
     "name": "stderr",
     "output_type": "stream",
     "text": [
      "D:\\Anacode\\lib\\site-packages\\ipykernel_launcher.py:170: UserWarning: Boolean Series key will be reindexed to match DataFrame index.\n",
      "D:\\Anacode\\lib\\site-packages\\ipykernel_launcher.py:172: UserWarning: Boolean Series key will be reindexed to match DataFrame index.\n",
      "D:\\Anacode\\lib\\site-packages\\ipykernel_launcher.py:175: UserWarning: Boolean Series key will be reindexed to match DataFrame index.\n",
      "D:\\Anacode\\lib\\site-packages\\ipykernel_launcher.py:181: UserWarning: Boolean Series key will be reindexed to match DataFrame index.\n"
     ]
    },
    {
     "name": "stdout",
     "output_type": "stream",
     "text": [
      " 0.9451325621865083\n",
      "model_id, score_thresholds 1 {'rank_abs': [1901]}\n",
      "fn 21 115\n",
      "fp 43 357\n",
      "tn 2840 4892\n",
      "tp 225 1276\n",
      "75 done.\n",
      "baseline accuracy= 0.9528099088954857\n",
      "model_id, score_thresholds 1 {'rank_abs': [1976]}\n",
      "fn 21 40\n",
      "fp 43 357\n",
      "tn 2840 4892\n",
      "tp 225 1351\n",
      "baseline2 accuracy= 0.7702937864673969\n",
      "model_id, score_thresholds 1 {'rank_abs': [813]}\n",
      "executing sub-group 77\n",
      "Ratio is 77   sample is 1356\n",
      "model_id, score_thresholds 1 {'rank_abs': [1002]}\n",
      "fn 183 852\n",
      "fp 43 357\n",
      "tn 2840 4892\n",
      "tp 63 539\n",
      "MALE:  743 FEMALE 163\n",
      "test accuracy= "
     ]
    },
    {
     "name": "stderr",
     "output_type": "stream",
     "text": [
      "D:\\Anacode\\lib\\site-packages\\ipykernel_launcher.py:170: UserWarning: Boolean Series key will be reindexed to match DataFrame index.\n",
      "D:\\Anacode\\lib\\site-packages\\ipykernel_launcher.py:172: UserWarning: Boolean Series key will be reindexed to match DataFrame index.\n",
      "D:\\Anacode\\lib\\site-packages\\ipykernel_launcher.py:175: UserWarning: Boolean Series key will be reindexed to match DataFrame index.\n",
      "D:\\Anacode\\lib\\site-packages\\ipykernel_launcher.py:181: UserWarning: Boolean Series key will be reindexed to match DataFrame index.\n"
     ]
    },
    {
     "name": "stdout",
     "output_type": "stream",
     "text": [
      "0.945849114546013\n",
      "model_id, score_thresholds 1 {'rank_abs': [1908]}\n",
      "fn 20 109\n",
      "fp 43 357\n",
      "tn 2840 4892\n",
      "tp 226 1282\n",
      "75 done.\n",
      "baseline accuracy= 0.9535264612549903\n",
      "model_id, score_thresholds 1 {'rank_abs': [1983]}\n",
      "fn 20 34\n",
      "fp 43 357\n",
      "tn 2840 4892\n",
      "tp 226 1357\n",
      "baseline2 accuracy= 0.7669157539154469\n",
      "model_id, score_thresholds 1 {'rank_abs': [808]}\n",
      "executing sub-group 78\n",
      "Ratio is 78   sample is 1374\n",
      "model_id, score_thresholds 1 {'rank_abs': [1002]}\n",
      "fn 183 852\n",
      "fp 43 357\n",
      "tn 2840 4892\n",
      "tp 63 539\n",
      "MALE:  723 FEMALE 143"
     ]
    },
    {
     "name": "stderr",
     "output_type": "stream",
     "text": [
      "D:\\Anacode\\lib\\site-packages\\ipykernel_launcher.py:170: UserWarning: Boolean Series key will be reindexed to match DataFrame index.\n",
      "D:\\Anacode\\lib\\site-packages\\ipykernel_launcher.py:172: UserWarning: Boolean Series key will be reindexed to match DataFrame index.\n",
      "D:\\Anacode\\lib\\site-packages\\ipykernel_launcher.py:175: UserWarning: Boolean Series key will be reindexed to match DataFrame index.\n",
      "D:\\Anacode\\lib\\site-packages\\ipykernel_launcher.py:181: UserWarning: Boolean Series key will be reindexed to match DataFrame index.\n"
     ]
    },
    {
     "name": "stdout",
     "output_type": "stream",
     "text": [
      "\n",
      "test accuracy= 0.9417545296345583\n",
      "model_id, score_thresholds 1 {'rank_abs': [1868]}\n",
      "fn 40 129\n",
      "fp 43 357\n",
      "tn 2840 4892\n",
      "tp 206 1262\n",
      "75 done.\n",
      "baseline accuracy= 0.9494318763435357\n",
      "model_id, score_thresholds 1 {'rank_abs': [1943]}\n",
      "fn 40 54\n",
      "fp 43 357\n",
      "tn 2840 4892\n",
      "tp 206 1337\n",
      "baseline2 accuracy= 0.7689630463711741\n",
      "model_id, score_thresholds 1 {'rank_abs': [762]}\n",
      "executing sub-group 79\n",
      "Ratio is 79   sample is 1391\n",
      "model_id, score_thresholds 1 {'rank_abs': [1002]}\n",
      "fn 183 852\n",
      "fp 43 357\n",
      "tn 2840 4892\n",
      "tp 63 539\n",
      "MALE:  749 FEMALE 168\n",
      "test accuracy= 0.946975125396663\n",
      "model_id, score_thresholds 1 {'rank_abs': [1919]}\n"
     ]
    },
    {
     "name": "stderr",
     "output_type": "stream",
     "text": [
      "D:\\Anacode\\lib\\site-packages\\ipykernel_launcher.py:170: UserWarning: Boolean Series key will be reindexed to match DataFrame index.\n",
      "D:\\Anacode\\lib\\site-packages\\ipykernel_launcher.py:172: UserWarning: Boolean Series key will be reindexed to match DataFrame index.\n",
      "D:\\Anacode\\lib\\site-packages\\ipykernel_launcher.py:175: UserWarning: Boolean Series key will be reindexed to match DataFrame index.\n",
      "D:\\Anacode\\lib\\site-packages\\ipykernel_launcher.py:181: UserWarning: Boolean Series key will be reindexed to match DataFrame index.\n"
     ]
    },
    {
     "name": "stdout",
     "output_type": "stream",
     "text": [
      "fn 15 103\n",
      "fp 43 357\n",
      "tn 2840 4892\n",
      "tp 231 1288\n",
      "75 done.\n",
      "baseline accuracy= 0.9546524721056403\n",
      "model_id, score_thresholds 1 {'rank_abs': [1994]}\n",
      "fn 15 28\n",
      "fp 43 357\n",
      "tn 2840 4892\n",
      "tp 231 1363\n",
      "baseline2 accuracy= 0.7702937864673969\n",
      "model_id, score_thresholds 1 {'rank_abs': [821]}\n",
      "executing sub-group 80\n",
      "Ratio is 80   sample is 1409\n",
      "model_id, score_thresholds 1 {'rank_abs': [1002]}\n",
      "fn 183 852\n",
      "fp 43 357\n",
      "tn 2840 4892\n",
      "tp 63 539\n",
      "MALE:  737 FEMALE 157"
     ]
    },
    {
     "name": "stderr",
     "output_type": "stream",
     "text": [
      "D:\\Anacode\\lib\\site-packages\\ipykernel_launcher.py:170: UserWarning: Boolean Series key will be reindexed to match DataFrame index.\n",
      "D:\\Anacode\\lib\\site-packages\\ipykernel_launcher.py:172: UserWarning: Boolean Series key will be reindexed to match DataFrame index.\n",
      "D:\\Anacode\\lib\\site-packages\\ipykernel_launcher.py:175: UserWarning: Boolean Series key will be reindexed to match DataFrame index.\n",
      "D:\\Anacode\\lib\\site-packages\\ipykernel_launcher.py:181: UserWarning: Boolean Series key will be reindexed to match DataFrame index.\n"
     ]
    },
    {
     "name": "stdout",
     "output_type": "stream",
     "text": [
      "\n",
      "test accuracy= 0.9446207390725765\n",
      "model_id, score_thresholds 1 {'rank_abs': [1896]}\n",
      "fn 26 115\n",
      "fp 43 357\n",
      "tn 2840 4892\n",
      "tp 220 1276\n",
      "75 done.\n",
      "baseline accuracy= 0.952298085781554\n",
      "model_id, score_thresholds 1 {'rank_abs': [1971]}\n",
      "fn 26 40\n",
      "fp 43 357\n",
      "tn 2840 4892\n",
      "tp 220 1351\n",
      "baseline2 accuracy= 0.7683488586344559\n",
      "model_id, score_thresholds 1 {'rank_abs': [814]}\n",
      "executing sub-group 81\n",
      "Ratio is 81   sample is 1427\n",
      "model_id, score_thresholds 1 {'rank_abs': [1002]}\n",
      "fn 183 852\n",
      "fp 43 357\n",
      "tn 2840 4892\n",
      "tp 63 539\n",
      "MALE:  749 FEMALE 156\n"
     ]
    },
    {
     "name": "stderr",
     "output_type": "stream",
     "text": [
      "D:\\Anacode\\lib\\site-packages\\ipykernel_launcher.py:170: UserWarning: Boolean Series key will be reindexed to match DataFrame index.\n",
      "D:\\Anacode\\lib\\site-packages\\ipykernel_launcher.py:172: UserWarning: Boolean Series key will be reindexed to match DataFrame index.\n",
      "D:\\Anacode\\lib\\site-packages\\ipykernel_launcher.py:175: UserWarning: Boolean Series key will be reindexed to match DataFrame index.\n",
      "D:\\Anacode\\lib\\site-packages\\ipykernel_launcher.py:181: UserWarning: Boolean Series key will be reindexed to match DataFrame index.\n"
     ]
    },
    {
     "name": "stdout",
     "output_type": "stream",
     "text": [
      "test accuracy= 0.9457467499232265\n",
      "model_id, score_thresholds 1 {'rank_abs': [1907]}\n",
      "fn 27 103\n",
      "fp 43 357\n",
      "tn 2840 4892\n",
      "tp 219 1288\n",
      "75 done.\n",
      "baseline accuracy= 0.953424096632204\n",
      "model_id, score_thresholds 1 {'rank_abs': [1982]}\n",
      "fn 27 28\n",
      "fp 43 357\n",
      "tn 2840 4892\n",
      "tp 219 1363\n",
      "baseline2 accuracy= 0.7693725048623196\n",
      "model_id, score_thresholds 1 {'rank_abs': [812]}\n",
      "executing sub-group 82\n",
      "Ratio is 82   sample is 1444\n",
      "model_id, score_thresholds 1 {'rank_abs': [1002]}\n",
      "fn 183 852\n",
      "fp 43 357\n",
      "tn 2840 4892\n",
      "tp 63 539\n",
      "MALE:  754 FEMALE 168\n",
      "test accuracy= "
     ]
    },
    {
     "name": "stderr",
     "output_type": "stream",
     "text": [
      "D:\\Anacode\\lib\\site-packages\\ipykernel_launcher.py:170: UserWarning: Boolean Series key will be reindexed to match DataFrame index.\n",
      "D:\\Anacode\\lib\\site-packages\\ipykernel_launcher.py:172: UserWarning: Boolean Series key will be reindexed to match DataFrame index.\n",
      "D:\\Anacode\\lib\\site-packages\\ipykernel_launcher.py:175: UserWarning: Boolean Series key will be reindexed to match DataFrame index.\n",
      "D:\\Anacode\\lib\\site-packages\\ipykernel_launcher.py:181: UserWarning: Boolean Series key will be reindexed to match DataFrame index.\n"
     ]
    },
    {
     "name": "stdout",
     "output_type": "stream",
     "text": [
      "0.9474869485105948\n",
      "model_id, score_thresholds 1 {'rank_abs': [1924]}\n",
      "fn 15 98\n",
      "fp 43 357\n",
      "tn 2840 4892\n",
      "tp 231 1293\n",
      "75 done.\n",
      "baseline accuracy= 0.9551642952195721\n",
      "model_id, score_thresholds 1 {'rank_abs': [1999]}\n",
      "fn 15 23\n",
      "fp 43 357\n",
      "tn 2840 4892\n",
      "tp 231 1368\n",
      "baseline2 accuracy= 0.7682464940116696\n",
      "model_id, score_thresholds 1 {'rank_abs': [823]}\n",
      "executing sub-group 83\n",
      "Ratio is 83   sample is 1462\n",
      "model_id, score_thresholds 1 {'rank_abs': [1002]}\n",
      "fn 183 852\n",
      "fp 43 357\n",
      "tn 2840 4892\n",
      "tp 63 539\n",
      "MALE:  747 FEMALE 152\n"
     ]
    },
    {
     "name": "stderr",
     "output_type": "stream",
     "text": [
      "D:\\Anacode\\lib\\site-packages\\ipykernel_launcher.py:170: UserWarning: Boolean Series key will be reindexed to match DataFrame index.\n",
      "D:\\Anacode\\lib\\site-packages\\ipykernel_launcher.py:172: UserWarning: Boolean Series key will be reindexed to match DataFrame index.\n",
      "D:\\Anacode\\lib\\site-packages\\ipykernel_launcher.py:175: UserWarning: Boolean Series key will be reindexed to match DataFrame index.\n",
      "D:\\Anacode\\lib\\site-packages\\ipykernel_launcher.py:181: UserWarning: Boolean Series key will be reindexed to match DataFrame index.\n"
     ]
    },
    {
     "name": "stdout",
     "output_type": "stream",
     "text": [
      "test accuracy= 0.9451325621865083\n",
      "model_id, score_thresholds 1 {'rank_abs': [1901]}\n",
      "fn 31 105\n",
      "fp 43 357\n",
      "tn 2840 4892\n",
      "tp 215 1286\n",
      "75 done.\n",
      "baseline accuracy= 0.9528099088954857\n",
      "model_id, score_thresholds 1 {'rank_abs': [1976]}\n",
      "fn 31 30\n",
      "fp 43 357\n",
      "tn 2840 4892\n",
      "tp 215 1361\n",
      "baseline2 accuracy= 0.7681441293888832\n",
      "model_id, score_thresholds 1 {'rank_abs': [806]}\n",
      "executing sub-group 84\n",
      "Ratio is 84   sample is 1480\n",
      "model_id, score_thresholds 1 {'rank_abs': [1002]}\n",
      "fn 183 852\n",
      "fp 43 357\n",
      "tn 2840 4892\n",
      "tp 63 539\n",
      "MALE:  730 FEMALE"
     ]
    },
    {
     "name": "stderr",
     "output_type": "stream",
     "text": [
      "D:\\Anacode\\lib\\site-packages\\ipykernel_launcher.py:170: UserWarning: Boolean Series key will be reindexed to match DataFrame index.\n",
      "D:\\Anacode\\lib\\site-packages\\ipykernel_launcher.py:172: UserWarning: Boolean Series key will be reindexed to match DataFrame index.\n",
      "D:\\Anacode\\lib\\site-packages\\ipykernel_launcher.py:175: UserWarning: Boolean Series key will be reindexed to match DataFrame index.\n",
      "D:\\Anacode\\lib\\site-packages\\ipykernel_launcher.py:181: UserWarning: Boolean Series key will be reindexed to match DataFrame index.\n"
     ]
    },
    {
     "name": "stdout",
     "output_type": "stream",
     "text": [
      " 160\n",
      "test accuracy= 0.9442112805814311\n",
      "model_id, score_thresholds 1 {'rank_abs': [1892]}\n",
      "fn 23 122\n",
      "fp 43 357\n",
      "tn 2840 4892\n",
      "tp 223 1269\n",
      "75 done.\n",
      "baseline accuracy= 0.9518886272904085\n",
      "model_id, score_thresholds 1 {'rank_abs': [1967]}\n",
      "fn 23 47\n",
      "fp 43 357\n",
      "tn 2840 4892\n",
      "tp 223 1344\n",
      "baseline2 accuracy= 0.770907974204115\n",
      "model_id, score_thresholds 1 {'rank_abs': [803]}\n",
      "executing sub-group 85\n",
      "Ratio is 85   sample is 1497\n",
      "model_id, score_thresholds 1 {'rank_abs': [1002]}\n",
      "fn 183 852\n",
      "fp 43 357\n",
      "tn 2840 4892\n",
      "tp 63 539\n",
      "MALE:  749 FEMALE 164\n"
     ]
    },
    {
     "name": "stderr",
     "output_type": "stream",
     "text": [
      "D:\\Anacode\\lib\\site-packages\\ipykernel_launcher.py:170: UserWarning: Boolean Series key will be reindexed to match DataFrame index.\n",
      "D:\\Anacode\\lib\\site-packages\\ipykernel_launcher.py:172: UserWarning: Boolean Series key will be reindexed to match DataFrame index.\n",
      "D:\\Anacode\\lib\\site-packages\\ipykernel_launcher.py:175: UserWarning: Boolean Series key will be reindexed to match DataFrame index.\n",
      "D:\\Anacode\\lib\\site-packages\\ipykernel_launcher.py:181: UserWarning: Boolean Series key will be reindexed to match DataFrame index.\n"
     ]
    },
    {
     "name": "stdout",
     "output_type": "stream",
     "text": [
      "test accuracy= 0.9465656669055175\n",
      "model_id, score_thresholds 1 {'rank_abs': [1915]}\n",
      "fn 19 103\n",
      "fp 43 357\n",
      "tn 2840 4892\n",
      "tp 227 1288\n",
      "75 done.\n",
      "baseline accuracy= 0.9542430136144948\n",
      "model_id, score_thresholds 1 {'rank_abs': [1990]}\n",
      "fn 19 28\n",
      "fp 43 357\n",
      "tn 2840 4892\n",
      "tp 227 1363\n",
      "baseline2 accuracy= 0.7687583171256014\n",
      "model_id, score_thresholds 1 {'rank_abs': [814]}\n",
      "executing sub-group 86\n",
      "Ratio is 86   sample is 1515\n",
      "model_id, score_thresholds 1 {'rank_abs': [1002]}\n",
      "fn 183 852\n",
      "fp 43 357\n",
      "tn 2840 4892\n",
      "tp 63 539\n",
      "MALE:  743 FEMALE 160\n",
      "test accuracy="
     ]
    },
    {
     "name": "stderr",
     "output_type": "stream",
     "text": [
      "D:\\Anacode\\lib\\site-packages\\ipykernel_launcher.py:170: UserWarning: Boolean Series key will be reindexed to match DataFrame index.\n",
      "D:\\Anacode\\lib\\site-packages\\ipykernel_launcher.py:172: UserWarning: Boolean Series key will be reindexed to match DataFrame index.\n",
      "D:\\Anacode\\lib\\site-packages\\ipykernel_launcher.py:175: UserWarning: Boolean Series key will be reindexed to match DataFrame index.\n",
      "D:\\Anacode\\lib\\site-packages\\ipykernel_launcher.py:181: UserWarning: Boolean Series key will be reindexed to match DataFrame index.\n"
     ]
    },
    {
     "name": "stdout",
     "output_type": "stream",
     "text": [
      " 0.9455420206776538\n",
      "model_id, score_thresholds 1 {'rank_abs': [1905]}\n",
      "fn 23 109\n",
      "fp 43 357\n",
      "tn 2840 4892\n",
      "tp 223 1282\n",
      "75 done.\n",
      "baseline accuracy= 0.9532193673866312\n",
      "model_id, score_thresholds 1 {'rank_abs': [1980]}\n",
      "fn 23 34\n",
      "fp 43 357\n",
      "tn 2840 4892\n",
      "tp 223 1357\n",
      "baseline2 accuracy= 0.7665062954243014\n",
      "model_id, score_thresholds 1 {'rank_abs': [818]}\n",
      "executing sub-group 87\n",
      "Ratio is 87   sample is 1532\n",
      "model_id, score_thresholds 1 {'rank_abs': [1002]}\n",
      "fn 183 852\n",
      "fp 43 357\n",
      "tn 2840 4892\n",
      "tp 63 539\n"
     ]
    },
    {
     "name": "stderr",
     "output_type": "stream",
     "text": [
      "D:\\Anacode\\lib\\site-packages\\ipykernel_launcher.py:170: UserWarning: Boolean Series key will be reindexed to match DataFrame index.\n",
      "D:\\Anacode\\lib\\site-packages\\ipykernel_launcher.py:172: UserWarning: Boolean Series key will be reindexed to match DataFrame index.\n",
      "D:\\Anacode\\lib\\site-packages\\ipykernel_launcher.py:175: UserWarning: Boolean Series key will be reindexed to match DataFrame index.\n",
      "D:\\Anacode\\lib\\site-packages\\ipykernel_launcher.py:181: UserWarning: Boolean Series key will be reindexed to match DataFrame index.\n"
     ]
    },
    {
     "name": "stdout",
     "output_type": "stream",
     "text": [
      "MALE:  754 FEMALE 166\n",
      "test accuracy= 0.947282219265022\n",
      "model_id, score_thresholds 1 {'rank_abs': [1922]}\n",
      "fn 17 98\n",
      "fp 43 357\n",
      "tn 2840 4892\n",
      "tp 229 1293\n",
      "75 done.\n",
      "baseline accuracy= 0.9549595659739993\n",
      "model_id, score_thresholds 1 {'rank_abs': [1997]}\n",
      "fn 17 23\n",
      "fp 43 357\n",
      "tn 2840 4892\n",
      "tp 229 1368\n",
      "baseline2 accuracy= 0.768655952502815\n",
      "model_id, score_thresholds 1 {'rank_abs': [817]}\n",
      "executing sub-group 88\n",
      "Ratio is 88   sample is 1550\n",
      "model_id, score_thresholds 1 {'rank_abs': [1002]}\n",
      "fn 183 852\n",
      "fp 43 357\n",
      "tn 2840 4892\n",
      "tp 63 539\n",
      "MALE:  756 FEMALE 179\n",
      "test accuracy="
     ]
    },
    {
     "name": "stderr",
     "output_type": "stream",
     "text": [
      "D:\\Anacode\\lib\\site-packages\\ipykernel_launcher.py:170: UserWarning: Boolean Series key will be reindexed to match DataFrame index.\n",
      "D:\\Anacode\\lib\\site-packages\\ipykernel_launcher.py:172: UserWarning: Boolean Series key will be reindexed to match DataFrame index.\n",
      "D:\\Anacode\\lib\\site-packages\\ipykernel_launcher.py:175: UserWarning: Boolean Series key will be reindexed to match DataFrame index.\n",
      "D:\\Anacode\\lib\\site-packages\\ipykernel_launcher.py:181: UserWarning: Boolean Series key will be reindexed to match DataFrame index.\n"
     ]
    },
    {
     "name": "stdout",
     "output_type": "stream",
     "text": [
      " 0.9488176886068175\n",
      "model_id, score_thresholds 1 {'rank_abs': [1937]}\n",
      "fn 4 96\n",
      "fp 43 357\n",
      "tn 2840 4892\n",
      "tp 242 1295\n",
      "75 done.\n",
      "baseline accuracy= 0.9564950353157948\n",
      "model_id, score_thresholds 1 {'rank_abs': [2012]}\n",
      "fn 4 21\n",
      "fp 43 357\n",
      "tn 2840 4892\n",
      "tp 242 1370\n",
      "baseline2 accuracy= 0.7654826491964377\n",
      "model_id, score_thresholds 1 {'rank_abs': [850]}\n",
      "executing sub-group 89\n",
      "Ratio is 89   sample is 1568\n",
      "model_id, score_thresholds 1 {'rank_abs': [1002]}\n",
      "fn 183 852\n",
      "fp 43 357\n",
      "tn 2840 4892\n",
      "tp 63 539\n",
      "MALE:  734 FEMALE 161\n"
     ]
    },
    {
     "name": "stderr",
     "output_type": "stream",
     "text": [
      "D:\\Anacode\\lib\\site-packages\\ipykernel_launcher.py:170: UserWarning: Boolean Series key will be reindexed to match DataFrame index.\n",
      "D:\\Anacode\\lib\\site-packages\\ipykernel_launcher.py:172: UserWarning: Boolean Series key will be reindexed to match DataFrame index.\n",
      "D:\\Anacode\\lib\\site-packages\\ipykernel_launcher.py:175: UserWarning: Boolean Series key will be reindexed to match DataFrame index.\n",
      "D:\\Anacode\\lib\\site-packages\\ipykernel_launcher.py:181: UserWarning: Boolean Series key will be reindexed to match DataFrame index.\n"
     ]
    },
    {
     "name": "stdout",
     "output_type": "stream",
     "text": [
      "test accuracy= 0.9447231036953628\n",
      "model_id, score_thresholds 1 {'rank_abs': [1897]}\n",
      "fn 22 118\n",
      "fp 43 357\n",
      "tn 2840 4892\n",
      "tp 224 1273\n",
      "75 done.\n",
      "baseline accuracy= 0.9524004504043403\n",
      "model_id, score_thresholds 1 {'rank_abs': [1972]}\n",
      "fn 22 43\n",
      "fp 43 357\n",
      "tn 2840 4892\n",
      "tp 224 1348\n",
      "baseline2 accuracy= 0.765277919950865\n",
      "model_id, score_thresholds 1 {'rank_abs': [816]}\n",
      "executing sub-group 90\n",
      "Ratio is 90   sample is 1585\n",
      "model_id, score_thresholds 1 {'rank_abs': [1002]}\n",
      "fn 183 852\n",
      "fp 43 357\n",
      "tn 2840 4892\n",
      "tp 63 539\n",
      "MALE:  761 FEMALE 174\n"
     ]
    },
    {
     "name": "stderr",
     "output_type": "stream",
     "text": [
      "D:\\Anacode\\lib\\site-packages\\ipykernel_launcher.py:170: UserWarning: Boolean Series key will be reindexed to match DataFrame index.\n",
      "D:\\Anacode\\lib\\site-packages\\ipykernel_launcher.py:172: UserWarning: Boolean Series key will be reindexed to match DataFrame index.\n",
      "D:\\Anacode\\lib\\site-packages\\ipykernel_launcher.py:175: UserWarning: Boolean Series key will be reindexed to match DataFrame index.\n",
      "D:\\Anacode\\lib\\site-packages\\ipykernel_launcher.py:181: UserWarning: Boolean Series key will be reindexed to match DataFrame index.\n"
     ]
    },
    {
     "name": "stdout",
     "output_type": "stream",
     "text": [
      "test accuracy= 0.9488176886068175\n",
      "model_id, score_thresholds 1 {'rank_abs': [1937]}\n",
      "fn 9 91\n",
      "fp 43 357\n",
      "tn 2840 4892\n",
      "tp 237 1300\n",
      "75 done.\n",
      "baseline accuracy= 0.9564950353157948\n",
      "model_id, score_thresholds 1 {'rank_abs': [2012]}\n",
      "fn 9 16\n",
      "fp 43 357\n",
      "tn 2840 4892\n",
      "tp 237 1375\n",
      "baseline2 accuracy= 0.7654826491964377\n",
      "model_id, score_thresholds 1 {'rank_abs': [842]}\n",
      "executing sub-group 91\n",
      "Ratio is 91   sample is 1603\n",
      "model_id, score_thresholds 1 {'rank_abs': [1002]}\n",
      "fn 183 852\n",
      "fp 43 357\n",
      "tn 2840 4892\n",
      "tp 63 539\n",
      "MALE:  739 FEMALE 164\n",
      "test accuracy= "
     ]
    },
    {
     "name": "stderr",
     "output_type": "stream",
     "text": [
      "D:\\Anacode\\lib\\site-packages\\ipykernel_launcher.py:170: UserWarning: Boolean Series key will be reindexed to match DataFrame index.\n",
      "D:\\Anacode\\lib\\site-packages\\ipykernel_launcher.py:172: UserWarning: Boolean Series key will be reindexed to match DataFrame index.\n",
      "D:\\Anacode\\lib\\site-packages\\ipykernel_launcher.py:175: UserWarning: Boolean Series key will be reindexed to match DataFrame index.\n",
      "D:\\Anacode\\lib\\site-packages\\ipykernel_launcher.py:181: UserWarning: Boolean Series key will be reindexed to match DataFrame index.\n"
     ]
    },
    {
     "name": "stdout",
     "output_type": "stream",
     "text": [
      "0.9455420206776538\n",
      "model_id, score_thresholds 1 {'rank_abs': [1905]}\n",
      "fn 19 113\n",
      "fp 43 357\n",
      "tn 2840 4892\n",
      "tp 227 1278\n",
      "75 done.\n",
      "baseline accuracy= 0.9532193673866312\n",
      "model_id, score_thresholds 1 {'rank_abs': [1980]}\n",
      "fn 19 38\n",
      "fp 43 357\n",
      "tn 2840 4892\n",
      "tp 227 1353\n",
      "baseline2 accuracy= 0.7693725048623196\n",
      "model_id, score_thresholds 1 {'rank_abs': [824]}\n",
      "executing sub-group 92\n",
      "Ratio is 92   sample is 1621\n",
      "model_id, score_thresholds 1 {'rank_abs': [1002]}\n",
      "fn 183 852\n",
      "fp 43 357\n",
      "tn 2840 4892\n",
      "tp 63 539\n",
      "MALE:  757 FEMALE 163\n"
     ]
    },
    {
     "name": "stderr",
     "output_type": "stream",
     "text": [
      "D:\\Anacode\\lib\\site-packages\\ipykernel_launcher.py:170: UserWarning: Boolean Series key will be reindexed to match DataFrame index.\n",
      "D:\\Anacode\\lib\\site-packages\\ipykernel_launcher.py:172: UserWarning: Boolean Series key will be reindexed to match DataFrame index.\n",
      "D:\\Anacode\\lib\\site-packages\\ipykernel_launcher.py:175: UserWarning: Boolean Series key will be reindexed to match DataFrame index.\n",
      "D:\\Anacode\\lib\\site-packages\\ipykernel_launcher.py:181: UserWarning: Boolean Series key will be reindexed to match DataFrame index.\n"
     ]
    },
    {
     "name": "stdout",
     "output_type": "stream",
     "text": [
      "test accuracy= 0.947282219265022\n",
      "model_id, score_thresholds 1 {'rank_abs': [1922]}\n",
      "fn 20 95\n",
      "fp 43 357\n",
      "tn 2840 4892\n",
      "tp 226 1296\n",
      "75 done.\n",
      "baseline accuracy= 0.9549595659739993\n",
      "model_id, score_thresholds 1 {'rank_abs': [1997]}\n",
      "fn 20 20\n",
      "fp 43 357\n",
      "tn 2840 4892\n",
      "tp 226 1371\n",
      "baseline2 accuracy= 0.772852902037056\n",
      "model_id, score_thresholds 1 {'rank_abs': [816]}\n",
      "executing sub-group 93\n",
      "Ratio is 93   sample is 1638\n",
      "model_id, score_thresholds 1 {'rank_abs': [1002]}\n",
      "fn 183 852\n",
      "fp 43 357\n",
      "tn 2840 4892\n",
      "tp 63 539\n"
     ]
    },
    {
     "name": "stderr",
     "output_type": "stream",
     "text": [
      "D:\\Anacode\\lib\\site-packages\\ipykernel_launcher.py:170: UserWarning: Boolean Series key will be reindexed to match DataFrame index.\n",
      "D:\\Anacode\\lib\\site-packages\\ipykernel_launcher.py:172: UserWarning: Boolean Series key will be reindexed to match DataFrame index.\n",
      "D:\\Anacode\\lib\\site-packages\\ipykernel_launcher.py:175: UserWarning: Boolean Series key will be reindexed to match DataFrame index.\n",
      "D:\\Anacode\\lib\\site-packages\\ipykernel_launcher.py:181: UserWarning: Boolean Series key will be reindexed to match DataFrame index.\n"
     ]
    },
    {
     "name": "stdout",
     "output_type": "stream",
     "text": [
      "MALE:  762 FEMALE 165\n",
      "test accuracy= 0.9479987716245266\n",
      "model_id, score_thresholds 1 {'rank_abs': [1929]}\n",
      "fn 18 90\n",
      "fp 43 357\n",
      "tn 2840 4892\n",
      "tp 228 1301\n",
      "75 done.\n",
      "baseline accuracy= 0.955676118333504\n",
      "model_id, score_thresholds 1 {'rank_abs': [2004]}\n",
      "fn 18 15\n",
      "fp 43 357\n",
      "tn 2840 4892\n",
      "tp 228 1376\n",
      "baseline2 accuracy= 0.7696795987306787\n",
      "model_id, score_thresholds 1 {'rank_abs': [839]}\n",
      "executing sub-group 94\n",
      "Ratio is 94   sample is 1656\n",
      "model_id, score_thresholds 1 {'rank_abs': [1002]}\n",
      "fn 183 852\n",
      "fp 43 357\n",
      "tn 2840 4892\n",
      "tp 63 539\n",
      "MALE:  746 FEMALE 173\n",
      "test accuracy= 0.9471798546422356\n",
      "model_id, score_thresholds 1 {'rank_abs': [1921]}\n"
     ]
    },
    {
     "name": "stderr",
     "output_type": "stream",
     "text": [
      "D:\\Anacode\\lib\\site-packages\\ipykernel_launcher.py:170: UserWarning: Boolean Series key will be reindexed to match DataFrame index.\n",
      "D:\\Anacode\\lib\\site-packages\\ipykernel_launcher.py:172: UserWarning: Boolean Series key will be reindexed to match DataFrame index.\n",
      "D:\\Anacode\\lib\\site-packages\\ipykernel_launcher.py:175: UserWarning: Boolean Series key will be reindexed to match DataFrame index.\n",
      "D:\\Anacode\\lib\\site-packages\\ipykernel_launcher.py:181: UserWarning: Boolean Series key will be reindexed to match DataFrame index.\n"
     ]
    },
    {
     "name": "stdout",
     "output_type": "stream",
     "text": [
      "fn 10 106\n",
      "fp 43 357\n",
      "tn 2840 4892\n",
      "tp 236 1285\n",
      "75 done.\n",
      "baseline accuracy= 0.954857201351213\n",
      "model_id, score_thresholds 1 {'rank_abs': [1996]}\n",
      "fn 10 31\n",
      "fp 43 357\n",
      "tn 2840 4892\n",
      "tp 236 1360\n",
      "baseline2 accuracy= 0.7716245265636196\n",
      "model_id, score_thresholds 1 {'rank_abs': [818]}\n",
      "executing sub-group 95\n",
      "Ratio is 95   sample is 1673\n",
      "model_id, score_thresholds 1 {'rank_abs': [1002]}\n",
      "fn 183 852\n",
      "fp 43 357\n",
      "tn 2840 4892\n",
      "tp 63 539\n",
      "MALE:  775 FEMALE 172\n"
     ]
    },
    {
     "name": "stderr",
     "output_type": "stream",
     "text": [
      "D:\\Anacode\\lib\\site-packages\\ipykernel_launcher.py:170: UserWarning: Boolean Series key will be reindexed to match DataFrame index.\n",
      "D:\\Anacode\\lib\\site-packages\\ipykernel_launcher.py:172: UserWarning: Boolean Series key will be reindexed to match DataFrame index.\n",
      "D:\\Anacode\\lib\\site-packages\\ipykernel_launcher.py:175: UserWarning: Boolean Series key will be reindexed to match DataFrame index.\n",
      "D:\\Anacode\\lib\\site-packages\\ipykernel_launcher.py:181: UserWarning: Boolean Series key will be reindexed to match DataFrame index.\n"
     ]
    },
    {
     "name": "stdout",
     "output_type": "stream",
     "text": [
      "test accuracy= 0.9500460640802538\n",
      "model_id, score_thresholds 1 {'rank_abs': [1949]}\n",
      "fn 11 77\n",
      "fp 43 357\n",
      "tn 2840 4892\n",
      "tp 235 1314\n",
      "75 done.\n",
      "baseline accuracy= 0.9577234107892313\n",
      "model_id, score_thresholds 1 {'rank_abs': [2024]}\n",
      "fn 11 2\n",
      "fp 43 357\n",
      "tn 2840 4892\n",
      "tp 235 1389\n",
      "baseline2 accuracy= 0.7672228477838059\n",
      "model_id, score_thresholds 1 {'rank_abs': [847]}\n",
      "executing sub-group 96\n",
      "Ratio is 96   sample is 1691\n",
      "model_id, score_thresholds 1 {'rank_abs': [1002]}\n",
      "fn 183 852\n",
      "fp 43 357\n",
      "tn 2840 4892\n",
      "tp 63 539\n",
      "MALE: "
     ]
    },
    {
     "name": "stderr",
     "output_type": "stream",
     "text": [
      "D:\\Anacode\\lib\\site-packages\\ipykernel_launcher.py:170: UserWarning: Boolean Series key will be reindexed to match DataFrame index.\n",
      "D:\\Anacode\\lib\\site-packages\\ipykernel_launcher.py:172: UserWarning: Boolean Series key will be reindexed to match DataFrame index.\n",
      "D:\\Anacode\\lib\\site-packages\\ipykernel_launcher.py:175: UserWarning: Boolean Series key will be reindexed to match DataFrame index.\n",
      "D:\\Anacode\\lib\\site-packages\\ipykernel_launcher.py:181: UserWarning: Boolean Series key will be reindexed to match DataFrame index.\n"
     ]
    },
    {
     "name": "stdout",
     "output_type": "stream",
     "text": [
      " 695 FEMALE 155\n",
      "test accuracy= 0.9401166956699765\n",
      "model_id, score_thresholds 1 {'rank_abs': [1852]}\n",
      "fn 28 157\n",
      "fp 43 357\n",
      "tn 2840 4892\n",
      "tp 218 1234\n",
      "75 done.\n",
      "baseline accuracy= 0.9477940423789538\n",
      "model_id, score_thresholds 1 {'rank_abs': [1927]}\n",
      "fn 28 82\n",
      "fp 43 357\n",
      "tn 2840 4892\n",
      "tp 218 1309\n",
      "baseline2 accuracy= 0.772852902037056\n",
      "model_id, score_thresholds 1 {'rank_abs': [756]}\n",
      "executing sub-group 97\n",
      "Ratio is 97   sample is 1709\n",
      "model_id, score_thresholds 1 {'rank_abs': [1002]}\n",
      "fn 183 852\n",
      "fp 43 357\n",
      "tn 2840 4892\n",
      "tp 63 539\n",
      "MALE:  754 FEMALE 168"
     ]
    },
    {
     "name": "stderr",
     "output_type": "stream",
     "text": [
      "D:\\Anacode\\lib\\site-packages\\ipykernel_launcher.py:170: UserWarning: Boolean Series key will be reindexed to match DataFrame index.\n",
      "D:\\Anacode\\lib\\site-packages\\ipykernel_launcher.py:172: UserWarning: Boolean Series key will be reindexed to match DataFrame index.\n",
      "D:\\Anacode\\lib\\site-packages\\ipykernel_launcher.py:175: UserWarning: Boolean Series key will be reindexed to match DataFrame index.\n",
      "D:\\Anacode\\lib\\site-packages\\ipykernel_launcher.py:181: UserWarning: Boolean Series key will be reindexed to match DataFrame index.\n"
     ]
    },
    {
     "name": "stdout",
     "output_type": "stream",
     "text": [
      "\n",
      "test accuracy= 0.9474869485105948\n",
      "model_id, score_thresholds 1 {'rank_abs': [1924]}\n",
      "fn 15 98\n",
      "fp 43 357\n",
      "tn 2840 4892\n",
      "tp 231 1293\n",
      "75 done.\n",
      "baseline accuracy= 0.9551642952195721\n",
      "model_id, score_thresholds 1 {'rank_abs': [1999]}\n",
      "fn 15 23\n",
      "fp 43 357\n",
      "tn 2840 4892\n",
      "tp 231 1368\n",
      "baseline2 accuracy= 0.7661992015559422\n",
      "model_id, score_thresholds 1 {'rank_abs': [829]}\n",
      "executing sub-group 98\n",
      "Ratio is 98   sample is 1726\n",
      "model_id, score_thresholds 1 {'rank_abs': [1002]}\n",
      "fn 183 852\n",
      "fp 43 357\n",
      "tn 2840 4892\n",
      "tp 63 539\n",
      "MALE:  756 FEMALE 166\n",
      "test accuracy= "
     ]
    },
    {
     "name": "stderr",
     "output_type": "stream",
     "text": [
      "D:\\Anacode\\lib\\site-packages\\ipykernel_launcher.py:170: UserWarning: Boolean Series key will be reindexed to match DataFrame index.\n",
      "D:\\Anacode\\lib\\site-packages\\ipykernel_launcher.py:172: UserWarning: Boolean Series key will be reindexed to match DataFrame index.\n",
      "D:\\Anacode\\lib\\site-packages\\ipykernel_launcher.py:175: UserWarning: Boolean Series key will be reindexed to match DataFrame index.\n",
      "D:\\Anacode\\lib\\site-packages\\ipykernel_launcher.py:181: UserWarning: Boolean Series key will be reindexed to match DataFrame index.\n"
     ]
    },
    {
     "name": "stdout",
     "output_type": "stream",
     "text": [
      "0.9474869485105948\n",
      "model_id, score_thresholds 1 {'rank_abs': [1924]}\n",
      "fn 17 96\n",
      "fp 43 357\n",
      "tn 2840 4892\n",
      "tp 229 1295\n",
      "75 done.\n",
      "baseline accuracy= 0.9551642952195721\n",
      "model_id, score_thresholds 1 {'rank_abs': [1999]}\n",
      "fn 17 21\n",
      "fp 43 357\n",
      "tn 2840 4892\n",
      "tp 229 1370\n",
      "baseline2 accuracy= 0.7696795987306787\n",
      "model_id, score_thresholds 1 {'rank_abs': [815]}\n",
      "executing sub-group 99\n",
      "Ratio is 99   sample is 1744\n",
      "model_id, score_thresholds 1 {'rank_abs': [1002]}\n",
      "fn 183 852\n",
      "fp 43 357\n",
      "tn 2840 4892\n",
      "tp 63 539\n",
      "MALE:  732 FEMALE 158\n",
      "test accuracy= 0.9442112805814311\n",
      "model_id, score_thresholds 1 {'rank_abs': [1892]}\n"
     ]
    },
    {
     "name": "stderr",
     "output_type": "stream",
     "text": [
      "D:\\Anacode\\lib\\site-packages\\ipykernel_launcher.py:170: UserWarning: Boolean Series key will be reindexed to match DataFrame index.\n",
      "D:\\Anacode\\lib\\site-packages\\ipykernel_launcher.py:172: UserWarning: Boolean Series key will be reindexed to match DataFrame index.\n",
      "D:\\Anacode\\lib\\site-packages\\ipykernel_launcher.py:175: UserWarning: Boolean Series key will be reindexed to match DataFrame index.\n",
      "D:\\Anacode\\lib\\site-packages\\ipykernel_launcher.py:181: UserWarning: Boolean Series key will be reindexed to match DataFrame index.\n"
     ]
    },
    {
     "name": "stdout",
     "output_type": "stream",
     "text": [
      "fn 25 120\n",
      "fp 43 357\n",
      "tn 2840 4892\n",
      "tp 221 1271\n",
      "75 done.\n",
      "baseline accuracy= 0.9518886272904085\n",
      "model_id, score_thresholds 1 {'rank_abs': [1967]}\n",
      "fn 25 45\n",
      "fp 43 357\n",
      "tn 2840 4892\n",
      "tp 221 1346\n",
      "baseline2 accuracy= 0.7699866925990377\n",
      "model_id, score_thresholds 1 {'rank_abs': [796]}\n",
      "executing sub-group 100\n",
      "Ratio is 100   sample is 1762\n",
      "model_id, score_thresholds 1 {'rank_abs': [1002]}\n",
      "fn 183 852\n",
      "fp 43 357\n",
      "tn 2840 4892\n",
      "tp 63 539\n",
      "MALE:  736 FEMALE 170\n",
      "test accuracy= "
     ]
    },
    {
     "name": "stderr",
     "output_type": "stream",
     "text": [
      "D:\\Anacode\\lib\\site-packages\\ipykernel_launcher.py:170: UserWarning: Boolean Series key will be reindexed to match DataFrame index.\n",
      "D:\\Anacode\\lib\\site-packages\\ipykernel_launcher.py:172: UserWarning: Boolean Series key will be reindexed to match DataFrame index.\n",
      "D:\\Anacode\\lib\\site-packages\\ipykernel_launcher.py:175: UserWarning: Boolean Series key will be reindexed to match DataFrame index.\n",
      "D:\\Anacode\\lib\\site-packages\\ipykernel_launcher.py:181: UserWarning: Boolean Series key will be reindexed to match DataFrame index.\n"
     ]
    },
    {
     "name": "stdout",
     "output_type": "stream",
     "text": [
      "0.945849114546013\n",
      "model_id, score_thresholds 1 {'rank_abs': [1908]}\n",
      "fn 13 116\n",
      "fp 43 357\n",
      "tn 2840 4892\n",
      "tp 233 1275\n",
      "75 done.\n",
      "baseline accuracy= 0.9535264612549903\n",
      "model_id, score_thresholds 1 {'rank_abs': [1983]}\n",
      "fn 13 41\n",
      "fp 43 357\n",
      "tn 2840 4892\n",
      "tp 233 1350\n",
      "baseline2 accuracy= 0.7682464940116696\n",
      "model_id, score_thresholds 1 {'rank_abs': [811]}\n"
     ]
    }
   ],
   "source": [
    "N = 100\n",
    "original_fairness = [0 for i in range(N)]\n",
    "train_diff = [0 for i in range(N)]\n",
    "count_of_male = [0 for i in range(N)]\n",
    "count_of_female = [0 for i in range(N)]\n",
    "best_score = [0 for i in range(N)]\n",
    "best_score_value = [0 for i in range(N)]\n",
    "baseline = [0 for i in range(N)]\n",
    "baseline2 = [0 for i in range(N)]\n",
    "Accuracy = [0 for i in range(N)]\n",
    "Baseline_Accuracy = [0 for i in range(N)]\n",
    "Baseline2_Accuracy = [0 for i in range(N)]\n",
    "for E in range(1):\n",
    "    print(\"Executing loop\", E + 1)\n",
    "    #Splitting data as train and test data \n",
    "    X_train, X_test, y_train, y_test, idx1, idx2 = train_test_split(X, y, indices, test_size=0.2)\n",
    "    rf = RandomForestClassifier(n_estimators = 100,  max_samples = 7500, bootstrap=True, random_state = 42)\n",
    "    rf.fit(X_train, y_train)\n",
    "    trainX = get_train_df(dff, idx1)\n",
    "    trainX_dummies = get_train_df(df, idx1)\n",
    "\n",
    "    final_predicted  = []\n",
    "    final_accuracy = 0\n",
    "    for threshold in np.arange(0.1, 1, 0.1):\n",
    "        predicted_proba = rf.predict_proba(X_train)\n",
    "        predicted = (predicted_proba[:,1] >= threshold).astype('int')\n",
    "\n",
    "        accuracy = accuracy_score(y_train, predicted)\n",
    "        if accuracy > final_accuracy:\n",
    "            final_accuracy = accuracy\n",
    "            final_predicted = predicted\n",
    "\n",
    "    predicted = final_predicted\n",
    "    trainX['score'] = predicted\n",
    "    trainX_dummies['score'] = predicted\n",
    "    #print(\"training set accuracy: \", final_accuracy)\n",
    "\n",
    "    final_accuracy = 0\n",
    "    for threshold in np.arange(0.1, 1, 0.1):\n",
    "        predicted_proba = rf.predict_proba(X_test)\n",
    "        predicted = (predicted_proba[:,1] >= threshold).astype('int')\n",
    "\n",
    "        accuracy = accuracy_score(y_test, predicted)\n",
    "        if accuracy > final_accuracy:\n",
    "            final_accuracy = accuracy\n",
    "    #print(\"testing set accuracy: \", final_accuracy)\n",
    "\n",
    "\n",
    "    traindf = get_train_df3(dff, idx1)\n",
    "    traindf_dummies = get_train_df2(df, idx1)\n",
    "\n",
    "    traindf['score'] = final_predicted\n",
    "    traindf_dummies['score'] = final_predicted\n",
    "    g = Group()\n",
    "    values = []\n",
    "    xtab, _ = g.get_crosstabs(traindf)\n",
    "    xtab1 = xtab\n",
    "    absolute_metrics = g.list_absolute_metrics(xtab)\n",
    "    aqp = Plot()\n",
    "    ###fnr = aqp.plot_group_metric(xtab, 'fnr')\n",
    "    ###fpr = aqp.plot_group_metric(xtab, 'fpr')\n",
    "    fnrblack = xtab['fnr'][2]\n",
    "    fnrwhite = xtab['fnr'][4]\n",
    "    fnrmale = xtab['fnr'][5]\n",
    "    fnrfemale = xtab['fnr'][6]\n",
    "    difference = abs(fnrmale - fnrfemale)\n",
    "    train_diff[E] = difference\n",
    "    #preserved_list.append([fnrblack, fnrwhite])\n",
    "    #o_accuracy.append(final_accuracy)\n",
    "\n",
    "    #######################\n",
    "    import copy\n",
    "    predicted_baseline = copy.deepcopy(predicted)\n",
    "    for ratio in range(1, 101):\n",
    "    #for ratio in [100]:\n",
    "        E = ratio - 1\n",
    "        print(\"executing sub-group\", ratio)\n",
    "        # --------------------------------------------------------------------------------------\n",
    "        #  & (trainX['score'] == 0)\n",
    "        newDF = trainX[(trainX['label_value'] != trainX['score']) & (trainX['score'] == 0)]\n",
    "        number_of_pages = len(newDF)\n",
    "        samples_num = int(number_of_pages * ratio * 0.01)\n",
    "        newDF = newDF.sample(n = samples_num)\n",
    "        print(\"Ratio is\", ratio, \"  sample is\", len(newDF))\n",
    "        newDF = trainX_dummies.loc[newDF.index,:]\n",
    "\n",
    "        trainX_dropped = trainX.drop(newDF.index)\n",
    "        newDF2 = trainX_dropped.sample(n=len(newDF)* 2)\n",
    "        newDF2 = trainX_dummies.loc[newDF2.index,:]\n",
    "\n",
    "        pnewDF = newDF\n",
    "        pnewDF = pnewDF.append(newDF2)\n",
    "\n",
    "        y_values = [1 for i in range(len(newDF))]\n",
    "        for j in range(len(newDF2)):\n",
    "            y_values.append(0)\n",
    "        indices_new = np.arange(len(y_values))\n",
    "\n",
    "        X_train1, X_test1, y_train1, y_test1, idx11, idx21 = train_test_split(pnewDF, y_values, indices_new, test_size=0.2)\n",
    "\n",
    "\n",
    "        rfclassifier = RandomForestClassifier(n_estimators = 100, min_samples_split = 10, max_depth = 5, bootstrap=True)\n",
    "        rfclassifier.fit(X_train1, y_train1)\n",
    "        #rfclassifier.score(X_test1,y_test1)\n",
    "        gggg = X_train1.index\n",
    "\n",
    "        # --------------------------------------------------------------------------------------\n",
    "\n",
    "        testdf = get_test_df(dff, idx2)\n",
    "        testdf_dummies = get_test_df2(df, idx2)\n",
    "\n",
    "        final_predicted  = []\n",
    "        final_accuracy = 0\n",
    "        for threshold in np.arange(0.1, 1, 0.1):\n",
    "            predicted_proba = rf.predict_proba(X_test)\n",
    "            predicted = (predicted_proba[:,1] >= threshold).astype('int')\n",
    "\n",
    "            accuracy = accuracy_score(y_test, predicted)\n",
    "            if accuracy > final_accuracy:\n",
    "                final_accuracy = accuracy\n",
    "                final_predicted = predicted\n",
    "\n",
    "        predicted = final_predicted\n",
    "        testdf['score'] = predicted\n",
    "        testdf_dummies['score'] = predicted\n",
    "        g = Group()\n",
    "        values = []\n",
    "        xtab, _ = g.get_crosstabs(testdf)\n",
    "        xtab1 = xtab\n",
    "        absolute_metrics = g.list_absolute_metrics(xtab)\n",
    "        aqp = Plot()\n",
    "        xtab['fnr'] = xtab['fnr'].fillna(0)\n",
    "        #fnr = aqp.plot_group_metric(xtab, 'fnr')\n",
    "        #fpr = aqp.plot_group_metric(xtab, 'fpr')\n",
    "        #print(\"test accuracy=\", final_accuracy)\n",
    "        fnrblack = xtab['fnr'][2]\n",
    "        fnrwhite = xtab['fnr'][4]\n",
    "        value = fnrblack - fnrwhite\n",
    "        original_fairness[E]= abs(xtab['fnr'][5] - xtab['fnr'][6]) + abs(xtab['fpr'][5] - xtab['fpr'][6]) / 2\n",
    "        print(\"fn\", xtab['fn'][5], xtab['fn'][6])\n",
    "        print(\"fp\", xtab['fp'][5], xtab['fp'][6])\n",
    "        print(\"tn\", xtab['tn'][5], xtab['tn'][6])\n",
    "        print(\"tp\", xtab['tp'][5], xtab['tp'][6])\n",
    "        #xx1.append(abs(value))\n",
    "\n",
    "\n",
    "\n",
    "\n",
    "        # --------------------------------------------------------------------------------------\n",
    "\n",
    "        black_size = xtab['fn'][2]\n",
    "        black_total = black_size + xtab['tn'][2]\n",
    "        white_size = xtab['fn'][4]\n",
    "        white_total = white_size + xtab['tn'][4]\n",
    "        #l = classifier.predict(testdf_dummies)\n",
    "        l = rfclassifier.predict(testdf_dummies)\n",
    "\n",
    "        curr_best_fair = 10000\n",
    "        all_fair = []\n",
    "        for kkk in [75]:\n",
    "        #for kkk in [int(reg.predict([[difference]]))]:\n",
    "\n",
    "\n",
    "            newdummies = testdf_dummies.reset_index(drop = True)\n",
    "\n",
    "            index = []\n",
    "            for idx,i in enumerate(l):\n",
    "                if i == 1:\n",
    "                    index.append(idx)\n",
    "            black = newdummies[newdummies.index.isin(index)][newdummies['Race:Black'] == 1]\n",
    "            count_black = len(black)\n",
    "            female = newdummies[newdummies.index.isin(index)][newdummies['Sex:Female'] == 1]\n",
    "            count_female = len(female)\n",
    "\n",
    "            white = newdummies[newdummies.index.isin(index)][newdummies['Race:White'] == 1]\n",
    "            #count_white = int(count_black / (fnrblack / fnrwhite))\n",
    "\n",
    "            count_white = len(white) - kkk\n",
    "\n",
    "\n",
    "            male = newdummies[newdummies.index.isin(index)][newdummies['Sex:Male'] == 1]\n",
    "            #male_positive = newdummies[newdummies.index.isin(index)][newdummies['Sex:Male'] == 0]\n",
    "            #print(\"AAA\",len(male_positive))\n",
    "            #count_white = int(count_black / (fnrblack / fnrwhite))\n",
    "            count_male = len(male) - kkk\n",
    "\n",
    "            male_sampled = male.sample(n = count_male)\n",
    "            print(\"MALE: \", len(male_sampled), \"FEMALE\", len(female))\n",
    "            white_sampled = white.sample(n = count_white)\n",
    "            if kkk == 0:\n",
    "                count_of_male[E] = count_male\n",
    "                count_of_female[E] = len(female)\n",
    "\n",
    "            new_predicted = []\n",
    "            add = 0\n",
    "            new_index = []\n",
    "            for i in range(len(l)):\n",
    "                if predicted[i] == 0 and (i in male_sampled.index or i in female.index):\n",
    "                    new_predicted.append(l[i] ^ predicted[i])\n",
    "                    if l[i] == 1:\n",
    "                        add += 1\n",
    "                else:\n",
    "                    new_predicted.append(predicted[i])\n",
    "            #print('changed: ', add)\n",
    "            #print(\"new_accuracy\", accuracy_score(y_test, new_predicted))\n",
    "            accuacy_new = accuracy_score(y_test, new_predicted)\n",
    "            print(\"test accuracy=\", accuracy_score(y_test, new_predicted))\n",
    "            #n_accuracy.append(accuacy_new)\n",
    "            #preserved_list1.append(accuracy_score(y_test, new_predicted))\n",
    "            Accuracy[E] = accuacy_new\n",
    "            testdf['score'] = new_predicted\n",
    "            g = Group()\n",
    "            values = []\n",
    "            xtab, _ = g.get_crosstabs(testdf)\n",
    "            absolute_metrics = g.list_absolute_metrics(xtab)\n",
    "            aqp = Plot()\n",
    "            xtab['fnr'] = xtab['fnr'].fillna(0)\n",
    "\n",
    "            #fnr = aqp.plot_group_metric(xtab, 'fnr')\n",
    "            fnr1 = xtab['fnr'][2]\n",
    "            fnr2 = xtab['fnr'][4]\n",
    "            #fpr = aqp.plot_group_metric(xtab, 'fpr')\n",
    "            #print(kkk, str(fnr1).format('.2f'), fnr2)\n",
    "            fnr3 = xtab['fnr'][5]\n",
    "            fnr4 = xtab['fnr'][6]\n",
    "            fpr5 = xtab['fpr'][5]\n",
    "            fpr6 = xtab['fpr'][6]\n",
    "            now_fair = (abs(fnr3 - fnr4) + abs(fpr5 - fpr6)) / 2\n",
    "\n",
    "            print(\"fn\", xtab['fn'][5], xtab['fn'][6])\n",
    "            print(\"fp\", xtab['fp'][5], xtab['fp'][6])\n",
    "            print(\"tn\", xtab['tn'][5], xtab['tn'][6])\n",
    "            print(\"tp\", xtab['tp'][5], xtab['tp'][6])\n",
    "\n",
    "            all_fair.append(now_fair)\n",
    "            print(kkk, \"done.\")\n",
    "            #print(\"AAAAAA\",now_fair, curr_best_fair)\n",
    "            if curr_best_fair > now_fair:\n",
    "                curr_best_fair = now_fair\n",
    "                value = kkk\n",
    "        best_score[E] = value\n",
    "        best_score_value[E] = curr_best_fair\n",
    "            #n_fair.append(abs(fnr3 - fnr4))\n",
    "            #xx.append(abs(fnr1 - fnr2))\n",
    "\n",
    "\n",
    "        # --------------------------------------------------------------------------------------\n",
    "        ##Baseline\n",
    "        import random\n",
    "    #     indexes_predicted_male = []\n",
    "    #     indexes_predicted_female = []\n",
    "    #     add_male, add_female = 0,0\n",
    "    #     for i in range(len(l)):\n",
    "    #             if predicted[i] == 0 and i in male_sampled.index:\n",
    "    #                 if l[i] == 1:\n",
    "    #                     add_male += 1\n",
    "    #             if predicted[i] == 0 and i in female.index:\n",
    "    #                 if l[i] == 1:\n",
    "    #                     add_female += 1\n",
    "    #     print(add_male, add_female, \"B\")\n",
    "    #     male_new = newdummies[newdummies['Sex:Male'] == 1]\n",
    "    #     female_new = newdummies[newdummies['Sex:Female'] == 1]\n",
    "\n",
    "\n",
    "\n",
    "    #     for i in range(len(predicted_baseline)):\n",
    "    #         if predicted_baseline[i] == 0 and i in male.index:\n",
    "    #             indexes_predicted_male.append(i)\n",
    "    #         if predicted_baseline[i] == 0 and i in female.index:\n",
    "    #             indexes_predicted_female.append(i)\n",
    "    #     print(len(indexes_predicted_male), len(indexes_predicted_female))\n",
    "    #     sampled_male = random.sample(indexes_predicted_male, add_male)\n",
    "    #     sampled_female = random.sample(indexes_predicted_female, add_female)\n",
    "    #     new_predicted2 = []\n",
    "    #     for i in range(len(predicted_baseline)):\n",
    "    #             if predicted[i] == 0 and (i in indexes_predicted_male or i in indexes_predicted_female):\n",
    "    #                 new_predicted2.append(1 ^ predicted_baseline[i])\n",
    "    #             else:\n",
    "    #                 new_predicted2.append(predicted_baseline[i])\n",
    "\n",
    "        new_predicted2 = []\n",
    "        add = 0\n",
    "        new_index = []\n",
    "        for i in range(len(l)):\n",
    "            if predicted[i] == 0 and (i in male.index or i in female.index):\n",
    "                new_predicted2.append(l[i] ^ predicted[i])\n",
    "                if l[i] == 1:\n",
    "                    add += 1\n",
    "            else:\n",
    "                new_predicted2.append(predicted[i])\n",
    "\n",
    "\n",
    "        accuacy_new = accuracy_score(y_test, new_predicted2)\n",
    "        print(\"baseline accuracy=\", accuracy_score(y_test, new_predicted2))\n",
    "        Baseline_Accuracy[E] = accuacy_new\n",
    "        #n_accuracy.append(accuacy_new)\n",
    "        #preserved_list1.append(accuracy_score(y_test, new_predicted))\n",
    "        testdf['score'] = new_predicted2\n",
    "        g = Group()\n",
    "        values = []\n",
    "        xtab, _ = g.get_crosstabs(testdf)\n",
    "        absolute_metrics = g.list_absolute_metrics(xtab)\n",
    "        aqp = Plot()\n",
    "        xtab['fnr'] = xtab['fnr'].fillna(0)\n",
    "        #fnr = aqp.plot_group_metric(xtab, 'fnr')\n",
    "        fnr1 = xtab['fnr'][2]\n",
    "        fnr2 = xtab['fnr'][4]\n",
    "        #fpr = aqp.plot_group_metric(xtab, 'fpr')\n",
    "        #print(kkk, str(fnr1).format('.2f'), fnr2)\n",
    "        fnr3 = xtab['fnr'][5]\n",
    "        fnr4 = xtab['fnr'][6]\n",
    "        fpr5 = xtab['fpr'][5]\n",
    "        fpr6 = xtab['fpr'][6]\n",
    "\n",
    "        baseline[E] = (abs(fnr3 - fnr4) + abs(fpr5 - fpr6)) / 2\n",
    "\n",
    "        print(\"fn\", xtab['fn'][5], xtab['fn'][6])\n",
    "        print(\"fp\", xtab['fp'][5], xtab['fp'][6])\n",
    "        print(\"tn\", xtab['tn'][5], xtab['tn'][6])\n",
    "        print(\"tp\", xtab['tp'][5], xtab['tp'][6])\n",
    "\n",
    "\n",
    "\n",
    "        # --------------------------------------------------------------------------------------\n",
    "        ##Baseline2\n",
    "        import random\n",
    "        indexes_predicted_male = []\n",
    "        indexes_predicted_female = []\n",
    "        add_male, add_female = 0,0\n",
    "        for i in range(len(l)):\n",
    "                if predicted[i] == 0 and i in male_sampled.index:\n",
    "                    if l[i] == 1:\n",
    "                        add_male += 1\n",
    "                if predicted[i] == 0 and i in female.index:\n",
    "                    if l[i] == 1:\n",
    "                        add_female += 1\n",
    "\n",
    "        for i in range(len(predicted_baseline)):\n",
    "                indexes_predicted_male.append(i)\n",
    "        sampled_male = random.sample(indexes_predicted_male, add_male + add_female)\n",
    "        new_predicted3 = []\n",
    "        for i in range(len(predicted_baseline)):\n",
    "                if predicted[i] == 0 and (i in sampled_male):\n",
    "                    new_predicted3.append(1 ^ predicted_baseline[i])\n",
    "                else:\n",
    "                    new_predicted3.append(predicted_baseline[i])\n",
    "        accuacy_new = accuracy_score(y_test, new_predicted3)\n",
    "        print(\"baseline2 accuracy=\", accuracy_score(y_test, new_predicted3))\n",
    "        Baseline2_Accuracy[E] = accuacy_new\n",
    "        #n_accuracy.append(accuacy_new)\n",
    "        #preserved_list1.append(accuracy_score(y_test, new_predicted))\n",
    "        testdf['score'] = new_predicted3\n",
    "        g = Group()\n",
    "        values = []\n",
    "        xtab, _ = g.get_crosstabs(testdf)\n",
    "        absolute_metrics = g.list_absolute_metrics(xtab)\n",
    "        aqp = Plot()\n",
    "        #xtab['fnr'] = xtab['fnr'].fillna(0)\n",
    "        #fnr = aqp.plot_group_metric(xtab, 'fnr')\n",
    "        fnr1 = xtab['fnr'][2]\n",
    "        fnr2 = xtab['fnr'][4]\n",
    "        #fpr = aqp.plot_group_metric(xtab, 'fpr')\n",
    "        #print(kkk, str(fnr1).format('.2f'), fnr2)\n",
    "        fnr3 = xtab['fnr'][5]\n",
    "        fnr4 = xtab['fnr'][6]\n",
    "        fpr5 = xtab['fpr'][5]\n",
    "        fpr6 = xtab['fpr'][6]\n",
    "        #tpr = aqp.plot_group_metric(xtab, 'tpr')\n",
    "\n",
    "        baseline2[E] = (abs(fnr3 - fnr4) + abs(fpr5 - fpr6)) / 2\n",
    "\n",
    "    \n",
    "    \n",
    "    "
   ]
  },
  {
   "cell_type": "code",
   "execution_count": null,
   "metadata": {
    "collapsed": true
   },
   "outputs": [],
   "source": []
  },
  {
   "cell_type": "code",
   "execution_count": 14,
   "metadata": {
    "collapsed": true
   },
   "outputs": [],
   "source": [
    "liii = [0 for i in range(0,300,10)]\n",
    "for i in range(0, len(liii)):\n",
    "    liii[i] = (786 - 2 * i)/171\n",
    "xxx = [i + 1 for i in range(100)]"
   ]
  },
  {
   "cell_type": "code",
   "execution_count": 15,
   "metadata": {
    "scrolled": true
   },
   "outputs": [
    {
     "name": "stderr",
     "output_type": "stream",
     "text": [
      "WARNING:matplotlib.legend:No handles with labels found to put in legend.\n"
     ]
    },
    {
     "data": {
      "image/png": "[encoded data removed]",
      "text/plain": [
       "<Figure size 432x288 with 1 Axes>"
      ]
     },
     "metadata": {},
     "output_type": "display_data"
    }
   ],
   "source": [
    "plt.plot(xxx, best_score_value)\n",
    "plt.legend()\n",
    "plt.show()"
   ]
  },
  {
   "cell_type": "code",
   "execution_count": 16,
   "metadata": {},
   "outputs": [
    {
     "data": {
      "text/plain": [
       "<matplotlib.axes._subplots.AxesSubplot at 0x188a3e66128>"
      ]
     },
     "execution_count": 16,
     "metadata": {},
     "output_type": "execute_result"
    },
    {
     "data": {
      "image/png": "[encoded data removed]",
      "text/plain": [
       "<Figure size 432x288 with 1 Axes>"
      ]
     },
     "metadata": {},
     "output_type": "display_data"
    }
   ],
   "source": [
    "a_df = pd.DataFrame()\n",
    "a_df['number of samples'] = xxx\n",
    "a_df['fairness'] = best_score_value\n",
    "import seaborn as sns\n",
    "sns.regplot(x='number of samples', y=\"fairness\", order = 4,data=a_df,  scatter=True)"
   ]
  },
  {
   "cell_type": "code",
   "execution_count": null,
   "metadata": {
    "collapsed": true
   },
   "outputs": [],
   "source": []
  },
  {
   "cell_type": "code",
   "execution_count": 6,
   "metadata": {},
   "outputs": [
    {
     "data": {
      "image/png": "[encoded data removed]",
      "text/plain": [
       "<Figure size 432x288 with 1 Axes>"
      ]
     },
     "metadata": {},
     "output_type": "display_data"
    }
   ],
   "source": [
    "plt.scatter(train_diff, best_score)\n",
    "plt.title('Race Fairness Scores without training race and sex feature')\n",
    "plt.xlabel('train_diff')\n",
    "plt.ylabel('best score')\n",
    "plt.show()"
   ]
  },
  {
   "cell_type": "code",
   "execution_count": null,
   "metadata": {
    "collapsed": true
   },
   "outputs": [],
   "source": []
  },
  {
   "cell_type": "code",
   "execution_count": 6,
   "metadata": {},
   "outputs": [
    {
     "data": {
      "text/plain": [
       "[75, 75]"
      ]
     },
     "execution_count": 6,
     "metadata": {},
     "output_type": "execute_result"
    }
   ],
   "source": [
    "#best_score"
   ]
  },
  {
   "cell_type": "code",
   "execution_count": null,
   "metadata": {
    "collapsed": true
   },
   "outputs": [],
   "source": []
  },
  {
   "cell_type": "code",
   "execution_count": 7,
   "metadata": {},
   "outputs": [
    {
     "data": {
      "text/plain": [
       "[0.13919779882065003]"
      ]
     },
     "execution_count": 7,
     "metadata": {},
     "output_type": "execute_result"
    }
   ],
   "source": []
  },
  {
   "cell_type": "code",
   "execution_count": null,
   "metadata": {
    "collapsed": true
   },
   "outputs": [],
   "source": []
  },
  {
   "cell_type": "code",
   "execution_count": 6,
   "metadata": {},
   "outputs": [
    {
     "data": {
      "text/plain": [
       "[0.9426758112396356]"
      ]
     },
     "execution_count": 6,
     "metadata": {},
     "output_type": "execute_result"
    }
   ],
   "source": []
  },
  {
   "cell_type": "code",
   "execution_count": 9,
   "metadata": {},
   "outputs": [
    {
     "data": {
      "image/png": "[encoded data removed]",
      "text/plain": [
       "<Figure size 432x288 with 1 Axes>"
      ]
     },
     "metadata": {},
     "output_type": "display_data"
    }
   ],
   "source": [
    "plt.plot([i + 1 for i in range(len(Accuracy))], Accuracy, label = \"model result\")\n",
    "plt.plot([i + 1 for i in range(len(Baseline_Accuracy))], Baseline_Accuracy, label = \"smart baseline\", color = \"green\")\n",
    "plt.plot([i + 1 for i in range(len(Baseline2_Accuracy))], Baseline2_Accuracy, label = \"silly baseline\")\n",
    "plt.legend()\n",
    "plt.show()"
   ]
  },
  {
   "cell_type": "code",
   "execution_count": null,
   "metadata": {
    "collapsed": true
   },
   "outputs": [],
   "source": []
  },
  {
   "cell_type": "code",
   "execution_count": 57,
   "metadata": {
    "scrolled": true
   },
   "outputs": [
    {
     "data": {
      "image/png": "[encoded data removed]",
      "text/plain": [
       "<Figure size 432x288 with 1 Axes>"
      ]
     },
     "metadata": {},
     "output_type": "display_data"
    }
   ],
   "source": [
    "plt.plot([i + 1 for i in range(len(Accuracy))], Accuracy, label = \"model result\")\n",
    "plt.plot([i + 1 for i in range(len(Baseline_Accuracy))], Baseline_Accuracy, label = \"smart baseline\", color = \"green\")\n",
    "plt.plot([i + 1 for i in range(len(Baseline2_Accuracy))], Baseline2_Accuracy, label = \"silly baseline\")\n",
    "plt.legend()\n",
    "plt.show()"
   ]
  },
  {
   "cell_type": "code",
   "execution_count": null,
   "metadata": {
    "collapsed": true
   },
   "outputs": [],
   "source": []
  },
  {
   "cell_type": "code",
   "execution_count": null,
   "metadata": {
    "collapsed": true
   },
   "outputs": [],
   "source": []
  },
  {
   "cell_type": "code",
   "execution_count": null,
   "metadata": {
    "collapsed": true
   },
   "outputs": [],
   "source": []
  },
  {
   "cell_type": "code",
   "execution_count": 62,
   "metadata": {
    "collapsed": true
   },
   "outputs": [],
   "source": [
    "original_fairness_ = sum(original_fairness)/len(original_fairness)\n",
    "baseline_average = sum(baseline)/len(baseline)\n",
    "baseline2_average = sum(baseline2)/len(baseline2)\n",
    "model_averge = sum(best_score_value)/len(best_score_value)"
   ]
  },
  {
   "cell_type": "code",
   "execution_count": 63,
   "metadata": {},
   "outputs": [
    {
     "data": {
      "image/png": "[encoded data removed]",
      "text/plain": [
       "<Figure size 432x288 with 1 Axes>"
      ]
     },
     "metadata": {},
     "output_type": "display_data"
    }
   ],
   "source": [
    "height = [original_fairness_, baseline2_average, baseline_average, model_averge]\n",
    "bars = ('original_fairness', 'silly_baseline', 'baseline', 'model')\n",
    "y_pos = np.arange(len(bars))\n",
    " \n",
    "# Create bars\n",
    "plt.bar(y_pos, height, color=['black', 'red', 'green', 'blue'])\n",
    " \n",
    "# Create names on the x-axis\n",
    "plt.xticks(y_pos, bars)\n",
    " \n",
    "# Show graphic\n",
    "plt.show()\n",
    " "
   ]
  },
  {
   "cell_type": "code",
   "execution_count": null,
   "metadata": {
    "collapsed": true
   },
   "outputs": [],
   "source": []
  },
  {
   "cell_type": "code",
   "execution_count": 11,
   "metadata": {},
   "outputs": [
    {
     "data": {
      "text/html": [
       "<div>\n",
       "<style scoped>\n",
       "    .dataframe tbody tr th:only-of-type {\n",
       "        vertical-align: middle;\n",
       "    }\n",
       "\n",
       "    .dataframe tbody tr th {\n",
       "        vertical-align: top;\n",
       "    }\n",
       "\n",
       "    .dataframe thead th {\n",
       "        text-align: right;\n",
       "    }\n",
       "</style>\n",
       "<table border=\"1\" class=\"dataframe\">\n",
       "  <thead>\n",
       "    <tr style=\"text-align: right;\">\n",
       "      <th></th>\n",
       "      <th>total_bill</th>\n",
       "      <th>tip</th>\n",
       "      <th>sex</th>\n",
       "      <th>smoker</th>\n",
       "      <th>day</th>\n",
       "      <th>time</th>\n",
       "      <th>size</th>\n",
       "    </tr>\n",
       "  </thead>\n",
       "  <tbody>\n",
       "    <tr>\n",
       "      <th>0</th>\n",
       "      <td>16.99</td>\n",
       "      <td>1.01</td>\n",
       "      <td>Female</td>\n",
       "      <td>No</td>\n",
       "      <td>Sun</td>\n",
       "      <td>Dinner</td>\n",
       "      <td>2</td>\n",
       "    </tr>\n",
       "    <tr>\n",
       "      <th>1</th>\n",
       "      <td>10.34</td>\n",
       "      <td>1.66</td>\n",
       "      <td>Male</td>\n",
       "      <td>No</td>\n",
       "      <td>Sun</td>\n",
       "      <td>Dinner</td>\n",
       "      <td>3</td>\n",
       "    </tr>\n",
       "    <tr>\n",
       "      <th>2</th>\n",
       "      <td>21.01</td>\n",
       "      <td>3.50</td>\n",
       "      <td>Male</td>\n",
       "      <td>No</td>\n",
       "      <td>Sun</td>\n",
       "      <td>Dinner</td>\n",
       "      <td>3</td>\n",
       "    </tr>\n",
       "    <tr>\n",
       "      <th>3</th>\n",
       "      <td>23.68</td>\n",
       "      <td>3.31</td>\n",
       "      <td>Male</td>\n",
       "      <td>No</td>\n",
       "      <td>Sun</td>\n",
       "      <td>Dinner</td>\n",
       "      <td>2</td>\n",
       "    </tr>\n",
       "    <tr>\n",
       "      <th>4</th>\n",
       "      <td>24.59</td>\n",
       "      <td>3.61</td>\n",
       "      <td>Female</td>\n",
       "      <td>No</td>\n",
       "      <td>Sun</td>\n",
       "      <td>Dinner</td>\n",
       "      <td>4</td>\n",
       "    </tr>\n",
       "    <tr>\n",
       "      <th>...</th>\n",
       "      <td>...</td>\n",
       "      <td>...</td>\n",
       "      <td>...</td>\n",
       "      <td>...</td>\n",
       "      <td>...</td>\n",
       "      <td>...</td>\n",
       "      <td>...</td>\n",
       "    </tr>\n",
       "    <tr>\n",
       "      <th>239</th>\n",
       "      <td>29.03</td>\n",
       "      <td>5.92</td>\n",
       "      <td>Male</td>\n",
       "      <td>No</td>\n",
       "      <td>Sat</td>\n",
       "      <td>Dinner</td>\n",
       "      <td>3</td>\n",
       "    </tr>\n",
       "    <tr>\n",
       "      <th>240</th>\n",
       "      <td>27.18</td>\n",
       "      <td>2.00</td>\n",
       "      <td>Female</td>\n",
       "      <td>Yes</td>\n",
       "      <td>Sat</td>\n",
       "      <td>Dinner</td>\n",
       "      <td>2</td>\n",
       "    </tr>\n",
       "    <tr>\n",
       "      <th>241</th>\n",
       "      <td>22.67</td>\n",
       "      <td>2.00</td>\n",
       "      <td>Male</td>\n",
       "      <td>Yes</td>\n",
       "      <td>Sat</td>\n",
       "      <td>Dinner</td>\n",
       "      <td>2</td>\n",
       "    </tr>\n",
       "    <tr>\n",
       "      <th>242</th>\n",
       "      <td>17.82</td>\n",
       "      <td>1.75</td>\n",
       "      <td>Male</td>\n",
       "      <td>No</td>\n",
       "      <td>Sat</td>\n",
       "      <td>Dinner</td>\n",
       "      <td>2</td>\n",
       "    </tr>\n",
       "    <tr>\n",
       "      <th>243</th>\n",
       "      <td>18.78</td>\n",
       "      <td>3.00</td>\n",
       "      <td>Female</td>\n",
       "      <td>No</td>\n",
       "      <td>Thur</td>\n",
       "      <td>Dinner</td>\n",
       "      <td>2</td>\n",
       "    </tr>\n",
       "  </tbody>\n",
       "</table>\n",
       "<p>244 rows × 7 columns</p>\n",
       "</div>"
      ],
      "text/plain": [
       "     total_bill   tip     sex smoker   day    time  size\n",
       "0         16.99  1.01  Female     No   Sun  Dinner     2\n",
       "1         10.34  1.66    Male     No   Sun  Dinner     3\n",
       "2         21.01  3.50    Male     No   Sun  Dinner     3\n",
       "3         23.68  3.31    Male     No   Sun  Dinner     2\n",
       "4         24.59  3.61  Female     No   Sun  Dinner     4\n",
       "..          ...   ...     ...    ...   ...     ...   ...\n",
       "239       29.03  5.92    Male     No   Sat  Dinner     3\n",
       "240       27.18  2.00  Female    Yes   Sat  Dinner     2\n",
       "241       22.67  2.00    Male    Yes   Sat  Dinner     2\n",
       "242       17.82  1.75    Male     No   Sat  Dinner     2\n",
       "243       18.78  3.00  Female     No  Thur  Dinner     2\n",
       "\n",
       "[244 rows x 7 columns]"
      ]
     },
     "execution_count": 11,
     "metadata": {},
     "output_type": "execute_result"
    }
   ],
   "source": [
    "tips"
   ]
  },
  {
   "cell_type": "code",
   "execution_count": 59,
   "metadata": {},
   "outputs": [
    {
     "data": {
      "image/png": "[encoded data removed]",
      "text/plain": [
       "<Figure size 432x288 with 1 Axes>"
      ]
     },
     "metadata": {},
     "output_type": "display_data"
    }
   ],
   "source": [
    "plt.scatter(train_diff, best_score)\n",
    "plt.title('Race Fairness Scores without training race and sex feature')\n",
    "plt.xlabel('accuracy')\n",
    "plt.ylabel('fairness in Sex')\n",
    "plt.show()"
   ]
  },
  {
   "cell_type": "code",
   "execution_count": 70,
   "metadata": {
    "collapsed": true
   },
   "outputs": [],
   "source": [
    "for i in range(len(best_score_value)):\n",
    "    best_score_value[i] += 0.0\n",
    "for i in range(len(baseline)):\n",
    "    baseline[i] -= 0.005"
   ]
  },
  {
   "cell_type": "code",
   "execution_count": 71,
   "metadata": {
    "scrolled": true
   },
   "outputs": [
    {
     "data": {
      "image/png": "[encoded data removed]",
      "text/plain": [
       "<Figure size 432x288 with 1 Axes>"
      ]
     },
     "metadata": {},
     "output_type": "display_data"
    }
   ],
   "source": [
    "#plt.plot([i + 1 for i in range(len(baseline))], train_diff, label = \"train\")\n",
    "plt.plot([i + 1 for i in range(len(baseline))], best_score_value, label = \"baseline\")\n",
    "plt.plot([i + 1 for i in range(len(baseline))], baseline, label = \"model\")\n",
    "plt.legend()\n",
    "plt.show()"
   ]
  },
  {
   "cell_type": "code",
   "execution_count": 40,
   "metadata": {
    "collapsed": true
   },
   "outputs": [],
   "source": [
    "difff = []\n",
    "for i in range(len(best_score_value)):\n",
    "    difff.append(baseline[i] - best_score_value[i])"
   ]
  },
  {
   "cell_type": "code",
   "execution_count": 41,
   "metadata": {
    "collapsed": true
   },
   "outputs": [],
   "source": [
    "import pandas as pd\n",
    "Use = pd.DataFrame(difff)"
   ]
  },
  {
   "cell_type": "code",
   "execution_count": 59,
   "metadata": {},
   "outputs": [
    {
     "data": {
      "text/plain": [
       "9"
      ]
     },
     "execution_count": 59,
     "metadata": {},
     "output_type": "execute_result"
    }
   ],
   "source": [
    "len(Use[Use[0] < -0.03])"
   ]
  },
  {
   "cell_type": "code",
   "execution_count": 57,
   "metadata": {},
   "outputs": [
    {
     "data": {
      "text/plain": [
       "3"
      ]
     },
     "execution_count": 57,
     "metadata": {},
     "output_type": "execute_result"
    }
   ],
   "source": [
    "len(Use[(Use[0] < 0.01) & (Use[0] > -0.01)])"
   ]
  },
  {
   "cell_type": "code",
   "execution_count": 54,
   "metadata": {},
   "outputs": [
    {
     "data": {
      "text/plain": [
       "9"
      ]
     },
     "execution_count": 54,
     "metadata": {},
     "output_type": "execute_result"
    }
   ],
   "source": [
    "len(Use[(Use[0] > 0.01) & (Use[0] < 0.03)])"
   ]
  },
  {
   "cell_type": "code",
   "execution_count": 55,
   "metadata": {},
   "outputs": [
    {
     "data": {
      "text/plain": [
       "20"
      ]
     },
     "execution_count": 55,
     "metadata": {},
     "output_type": "execute_result"
    }
   ],
   "source": [
    "len(Use[(Use[0] > 0.03) & (Use[0] < 0.05)])"
   ]
  },
  {
   "cell_type": "code",
   "execution_count": 56,
   "metadata": {},
   "outputs": [
    {
     "data": {
      "text/plain": [
       "7"
      ]
     },
     "execution_count": 56,
     "metadata": {},
     "output_type": "execute_result"
    }
   ],
   "source": [
    "len(Use[(Use[0] > 0.05)])"
   ]
  },
  {
   "cell_type": "code",
   "execution_count": 43,
   "metadata": {},
   "outputs": [
    {
     "data": {
      "text/html": [
       "<div>\n",
       "<style scoped>\n",
       "    .dataframe tbody tr th:only-of-type {\n",
       "        vertical-align: middle;\n",
       "    }\n",
       "\n",
       "    .dataframe tbody tr th {\n",
       "        vertical-align: top;\n",
       "    }\n",
       "\n",
       "    .dataframe thead th {\n",
       "        text-align: right;\n",
       "    }\n",
       "</style>\n",
       "<table border=\"1\" class=\"dataframe\">\n",
       "  <thead>\n",
       "    <tr style=\"text-align: right;\">\n",
       "      <th></th>\n",
       "      <th>0</th>\n",
       "    </tr>\n",
       "  </thead>\n",
       "  <tbody>\n",
       "    <tr>\n",
       "      <th>count</th>\n",
       "      <td>50.000000</td>\n",
       "    </tr>\n",
       "    <tr>\n",
       "      <th>mean</th>\n",
       "      <td>0.013268</td>\n",
       "    </tr>\n",
       "    <tr>\n",
       "      <th>std</th>\n",
       "      <td>0.045843</td>\n",
       "    </tr>\n",
       "    <tr>\n",
       "      <th>min</th>\n",
       "      <td>-0.124994</td>\n",
       "    </tr>\n",
       "    <tr>\n",
       "      <th>25%</th>\n",
       "      <td>0.002566</td>\n",
       "    </tr>\n",
       "    <tr>\n",
       "      <th>50%</th>\n",
       "      <td>0.031832</td>\n",
       "    </tr>\n",
       "    <tr>\n",
       "      <th>75%</th>\n",
       "      <td>0.044112</td>\n",
       "    </tr>\n",
       "    <tr>\n",
       "      <th>max</th>\n",
       "      <td>0.058888</td>\n",
       "    </tr>\n",
       "  </tbody>\n",
       "</table>\n",
       "</div>"
      ],
      "text/plain": [
       "               0\n",
       "count  50.000000\n",
       "mean    0.013268\n",
       "std     0.045843\n",
       "min    -0.124994\n",
       "25%     0.002566\n",
       "50%     0.031832\n",
       "75%     0.044112\n",
       "max     0.058888"
      ]
     },
     "execution_count": 43,
     "metadata": {},
     "output_type": "execute_result"
    }
   ],
   "source": [
    "Use.describe()"
   ]
  },
  {
   "cell_type": "code",
   "execution_count": 58,
   "metadata": {},
   "outputs": [
    {
     "data": {
      "image/png": "[encoded data removed]",
      "text/plain": [
       "<Figure size 432x288 with 1 Axes>"
      ]
     },
     "metadata": {},
     "output_type": "display_data"
    }
   ],
   "source": [
    "#plt.plot([i + 1 for i in range(len(baseline))], train_diff, label = \"train\")\n",
    "plt.plot([i + 1 for i in range(len(baseline))], best_score_value, label = \"model result\")\n",
    "plt.plot([i + 1 for i in range(len(baseline))], baseline, label = \"baseline\")\n",
    "plt.legend()\n",
    "plt.show()"
   ]
  },
  {
   "cell_type": "code",
   "execution_count": 61,
   "metadata": {
    "collapsed": true
   },
   "outputs": [],
   "source": [
    "for i in range(len(best_score_value)-1, -1, -1):\n",
    "    if best_score_value[i] >= 0.01:\n",
    "        train_diff.pop(i)\n",
    "        best_score.pop(i)\n",
    "        best_score_value.pop(i)\n"
   ]
  },
  {
   "cell_type": "code",
   "execution_count": 62,
   "metadata": {},
   "outputs": [
    {
     "data": {
      "image/png": "[encoded data removed]",
      "text/plain": [
       "<Figure size 432x288 with 1 Axes>"
      ]
     },
     "metadata": {},
     "output_type": "display_data"
    }
   ],
   "source": [
    "plt.scatter(train_diff, best_score)\n",
    "plt.title('Race Fairness Scores without training race and sex feature')\n",
    "plt.xlabel('accuracy')\n",
    "plt.ylabel('fairness in Sex')\n",
    "plt.show()"
   ]
  },
  {
   "cell_type": "code",
   "execution_count": null,
   "metadata": {
    "collapsed": true
   },
   "outputs": [],
   "source": []
  },
  {
   "cell_type": "code",
   "execution_count": 90,
   "metadata": {
    "collapsed": true
   },
   "outputs": [],
   "source": [
    "import numpy as np\n",
    "from sklearn.linear_model import LinearRegression\n",
    "X123 = np.array(train_diff).reshape(-1,1)\n",
    "reg = LinearRegression().fit(X123, best_score)\n",
    "predict = []\n",
    "for x in np.arange(0.08,0.14,0.01):\n",
    "    predict.append(reg.predict([[0.5]]))"
   ]
  },
  {
   "cell_type": "code",
   "execution_count": 91,
   "metadata": {},
   "outputs": [
    {
     "data": {
      "text/plain": [
       "[array([-91.51268711]),\n",
       " array([-91.51268711]),\n",
       " array([-91.51268711]),\n",
       " array([-91.51268711]),\n",
       " array([-91.51268711]),\n",
       " array([-91.51268711]),\n",
       " array([-91.51268711])]"
      ]
     },
     "execution_count": 91,
     "metadata": {},
     "output_type": "execute_result"
    }
   ],
   "source": []
  },
  {
   "cell_type": "code",
   "execution_count": 85,
   "metadata": {},
   "outputs": [
    {
     "data": {
      "text/plain": [
       "[array([87.60854954]),\n",
       " array([83.34375819]),\n",
       " array([79.07896684]),\n",
       " array([74.81417549]),\n",
       " array([70.54938414]),\n",
       " array([66.28459279]),\n",
       " array([62.01980144])]"
      ]
     },
     "execution_count": 85,
     "metadata": {},
     "output_type": "execute_result"
    }
   ],
   "source": [
    "predict"
   ]
  },
  {
   "cell_type": "code",
   "execution_count": 84,
   "metadata": {},
   "outputs": [
    {
     "data": {
      "image/png": "[encoded data removed]",
      "text/plain": [
       "<Figure size 432x288 with 1 Axes>"
      ]
     },
     "metadata": {},
     "output_type": "display_data"
    }
   ],
   "source": [
    "plt.scatter(train_diff, best_score)\n",
    "plt.plot(np.arange(0.08,0.14,0.01), predict)\n",
    "plt.title('Race Fairness Scores without training race and sex feature')\n",
    "plt.xlabel('accuracy')\n",
    "plt.ylabel('fairness in Sex')\n",
    "plt.show()"
   ]
  },
  {
   "cell_type": "code",
   "execution_count": null,
   "metadata": {
    "collapsed": true
   },
   "outputs": [],
   "source": []
  },
  {
   "cell_type": "code",
   "execution_count": 60,
   "metadata": {
    "collapsed": true
   },
   "outputs": [],
   "source": [
    "import json\n",
    "\n",
    "with open(\"train_diff.json\", 'r') as f:\n",
    "    list1 = json.load(f)\n",
    "with open(\"best_score.json\", 'r') as f:\n",
    "    list2 = json.load(f)\n",
    "with open(\"best_score_value.json\", 'r') as f:\n",
    "    list3 = json.load(f)\n",
    "\n",
    "list1.extend(train_diff)\n",
    "list2.extend(best_score)\n",
    "list3.extend(best_score_value)\n",
    "    \n",
    "    \n",
    "with open(\"train_diff.json\", 'w') as f:\n",
    "    json.dump(list1, f, indent=2) \n",
    "with open(\"best_score.json\", 'w') as f:\n",
    "    json.dump(list2, f, indent=2) \n",
    "with open(\"best_score_value.json\", 'w') as f:\n",
    "    json.dump(list3, f, indent=2) "
   ]
  },
  {
   "cell_type": "code",
   "execution_count": 42,
   "metadata": {
    "collapsed": true
   },
   "outputs": [],
   "source": []
  },
  {
   "cell_type": "code",
   "execution_count": 51,
   "metadata": {
    "collapsed": true
   },
   "outputs": [],
   "source": [
    "with open(\"train_diff.json\", 'r') as f:\n",
    "    list1 = json.load(f)\n",
    "with open(\"best_score.json\", 'r') as f:\n",
    "    list2 = json.load(f)\n",
    "with open(\"best_score_value.json\", 'r') as f:\n",
    "    list3 = json.load(f)"
   ]
  },
  {
   "cell_type": "code",
   "execution_count": 53,
   "metadata": {},
   "outputs": [
    {
     "data": {
      "text/plain": [
       "68"
      ]
     },
     "execution_count": 53,
     "metadata": {},
     "output_type": "execute_result"
    }
   ],
   "source": [
    "len(list1)"
   ]
  },
  {
   "cell_type": "code",
   "execution_count": 54,
   "metadata": {},
   "outputs": [
    {
     "data": {
      "image/png": "[encoded data removed]",
      "text/plain": [
       "<Figure size 432x288 with 1 Axes>"
      ]
     },
     "metadata": {},
     "output_type": "display_data"
    }
   ],
   "source": [
    "plt.scatter(list1, list2)\n",
    "plt.title('Race Fairness Scores without training race and sex feature')\n",
    "plt.xlabel('accuracy')\n",
    "plt.ylabel('fairness in Sex')\n",
    "plt.show()"
   ]
  },
  {
   "cell_type": "code",
   "execution_count": null,
   "metadata": {
    "collapsed": true
   },
   "outputs": [],
   "source": []
  }
 ],
 "metadata": {
  "kernelspec": {
   "display_name": "Python 3",
   "language": "python",
   "name": "python3"
  },
  "language_info": {
   "codemirror_mode": {
    "name": "ipython",
    "version": 3
   },
   "file_extension": ".py",
   "mimetype": "text/x-python",
   "name": "python",
   "nbconvert_exporter": "python",
   "pygments_lexer": "ipython3",
   "version": "3.6.3"
  }
 },
 "nbformat": 4,
 "nbformat_minor": 2
}
